{
  "metadata" : {
    "config" : {
      "dependencies" : {
        "scala" : [
          "ch.zzeekk.spark.temporalquery"
        ]
      },
      "exclusions" : [
      ],
      "repositories" : [
      ],
      "sparkConfig" : {
        "spark.ui.port" : "4140",
        "spark.sql.catalog.spark_catalog" : "org.apache.spark.sql.delta.catalog.DeltaCatalog",
        "spark.hadoop.javax.jdo.option.ConnectionDriverName" : "org.apache.derby.jdbc.ClientDriver",
        "spark.hadoop.javax.jdo.option.ConnectionPassword" : "1234",
        "spark.hadoop.javax.jdo.option.ConnectionURL" : "jdbc:derby://metastore:1527/db;create=true",
        "spark.hadoop.javax.jdo.option.ConnectionUserName" : "sa",
        "spark.sql.extensions" : "io.delta.sql.DeltaSparkSessionExtension"
      },
      "env" : {
        
      }
    },
    "language_info" : {
      "name" : "scala"
    }
  },
  "nbformat" : 4,
  "nbformat_minor" : 0,
  "cells" : [
    {
      "cell_type" : "markdown",
      "execution_count" : 0,
      "metadata" : {
        "language" : "text"
      },
      "language" : "text",
      "source" : [
        "# MonthInCantons\n",
        "\n",
        "This is a text cell. Start editing!"
      ],
      "outputs" : [
      ]
    },
    {
      "cell_type" : "code",
      "execution_count" : 1,
      "metadata" : {
        "cell.metadata.exec_info" : {
          "startTs" : 1656050785472,
          "endTs" : 1656050785530
        },
        "language" : "scala"
      },
      "language" : "scala",
      "source" : [
        "import ch.zzeekk.spark.temporalquery.TemporalQueryUtil._"
      ],
      "outputs" : [
        {
          "execution_count" : 1,
          "data" : {
            "application/json" : [
              {
                "pos" : {
                  "sourceId" : "Cell1",
                  "start" : 7,
                  "end" : 9,
                  "point" : 7
                },
                "msg" : "not found: value ch",
                "severity" : 2
              }
            ],
            "text/plain" : [
              "Error: not found: value ch (7)"
            ]
          },
          "metadata" : {
            "rel" : "compiler_errors"
          },
          "output_type" : "execute_result"
        }
      ]
    }
  ]
}