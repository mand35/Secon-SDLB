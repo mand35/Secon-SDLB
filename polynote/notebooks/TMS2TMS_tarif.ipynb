{
  "metadata" : {
    "config" : {
      "dependencies" : {
        
      },
      "exclusions" : [
      ],
      "repositories" : [
      ],
      "sparkConfig" : {
        "spark.ui.port" : "4140",
        "spark.sql.catalog.spark_catalog" : "org.apache.spark.sql.delta.catalog.DeltaCatalog",
        "spark.hadoop.javax.jdo.option.ConnectionDriverName" : "org.apache.derby.jdbc.ClientDriver",
        "spark.hadoop.javax.jdo.option.ConnectionPassword" : "1234",
        "spark.hadoop.javax.jdo.option.ConnectionURL" : "jdbc:derby://metastore:1527/db;create=true",
        "spark.hadoop.javax.jdo.option.ConnectionUserName" : "sa",
        "spark.sql.extensions" : "io.delta.sql.DeltaSparkSessionExtension"
      },
      "env" : {
        
      }
    },
    "language_info" : {
      "name" : "scala"
    }
  },
  "nbformat" : 4,
  "nbformat_minor" : 0,
  "cells" : [
    {
      "cell_type" : "markdown",
      "execution_count" : 0,
      "metadata" : {
        "language" : "text"
      },
      "language" : "text",
      "source" : [
        "# TMS tariff\n",
        "\n",
        "\n",
        "This is a text cell. Start editing!\n",
        "\n",
        "\n"
      ],
      "outputs" : [
      ]
    },
    {
      "cell_type" : "code",
      "execution_count" : 1,
      "metadata" : {
        "cell.metadata.exec_info" : {
          "startTs" : 1656492295103,
          "endTs" : 1656492303478
        },
        "language" : "scala"
      },
      "language" : "scala",
      "source" : [
        "spark.catalog.listTables.show(false)"
      ],
      "outputs" : [
        {
          "name" : "stdout",
          "text" : [
            "+------------------+--------+-----------+---------+-----------+\n",
            "|name              |database|description|tableType|isTemporary|\n",
            "+------------------+--------+-----------+---------+-----------+\n",
            "|btl_ra_data       |default |null       |EXTERNAL |false      |\n",
            "|raw_tarif_init    |default |null       |EXTERNAL |false      |\n",
            "|raw_tarif_update  |default |null       |EXTERNAL |false      |\n",
            "|stg_aufenthaltsart|default |null       |EXTERNAL |false      |\n",
            "|stg_deckung       |default |null       |EXTERNAL |false      |\n",
            "|stg_ecdetail      |default |null       |EXTERNAL |false      |\n",
            "|stg_eckopf        |default |null       |EXTERNAL |false      |\n",
            "|stg_ecprodukt     |default |null       |EXTERNAL |false      |\n",
            "|stg_familie       |default |null       |EXTERNAL |false      |\n",
            "|stg_gemeinde      |default |null       |EXTERNAL |false      |\n",
            "|stg_leipkopf      |default |null       |EXTERNAL |false      |\n",
            "|stg_leippos       |default |null       |EXTERNAL |false      |\n",
            "|stg_schadenart    |default |null       |EXTERNAL |false      |\n",
            "|stg_tarif_init    |default |null       |EXTERNAL |false      |\n",
            "|stg_tariffaktor   |default |null       |EXTERNAL |false      |\n",
            "|stg_versdeckung   |default |null       |EXTERNAL |false      |\n",
            "|stg_versicherter  |default |null       |EXTERNAL |false      |\n",
            "+------------------+--------+-----------+---------+-----------+\n",
            "\n"
          ],
          "output_type" : "stream"
        }
      ]
    },
    {
      "cell_type" : "code",
      "execution_count" : 2,
      "metadata" : {
        "cell.metadata.exec_info" : {
          "startTs" : 1656492303542,
          "endTs" : 1656492316141
        },
        "language" : "scala"
      },
      "language" : "scala",
      "source" : [
        "spark.table(\"default.raw_tarif_init\").printSchema"
      ],
      "outputs" : [
        {
          "name" : "stdout",
          "text" : [
            "root\n",
            " |-- _xmlns: string (nullable = true)\n",
            " |-- _xmlns:TMS: string (nullable = true)\n",
            " |-- _xmlns:xsi: string (nullable = true)\n",
            " |-- _xsi:schemaLocation: string (nullable = true)\n",
            " |-- header: struct (nullable = true)\n",
            " |    |-- _VALUE: string (nullable = true)\n",
            " |    |-- _exportedAt: timestamp (nullable = true)\n",
            " |    |-- _mandators: string (nullable = true)\n",
            " |    |-- _numberOfElements: long (nullable = true)\n",
            " |    |-- _tariffDescriptor: long (nullable = true)\n",
            " |-- initialLoad: struct (nullable = true)\n",
            " |    |-- _knownAt: timestamp (nullable = true)\n",
            " |    |-- tariffNodes: struct (nullable = true)\n",
            " |    |    |-- tariffNode: struct (nullable = true)\n",
            " |    |    |    |-- _businessDescriptor: string (nullable = true)\n",
            " |    |    |    |-- _nodeType: string (nullable = true)\n",
            " |    |    |    |-- _parent: long (nullable = true)\n",
            " |    |    |    |-- _parentNodeType: string (nullable = true)\n",
            " |    |    |    |-- _validFrom: date (nullable = true)\n",
            " |    |    |    |-- _validTo: date (nullable = true)\n",
            " |    |    |    |-- descriptions: struct (nullable = true)\n",
            " |    |    |    |    |-- description: array (nullable = true)\n",
            " |    |    |    |    |    |-- element: struct (containsNull = true)\n",
            " |    |    |    |    |    |    |-- _language: string (nullable = true)\n",
            " |    |    |    |    |    |    |-- summary: string (nullable = true)\n",
            " |    |    |    |-- tariffNodes: struct (nullable = true)\n",
            " |    |    |    |    |-- tariffNode: struct (nullable = true)\n",
            " |    |    |    |    |    |-- _businessDescriptor: string (nullable = true)\n",
            " |    |    |    |    |    |-- _nodeType: string (nullable = true)\n",
            " |    |    |    |    |    |-- _parent: string (nullable = true)\n",
            " |    |    |    |    |    |-- _parentNodeType: string (nullable = true)\n",
            " |    |    |    |    |    |-- _validFrom: date (nullable = true)\n",
            " |    |    |    |    |    |-- _validTo: date (nullable = true)\n",
            " |    |    |    |    |    |-- descriptions: struct (nullable = true)\n",
            " |    |    |    |    |    |    |-- description: array (nullable = true)\n",
            " |    |    |    |    |    |    |    |-- element: struct (containsNull = true)\n",
            " |    |    |    |    |    |    |    |    |-- _language: string (nullable = true)\n",
            " |    |    |    |    |    |    |    |    |-- summary: string (nullable = true)\n",
            " |    |    |    |    |    |-- tariffNodes: struct (nullable = true)\n",
            " |    |    |    |    |    |    |-- tariffNode: struct (nullable = true)\n",
            " |    |    |    |    |    |    |    |-- _businessDescriptor: string (nullable = true)\n",
            " |    |    |    |    |    |    |    |-- _nodeType: string (nullable = true)\n",
            " |    |    |    |    |    |    |    |-- _parent: string (nullable = true)\n",
            " |    |    |    |    |    |    |    |-- _parentNodeType: string (nullable = true)\n",
            " |    |    |    |    |    |    |    |-- _validFrom: date (nullable = true)\n",
            " |    |    |    |    |    |    |    |-- _validTo: date (nullable = true)\n",
            " |    |    |    |    |    |    |    |-- descriptions: struct (nullable = true)\n",
            " |    |    |    |    |    |    |    |    |-- description: array (nullable = true)\n",
            " |    |    |    |    |    |    |    |    |    |-- element: struct (containsNull = true)\n",
            " |    |    |    |    |    |    |    |    |    |    |-- _language: string (nullable = true)\n",
            " |    |    |    |    |    |    |    |    |    |    |-- summary: string (nullable = true)\n",
            " |    |    |    |    |    |    |    |-- tariffNodes: struct (nullable = true)\n",
            " |    |    |    |    |    |    |    |    |-- tariffNode: struct (nullable = true)\n",
            " |    |    |    |    |    |    |    |    |    |-- _businessDescriptor: string (nullable = true)\n",
            " |    |    |    |    |    |    |    |    |    |-- _nodeType: string (nullable = true)\n",
            " |    |    |    |    |    |    |    |    |    |-- _parent: string (nullable = true)\n",
            " |    |    |    |    |    |    |    |    |    |-- _parentNodeType: string (nullable = true)\n",
            " |    |    |    |    |    |    |    |    |    |-- _validFrom: date (nullable = true)\n",
            " |    |    |    |    |    |    |    |    |    |-- _validTo: date (nullable = true)\n",
            " |    |    |    |    |    |    |    |    |    |-- descriptions: struct (nullable = true)\n",
            " |    |    |    |    |    |    |    |    |    |    |-- description: array (nullable = true)\n",
            " |    |    |    |    |    |    |    |    |    |    |    |-- element: struct (containsNull = true)\n",
            " |    |    |    |    |    |    |    |    |    |    |    |    |-- _language: string (nullable = true)\n",
            " |    |    |    |    |    |    |    |    |    |    |    |    |-- summary: string (nullable = true)\n",
            " |    |    |    |    |    |    |    |    |    |-- tariffNodes: struct (nullable = true)\n",
            " |    |    |    |    |    |    |    |    |    |    |-- tariffNode: struct (nullable = true)\n",
            " |    |    |    |    |    |    |    |    |    |    |    |-- _businessDescriptor: string (nullable = true)\n",
            " |    |    |    |    |    |    |    |    |    |    |    |-- _nodeType: string (nullable = true)\n",
            " |    |    |    |    |    |    |    |    |    |    |    |-- _parent: string (nullable = true)\n",
            " |    |    |    |    |    |    |    |    |    |    |    |-- _parentNodeType: string (nullable = true)\n",
            " |    |    |    |    |    |    |    |    |    |    |    |-- _validFrom: date (nullable = true)\n",
            " |    |    |    |    |    |    |    |    |    |    |    |-- _validTo: date (nullable = true)\n",
            " |    |    |    |    |    |    |    |    |    |    |    |-- descriptions: struct (nullable = true)\n",
            " |    |    |    |    |    |    |    |    |    |    |    |    |-- description: array (nullable = true)\n",
            " |    |    |    |    |    |    |    |    |    |    |    |    |    |-- element: struct (containsNull = true)\n",
            " |    |    |    |    |    |    |    |    |    |    |    |    |    |    |-- _language: string (nullable = true)\n",
            " |    |    |    |    |    |    |    |    |    |    |    |    |    |    |-- summary: string (nullable = true)\n",
            " |    |    |    |    |    |    |    |    |    |    |    |-- tariffNodes: struct (nullable = true)\n",
            " |    |    |    |    |    |    |    |    |    |    |    |    |-- tariffNode: array (nullable = true)\n",
            " |    |    |    |    |    |    |    |    |    |    |    |    |    |-- element: struct (containsNull = true)\n",
            " |    |    |    |    |    |    |    |    |    |    |    |    |    |    |-- _businessDescriptor: long (nullable = true)\n",
            " |    |    |    |    |    |    |    |    |    |    |    |    |    |    |-- _nodeType: string (nullable = true)\n",
            " |    |    |    |    |    |    |    |    |    |    |    |    |    |    |-- _parent: string (nullable = true)\n",
            " |    |    |    |    |    |    |    |    |    |    |    |    |    |    |-- _parentNodeType: string (nullable = true)\n",
            " |    |    |    |    |    |    |    |    |    |    |    |    |    |    |-- _validFrom: date (nullable = true)\n",
            " |    |    |    |    |    |    |    |    |    |    |    |    |    |    |-- _validTo: date (nullable = true)\n",
            " |    |    |    |    |    |    |    |    |    |    |    |    |    |    |-- descriptions: struct (nullable = true)\n",
            " |    |    |    |    |    |    |    |    |    |    |    |    |    |    |    |-- description: array (nullable = true)\n",
            " |    |    |    |    |    |    |    |    |    |    |    |    |    |    |    |    |-- element: struct (containsNull = true)\n",
            " |    |    |    |    |    |    |    |    |    |    |    |    |    |    |    |    |    |-- _language: string (nullable = true)\n",
            " |    |    |    |    |    |    |    |    |    |    |    |    |    |    |    |    |    |-- summary: string (nullable = true)\n",
            " |    |    |    |    |    |    |    |    |    |    |    |    |    |    |-- galDat: struct (nullable = true)\n",
            " |    |    |    |    |    |    |    |    |    |    |    |    |    |    |    |-- galDatBarcodes: struct (nullable = true)\n",
            " |    |    |    |    |    |    |    |    |    |    |    |    |    |    |    |    |-- galDatBarcode: array (nullable = true)\n",
            " |    |    |    |    |    |    |    |    |    |    |    |    |    |    |    |    |    |-- element: struct (containsNull = true)\n",
            " |    |    |    |    |    |    |    |    |    |    |    |    |    |    |    |    |    |    |-- _VALUE: string (nullable = true)\n",
            " |    |    |    |    |    |    |    |    |    |    |    |    |    |    |    |    |    |    |-- _barcode: long (nullable = true)\n",
            " |    |    |    |    |    |    |    |    |    |    |    |    |    |    |    |    |    |    |-- _codeType: string (nullable = true)\n",
            " |    |    |    |    |    |    |    |    |    |    |    |    |    |    |    |    |    |    |-- _status: string (nullable = true)\n",
            " |    |    |    |    |    |    |    |    |    |    |    |    |    |    |    |-- galDatMain: struct (nullable = true)\n",
            " |    |    |    |    |    |    |    |    |    |    |    |    |    |    |    |    |-- _VALUE: string (nullable = true)\n",
            " |    |    |    |    |    |    |    |    |    |    |    |    |    |    |    |    |-- _assortKey1: string (nullable = true)\n",
            " |    |    |    |    |    |    |    |    |    |    |    |    |    |    |    |    |-- _companyGln: long (nullable = true)\n",
            " |    |    |    |    |    |    |    |    |    |    |    |    |    |    |    |    |-- _companyName: string (nullable = true)\n",
            " |    |    |    |    |    |    |    |    |    |    |    |    |    |    |    |    |-- _genericGroup: string (nullable = true)\n",
            " |    |    |    |    |    |    |    |    |    |    |    |    |    |    |    |    |-- _ggl: string (nullable = true)\n",
            " |    |    |    |    |    |    |    |    |    |    |    |    |    |    |    |    |-- _grdFrCode: long (nullable = true)\n",
            " |    |    |    |    |    |    |    |    |    |    |    |    |    |    |    |    |-- _groupCode: string (nullable = true)\n",
            " |    |    |    |    |    |    |    |    |    |    |    |    |    |    |    |    |-- _insCode: long (nullable = true)\n",
            " |    |    |    |    |    |    |    |    |    |    |    |    |    |    |    |    |-- _loaCode: string (nullable = true)\n",
            " |    |    |    |    |    |    |    |    |    |    |    |    |    |    |    |    |-- _newInsuranceCode: long (nullable = true)\n",
            " |    |    |    |    |    |    |    |    |    |    |    |    |    |    |    |    |-- _numOfPce: long (nullable = true)\n",
            " |    |    |    |    |    |    |    |    |    |    |    |    |    |    |    |    |-- _swissmedicCat: string (nullable = true)\n",
            " |    |    |    |    |    |    |    |    |    |    |    |    |    |    |    |    |-- _swissmedicDate: date (nullable = true)\n",
            " |    |    |    |    |    |    |    |    |    |    |    |    |    |    |    |    |-- _swissmedicKey: long (nullable = true)\n",
            " |    |    |    |    |    |    |    |    |    |    |    |    |    |    |    |-- galDatMedicalInfo: struct (nullable = true)\n",
            " |    |    |    |    |    |    |    |    |    |    |    |    |    |    |    |    |-- _VALUE: string (nullable = true)\n",
            " |    |    |    |    |    |    |    |    |    |    |    |    |    |    |    |    |-- _atcKey: string (nullable = true)\n",
            " |    |    |    |    |    |    |    |    |    |    |    |    |    |    |    |    |-- _therapKey1: string (nullable = true)\n",
            " |    |    |    |    |    |    |    |    |    |    |    |    |    |    |    |-- galDatNames: struct (nullable = true)\n",
            " |    |    |    |    |    |    |    |    |    |    |    |    |    |    |    |    |-- galDatName: struct (nullable = true)\n",
            " |    |    |    |    |    |    |    |    |    |    |    |    |    |    |    |    |    |-- _VALUE: string (nullable = true)\n",
            " |    |    |    |    |    |    |    |    |    |    |    |    |    |    |    |    |    |-- _langCode: string (nullable = true)\n",
            " |    |    |    |    |    |    |    |    |    |    |    |    |    |    |    |    |    |-- _multipl: long (nullable = true)\n",
            " |    |    |    |    |    |    |    |    |    |    |    |    |    |    |    |    |    |-- _qty: double (nullable = true)\n",
            " |    |    |    |    |    |    |    |    |    |    |    |    |    |    |    |    |    |-- _qtyUnit: string (nullable = true)\n",
            " |    |-- tariffRoot: struct (nullable = true)\n",
            " |    |    |-- _tariffDescriptor: long (nullable = true)\n",
            " |    |    |-- _validFrom: date (nullable = true)\n",
            " |    |    |-- _validTo: date (nullable = true)\n",
            " |    |    |-- descriptions: struct (nullable = true)\n",
            " |    |    |    |-- description: array (nullable = true)\n",
            " |    |    |    |    |-- element: struct (containsNull = true)\n",
            " |    |    |    |    |    |-- _language: string (nullable = true)\n",
            " |    |    |    |    |    |-- fulltext: string (nullable = true)\n",
            " |    |    |    |    |    |-- summary: string (nullable = true)\n",
            " |    |    |-- nodeDataTypes: struct (nullable = true)\n",
            " |    |    |    |-- nodeDataType: array (nullable = true)\n",
            " |    |    |    |    |-- element: struct (containsNull = true)\n",
            " |    |    |    |    |    |-- _VALUE: string (nullable = true)\n",
            " |    |    |    |    |    |-- _nodeDataType: string (nullable = true)\n",
            " |    |    |-- tariffInfos: struct (nullable = true)\n",
            " |    |    |    |-- tariffInfo: struct (nullable = true)\n",
            " |    |    |    |    |-- _VALUE: string (nullable = true)\n",
            " |    |    |    |    |-- _type: string (nullable = true)\n",
            " |    |    |    |    |-- _validFrom: date (nullable = true)\n",
            " |    |    |    |    |-- _validTo: date (nullable = true)\n",
            " |-- importFile: string (nullable = true)\n",
            "\n"
          ],
          "output_type" : "stream"
        }
      ]
    },
    {
      "cell_type" : "code",
      "execution_count" : 3,
      "metadata" : {
        "cell.metadata.exec_info" : {
          "startTs" : 1655369375681,
          "endTs" : 1655369376467
        },
        "language" : "scala"
      },
      "language" : "scala",
      "source" : [
        "spark.table(\"default.raw_tarif_init\").select(\"initialLoad.tariffNodes.tariffNode.*\").show()"
      ],
      "outputs" : [
        {
          "name" : "stdout",
          "text" : [
            "+-------------------+---------+-------+---------------+----------+----------+--------------------+--------------------+\n",
            "|_businessDescriptor|_nodeType|_parent|_parentNodeType|_validFrom|  _validTo|        descriptions|         tariffNodes|\n",
            "+-------------------+---------+-------+---------------+----------+----------+--------------------+--------------------+\n",
            "|                  A|        C|    402|              R|2008-01-01|2999-12-31|{[{de, Verdauungs...|{{A01, C, A, C, 2...|\n",
            "+-------------------+---------+-------+---------------+----------+----------+--------------------+--------------------+\n",
            "\n"
          ],
          "output_type" : "stream"
        }
      ]
    },
    {
      "cell_type" : "markdown",
      "execution_count" : 4,
      "metadata" : {
        "language" : "text"
      },
      "language" : "text",
      "source" : [
        "In the present small example are 6 levels of `tariffNodes.tariffNode`. The first 3 are structs, then the lower ones are arrays. <div>Let's explore them, starting with the 3. level.</div>"
      ],
      "outputs" : [
      ]
    },
    {
      "cell_type" : "code",
      "execution_count" : 5,
      "metadata" : {
        "cell.metadata.exec_info" : {
          "startTs" : 1655449711485,
          "endTs" : 1655449742628
        },
        "language" : "scala"
      },
      "language" : "scala",
      "source" : [
        "val df = spark.table(\"default.raw_tarif_init\")\r\n",
        "val dfl3 = df.withColumn(\"TarifNodes\", explode($\"initialLoad.tariffNodes.tariffNode.tariffNodes.tariffNode.tariffNodes.tariffNode\")).select(\"TarifNodes.*\")\r\n",
        "dfl3.show()"
      ],
      "outputs" : [
        {
          "name" : "stdout",
          "text" : [
            "+-------------------+---------+-------+---------------+----------+----------+--------------------+--------------------+--------------------+\n",
            "|_businessDescriptor|_nodeType|_parent|_parentNodeType|_validFrom|  _validTo|        descriptions|              galDat|         tariffNodes|\n",
            "+-------------------+---------+-------+---------------+----------+----------+--------------------+--------------------+--------------------+\n",
            "|               A01A|        C|    A01|              C|2008-01-01|2999-12-31|{[{de, Stomatolog...|                null|{[{A01AA, C, A01A...|\n",
            "|      9001570516763|        P|     XY|              C|2018-04-01|2999-12-31|{[{de, Sempermed ...|{{[{null, 9001570...|                null|\n",
            "|      9001570516770|        P|     XY|              C|2018-04-01|2999-12-31|{[{de, Sempermed ...|{{[{null, 9001570...|                null|\n",
            "|      9001570516787|        P|     XY|              C|2018-04-01|2999-12-31|{[{de, Sempermed ...|{{[{null, 9001570...|                null|\n",
            "|      9001570516794|        P|     XY|              C|2018-04-01|2999-12-31|{[{de, Sempermed ...|{{[{null, 9001570...|                null|\n",
            "|      9001570516800|        P|     XY|              C|2018-04-01|2999-12-31|{[{de, Sempermed ...|{{[{null, 9001570...|                null|\n",
            "|      9001570516817|        P|     XY|              C|2018-04-01|2999-12-31|{[{de, Sempermed ...|{{[{null, 9001570...|                null|\n",
            "|      9001570516824|        P|     XY|              C|2018-04-01|2999-12-31|{[{de, Sempermed ...|{{[{null, 9001570...|                null|\n",
            "|      9001570516831|        P|     XY|              C|2018-04-01|2999-12-31|{[{de, Sempermed ...|{{[{null, 9001570...|                null|\n",
            "|      9001570517043|        P|     XY|              C|2018-04-01|2999-12-31|{[{de, Sempermed ...|{{[{null, 9001570...|                null|\n",
            "|      9001570517050|        P|     XY|              C|2018-04-01|2999-12-31|{[{de, Sempermed ...|{{[{null, 9001570...|                null|\n",
            "|      9001570517067|        P|     XY|              C|2018-04-01|2999-12-31|{[{de, Sempermed ...|{{[{null, 9001570...|                null|\n",
            "|      9001570517074|        P|     XY|              C|2018-04-01|2999-12-31|{[{de, Sempermed ...|{{[{null, 9001570...|                null|\n",
            "|      9001570517081|        P|     XY|              C|2018-04-01|2999-12-31|{[{de, Sempermed ...|{{[{null, 9001570...|                null|\n",
            "|      9001570517098|        P|     XY|              C|2018-04-01|2999-12-31|{[{de, Sempermed ...|{{[{null, 9001570...|                null|\n",
            "|      9001570517104|        P|     XY|              C|2018-04-01|2999-12-31|{[{de, Sempermed ...|{{[{null, 9001570...|                null|\n",
            "|      9001570517111|        P|     XY|              C|2018-04-01|2999-12-31|{[{de, Sempermed ...|{{[{null, 9001570...|                null|\n",
            "|      9001570517128|        P|     XY|              C|2018-04-01|2999-12-31|{[{de, Sempermed ...|{{[{null, 9001570...|                null|\n",
            "|      9001570517135|        P|     XY|              C|2018-04-01|2999-12-31|{[{de, Sempermed ...|{{[{null, 9001570...|                null|\n",
            "|      9001570517142|        P|     XY|              C|2018-04-01|2999-12-31|{[{de, Sempermed ...|{{[{null, 9001570...|                null|\n",
            "+-------------------+---------+-------+---------------+----------+----------+--------------------+--------------------+--------------------+\n",
            "only showing top 20 rows\n",
            "\n"
          ],
          "output_type" : "stream"
        }
      ]
    },
    {
      "cell_type" : "code",
      "execution_count" : 6,
      "metadata" : {
        "cell.metadata.exec_info" : {
          "startTs" : 1655449761142,
          "endTs" : 1655449764510
        },
        "language" : "scala"
      },
      "language" : "scala",
      "source" : [
        "val dfl4 = dfl3.filter(\"tariffNodes is not null\")\r\n",
        "            .withColumnRenamed(\"_businessDescriptor\", \"bD3\")\r\n",
        "            .withColumn(\"TarifNodes4\", explode($\"tariffNodes.tariffNode\")).select(\"bD3\", \"TarifNodes4.*\")\r\n",
        "dfl4.show()"
      ],
      "outputs" : [
        {
          "name" : "stdout",
          "text" : [
            "+----+-------------------+---------+-------+---------------+----------+----------+--------------------+--------------------+\n",
            "| bD3|_businessDescriptor|_nodeType|_parent|_parentNodeType|_validFrom|  _validTo|        descriptions|         tariffNodes|\n",
            "+----+-------------------+---------+-------+---------------+----------+----------+--------------------+--------------------+\n",
            "|A01A|              A01AA|        C|   A01A|              C|2008-01-01|2999-12-31|{[{de, Kariesprop...|{[{A01AA01, C, A0...|\n",
            "|A01A|              A01AB|        C|   A01A|              C|2008-01-01|2999-12-31|{[{de, Antiinfekt...|{[{A01AB02, C, A0...|\n",
            "+----+-------------------+---------+-------+---------------+----------+----------+--------------------+--------------------+\n",
            "\n"
          ],
          "output_type" : "stream"
        }
      ]
    },
    {
      "cell_type" : "code",
      "execution_count" : 7,
      "metadata" : {
        "cell.metadata.exec_info" : {
          "startTs" : 1655449765862,
          "endTs" : 1655449768869
        },
        "language" : "scala"
      },
      "language" : "scala",
      "source" : [
        "val dfl5 = dfl4.filter(\"tariffNodes is not null\")\r\n",
        "            .withColumnRenamed(\"_businessDescriptor\", \"bD4\")\r\n",
        "            .withColumn(\"TarifNodes5\", explode($\"tariffNodes.tariffNode\")).select(\"bD3\", \"bD4\", \"TarifNodes5.*\")\r\n",
        "dfl5.show()"
      ],
      "outputs" : [
        {
          "name" : "stdout",
          "text" : [
            "+----+-----+-------------------+---------+-------+---------------+----------+----------+--------------------+--------------------+--------------------+\n",
            "| bD3|  bD4|_businessDescriptor|_nodeType|_parent|_parentNodeType|_validFrom|  _validTo|        descriptions|              galDat|         tariffNodes|\n",
            "+----+-----+-------------------+---------+-------+---------------+----------+----------+--------------------+--------------------+--------------------+\n",
            "|A01A|A01AA|            A01AA01|        C|  A01AA|              C|2008-01-01|2999-12-31|{[{de, Natrium fl...|                null|{[{7680152190687,...|\n",
            "|A01A|A01AA|            A01AA02|        C|  A01AA|              C|2008-01-01|2999-12-31|{[{de, Natrium mo...|                null|                null|\n",
            "|A01A|A01AA|            A01AA03|        C|  A01AA|              C|2008-01-01|2999-12-31|{[{de, Olaflur}, ...|                null|{[{7610458026779,...|\n",
            "|A01A|A01AA|            A01AA04|        C|  A01AA|              C|2008-01-01|2999-12-31|{[{de, Zinn fluor...|                null|                null|\n",
            "|A01A|A01AA|            A01AA30|        C|  A01AA|              C|2008-01-01|2999-12-31|{[{de, Kariesprop...|                null|                null|\n",
            "|A01A|A01AA|            A01AA51|        C|  A01AA|              C|2008-01-01|2999-12-31|{[{de, Natriumflu...|                null|{[{7680269240015,...|\n",
            "|A01A|A01AA|      7680124800248|        P|  A01AA|              C|1947-02-12|2008-12-31|{[{de, Emoform, Z...|{{[{null, 7680124...|                null|\n",
            "|A01A|A01AA|      7680124800248|        P|  A01AA|              C|2009-01-01|2010-12-31|{[{de, Emoform, Z...|{{[{null, 1430056...|                null|\n",
            "|A01A|A01AA|      7680124800248|        P|  A01AA|              C|2011-01-01|2012-03-14|{[{de, Emoform, Z...|{{[{null, 1430056...|                null|\n",
            "|A01A|A01AA|      7680124800248|        P|  A01AA|              C|2012-03-15|2013-09-14|{[{de, Emoform, Z...|{{[{null, 7680124...|                null|\n",
            "|A01A|A01AA|      7680124800248|        P|  A01AA|              C|2013-09-15|2014-01-14|{[{de, Emoform, Z...|{{[{null, 7680124...|                null|\n",
            "|A01A|A01AA|      7680124800248|        P|  A01AA|              C|2014-01-15|2021-06-30|{[{de, Emoform, Z...|{{[{null, 7680124...|                null|\n",
            "|A01A|A01AA|      7680124800248|        P|  A01AA|              C|2021-07-01|2999-12-31|{[{de, Emoform, Z...|{{[{null, 7680124...|                null|\n",
            "|A01A|A01AA|      7680124800323|        P|  A01AA|              C|1947-02-12|2008-12-31|{[{de, Emoform, Z...|{{[{null, 7680124...|                null|\n",
            "|A01A|A01AA|      7680124800323|        P|  A01AA|              C|2009-01-01|2010-12-31|{[{de, Emoform, Z...|{{[{null, 1430062...|                null|\n",
            "|A01A|A01AA|      7680124800323|        P|  A01AA|              C|2011-01-01|2012-03-14|{[{de, Emoform, Z...|{{[{null, 1430062...|                null|\n",
            "|A01A|A01AA|      7680124800323|        P|  A01AA|              C|2012-03-15|2013-09-14|{[{de, Emoform, Z...|{{[{null, 7680124...|                null|\n",
            "|A01A|A01AA|      7680124800323|        P|  A01AA|              C|2013-09-15|2014-01-14|{[{de, Emoform, Z...|{{[{null, 7680124...|                null|\n",
            "|A01A|A01AA|      7680124800323|        P|  A01AA|              C|2014-01-15|2021-06-30|{[{de, Emoform, Z...|{{[{null, 7680124...|                null|\n",
            "|A01A|A01AA|      7680124800323|        P|  A01AA|              C|2021-07-01|2999-12-31|{[{de, Emoform, Z...|{{[{null, 7680124...|                null|\n",
            "+----+-----+-------------------+---------+-------+---------------+----------+----------+--------------------+--------------------+--------------------+\n",
            "only showing top 20 rows\n",
            "\n"
          ],
          "output_type" : "stream"
        }
      ]
    },
    {
      "cell_type" : "code",
      "execution_count" : 8,
      "metadata" : {
        "cell.metadata.exec_info" : {
          "startTs" : 1655370489323,
          "endTs" : 1655370490346
        },
        "language" : "scala"
      },
      "language" : "scala",
      "source" : [
        "val dfl6 = dfl5.filter(\"tariffNodes is not null\")\r\n",
        "            .withColumnRenamed(\"_businessDescriptor\", \"bD5\")\r\n",
        "            .withColumn(\"TarifNodes6\", explode($\"tariffNodes.tariffNode\")).select(\"bD3\", \"bD4\", \"bD5\", \"TarifNodes6.*\")\r\n",
        "dfl6.show(false)"
      ],
      "outputs" : [
        {
          "name" : "stdout",
          "text" : [
            "+----+-----+-------+-------------------+---------+-------+---------------+----------+----------+-------------------------------------------------------------------------------------------------------------------+------------------------------------------------------------------------------------------------------------------------------------------------------------------------------------------------------------------------------------------------------------------------------------------------------------------------------+\n",
            "|bD3 |bD4  |bD5    |_businessDescriptor|_nodeType|_parent|_parentNodeType|_validFrom|_validTo  |descriptions                                                                                                       |galDat                                                                                                                                                                                                                                                                                                                        |\n",
            "+----+-----+-------+-------------------+---------+-------+---------------+----------+----------+-------------------------------------------------------------------------------------------------------------------+------------------------------------------------------------------------------------------------------------------------------------------------------------------------------------------------------------------------------------------------------------------------------------------------------------------------------+\n",
            "|A01A|A01AA|A01AA01|7680152190687      |P        |A01AA01|C              |1950-06-15|2008-12-31|{[{de, Zymafluor 0.25 mg, Tabletten}, {fr, ZYMAFLUOR cpr 0.25 mg , 400 pce}, {it, Zymafluor 0.25 mg, Tabletten}]}  |{{[{null, 544042, PHC, A}, {null, 7680152190687, E13, A}]}, {null, 03.00.00.00, 7601001321052, Novartis Consumer Health Schweiz AG, A01AA01IM               , N, 0, M1, 2, N, 20, 400, null, null, null, null, null, null, null, null, C, 1950-06-15, 15219068, null}, {null, A01AA01, 13.05.10}, {{null, D, 1, 400.0, TABL}}}|\n",
            "|A01A|A01AA|A01AA01|7680152190687      |P        |A01AA01|C              |2009-01-01|2010-12-31|{[{de, Zymafluor 0.25 mg, Tabletten}, {fr, ZYMAFLUOR cpr 0.25 mg}]}                                                |{{[{null, 544042, PHC, A}, {null, 7680152190687, E13, A}]}, {null, 03.00.00.00, 7601001300460, Novartis Consumer Health, A01AA01IM               , N, 0, M1, 2, null, 20, null, null, null, null, null, null, null, null, null, C, 1950-06-15, 15219068, null}, {null, A01AA01, 13.05.10}, {{null, D, 1, 400.0, TABL}}}       |\n",
            "|A01A|A01AA|A01AA01|7680152190687      |P        |A01AA01|C              |2011-01-01|2012-12-14|{[{de, Zymafluor 0.25 mg, Tabletten}, {fr, ZYMAFLUOR cpr 0.25 mg, 400 pce}, {it, Zymafluor 0.25 mg, Tabletten}]}   |{{[{null, 544042, PHC, A}, {null, 7680152190687, E13, A}]}, {null, 03.00.00.00, 7601001300460, Novartis Consumer Health, A01AA01IM       0.25MGX , N, 0, M1, 2, N, 20, 400, null, null, null, null, null, null, null, null, C, 1950-06-15, 15219068, null}, {null, A01AA01, 13.05.10}, {{null, D, 1, 400.0, TABL}}}           |\n",
            "|A01A|A01AA|A01AA01|7680152190687      |P        |A01AA01|C              |2012-12-15|2013-08-14|{[{de, Zymafluor 0.25 mg, Tabletten}, {fr, ZYMAFLUOR cpr 0.25 mg, 400 pce}, {it, Zymafluor 0.25 mg, Tabletten}]}   |{{[{null, 544042, PHC, A}, {null, 7680152190687, E13, A}]}, {null, 03.00.00.00, 7601001321052, Novartis Consumer Health Schweiz AG, A01AA01IM       0.25MGX , N, 0, M1, 2, N, 20, 400, null, null, null, null, null, null, null, null, C, 1950-06-15, 15219068, null}, {null, A01AA01, 13.05.10}, {{null, D, 1, 400.0, TABL}}}|\n",
            "|A01A|A01AA|A01AA01|7680152190687      |P        |A01AA01|C              |2013-08-15|2013-09-14|{[{de, Zymafluor 0.25 mg, Tabletten}, {fr, ZYMAFLUOR cpr 0.25 mg , pce}, {it, Zymafluor 0.25 mg, Tabletten}]}      |{{[{null, 544042, PHC, A}, {null, 7680152190687, E13, A}]}, {null, 03.00.00.00, 7601001321052, Novartis Consumer Health Schweiz AG, A01AA01IM       0.25MGX , N, 0, M1, 2, N, 20, 400, null, null, null, null, null, null, null, null, C, 1950-06-15, 15219068, null}, {null, A01AA01, 13.05.10}, {{null, D, 1, 400.0, TABL}}}|\n",
            "|A01A|A01AA|A01AA01|7680152190687      |P        |A01AA01|C              |2013-09-15|2013-10-14|{[{de, Zymafluor 0.25 mg, Tabletten}, {fr, ZYMAFLUOR cpr 0.25 mg , 400 pce}, {it, Zymafluor 0.25 mg, Tabletten}]}  |{{[{null, 544042, PHC, A}, {null, 7680152190687, E13, A}]}, {null, 03.00.00.00, 7601001321052, Novartis Consumer Health Schweiz AG, A01AA01IM               , N, 0, M1, 2, N, 20, 400, null, null, null, null, null, null, null, null, C, 1950-06-15, 15219068, null}, {null, A01AA01, 13.05.10}, {{null, D, 1, 400.0, TABL}}}|\n",
            "|A01A|A01AA|A01AA01|7680152190687      |P        |A01AA01|C              |2013-10-15|2013-11-14|{[{de, Zymafluor 0.25 mg, compresse}, {fr, ZYMAFLUOR cpr 0.25 mg , 400 pce}, {it, Zymafluor 0.25 mg, compresse}]}  |{{[{null, 544042, PHC, A}, {null, 7680152190687, E13, A}]}, {null, 03.00.00.00, 7601001321052, Novartis Consumer Health Schweiz AG, A01AA01IM               , N, 0, M1, 2, N, 20, 400, null, null, null, null, null, null, null, null, C, 1950-06-15, 15219068, null}, {null, A01AA01, 13.05.10}, {{null, D, 1, 400.0, TABL}}}|\n",
            "|A01A|A01AA|A01AA01|7680152190687      |P        |A01AA01|C              |2013-11-15|2014-01-14|{[{de, Zymafluor 0.25 mg, compresse}, {fr, ZYMAFLUOR cpr 0.25 mg, 400 pce}, {it, Zymafluor 0.25 mg, compresse}]}   |{{[{null, 544042, PHC, A}, {null, 7680152190687, E13, A}]}, {null, 03.00.00.00, 7601001333284, Rottapharm SA, A01AA01IM               , N, 0, M1, 2, N, 20, 400, null, null, null, null, null, null, null, null, C, 1950-06-15, 15219068, null}, {null, A01AA01, 13.05.10}, {{null, D, 1, 400.0, TABL}}}                      |\n",
            "|A01A|A01AA|A01AA01|7680152190687      |P        |A01AA01|C              |2014-01-15|2014-10-14|{[{de, Zymafluor 0.25 mg, compresse}, {fr, ZYMAFLUOR cpr 0.25 mg, 400 pce}, {it, Zymafluor 0.25 mg, compresse}]}   |{{[{null, 544042, PHC, A}, {null, 7680152190687, E13, A}]}, {null, 03.00.00.00, 7601001333284, Rottapharm SA, A01AA01IM               , N, 0, M1, 2, N, 20, 400, null, TAB, S, 1, B, Z, G, null, C, 1950-06-15, 15219068, null}, {null, A01AA01, 13.05.10}, {{null, D, 1, 400.0, TABL}}}                                      |\n",
            "|A01A|A01AA|A01AA01|7680152190687      |P        |A01AA01|C              |2014-10-15|2014-10-31|{[{de, Zymafluor 0.25 mg, compresse}, {fr, ZYMAFLUOR cpr 0.25 mg, 400 pce}, {it, Zymafluor 0.25 mg, compresse}]}   |{{[{null, 544042, PHC, A}, {null, 7680152190687, E13, A}]}, {null, 03.00.00.00, null, null, A01AA01IM               , N, 0, M1, 2, N, 20, 400, null, TAB, S, 1, B, Z, G, null, C, 1950-06-15, 15219068, null}, {null, A01AA01, 13.05.10}, {{null, D, 1, 400.0, TABL}}}                                                        |\n",
            "|A01A|A01AA|A01AA01|7680152190687      |P        |A01AA01|C              |2014-11-01|2015-05-31|{[{de, Zymafluor 0.25 mg, compresse}, {fr, ZYMAFLUOR cpr 0.25 mg, 400 pce}, {it, Zymafluor 0.25 mg, compresse}]}   |{{[{null, 544042, PHC, A}, {null, 7680152190687, E13, A}]}, {null, 03.00.00.00, 7601001333284, Rottapharm SA, A01AA01IM               , N, 0, M1, 2, N, 20, 400, null, TAB, S, 1, B, Z, G, null, C, 1950-06-15, 15219068, null}, {null, A01AA01, 13.05.10}, {{null, D, 1, 400.0, TABL}}}                                      |\n",
            "|A01A|A01AA|A01AA01|7680152190687      |P        |A01AA01|C              |2015-06-01|2015-06-30|{[{de, Zymafluor 0.25 mg, compresse}, {fr, ZYMAFLUOR cpr 0.25 mg 400 pce}, {it, Zymafluor 0.25 mg, compresse}]}    |{{[{null, 544042, PHC, A}, {null, 7680152190687, E13, A}]}, {null, 03.00.00.00, 7601001333284, Rottapharm SA, A01AA01IM               , N, 0, M1, 2, N, 20, 400, null, TAB, S, 1, B, Z, G, null, C, 1950-06-15, 15219068, null}, {null, A01AA01, 13.05.10}, {{null, D, 1, 400.0, TABL}}}                                      |\n",
            "|A01A|A01AA|A01AA01|7680152190687      |P        |A01AA01|C              |2015-07-01|2015-07-31|{[{de, Zymafluor 0.25 mg, compresse}, {fr, ZYMAFLUOR cpr 0.25 mg 400 pce}, {it, Zymafluor 0.25 mg, compresse}]}    |{{[{null, 544042, PHC, A}, {null, 7680152190687, E13, A}]}, {null, 03.00.00.00, 7601001000162, MEDA Pharma GmbH, A01AA01IM               , N, 0, M1, 2, N, 20, 400, null, TAB, S, 1, B, Z, G, null, C, 1950-06-15, 15219068, null}, {null, A01AA01, 13.05.10}, {{null, D, 1, 400.0, TABL}}}                                   |\n",
            "|A01A|A01AA|A01AA01|7680152190687      |P        |A01AA01|C              |2015-08-01|2017-06-30|{[{de, Zymafluor 0.25 mg, Tabletten}, {fr, ZYMAFLUOR cpr 0.25 mg 400 pce}, {it, Zymafluor 0.25 mg, Tabletten}]}    |{{[{null, 544042, PHC, A}, {null, 7680152190687, E13, A}]}, {null, 03.00.00.00, 7601001000162, MEDA Pharma GmbH, A01AA01IM               , N, 0, M1, 2, N, 20, 400, null, TAB, S, 1, B, Z, G, null, C, 1950-06-15, 15219068, null}, {null, A01AA01, 13.05.10}, {{null, D, 1, 400.0, TABL}}}                                   |\n",
            "|A01A|A01AA|A01AA01|7680152190687      |P        |A01AA01|C              |2017-07-01|2018-02-14|{[{de, Zymafluor 0.25 mg, Tabletten}, {fr, ZYMAFLUOR cpr 0.25 mg 400 pce}, {it, Zymafluor 0.25 mg, Tabletten}]}    |{{[{null, 544042, PHC, A}, {null, 7680152190687, E13, A}]}, {null, 03.00.00.00, 7601001000162, MEDA Pharma GmbH, A01AA01IM               , N, 0, M1, 2, N, 20, 400, null, TAB, S, 1, BO, Z, G, null, C, 1950-06-15, 15219068, null}, {null, A01AA01, 13.05.10}, {{null, D, 1, 400.0, TABL}}}                                  |\n",
            "|A01A|A01AA|A01AA01|7680152190687      |P        |A01AA01|C              |2018-02-15|2019-04-30|{[{de, Zymafluor 0.25 mg, Tabletten}, {fr, ZYMAFLUOR cpr 0.25 mg bte 400 pce}, {it, Zymafluor 0.25 mg, Tabletten}]}|{{[{null, 544042, PHC, A}, {null, 7680152190687, E13, A}]}, {null, 03.00.00.00, 7601001000162, MEDA Pharma GmbH, A01AA01IM               , N, 0, M1, 2, N, 20, 400, null, TAB, S, 1, BO, Z, G, null, C, 1950-06-15, 15219068, null}, {null, A01AA01, 13.05.10}, {{null, D, 1, 400.0, TABL}}}                                  |\n",
            "|A01A|A01AA|A01AA01|7680152190687      |P        |A01AA01|C              |2019-05-01|2019-07-31|{[{de, Zymafluor 0.25 mg, Tabletten}, {fr, ZYMAFLUOR cpr 0.25 mg bte 400 pce}, {it, Zymafluor 0.25 mg, Tabletten}]}|{{[{null, 544042, PHC, A}, {null, 7680152190687, E13, A}]}, {null, 04.00.00.00, 7601001000162, MEDA Pharma GmbH, A01AA01IM               , N, 0, M9, 2, N, 20, 400, null, TAB, S, 1, BO, Z, G, null, D, 1950-06-15, 15219068, null}, {null, A01AA01, 13.05.10}, {{null, D, 1, 400.0, TABL}}}                                  |\n",
            "|A01A|A01AA|A01AA01|7680152190687      |P        |A01AA01|C              |2019-08-01|2021-01-31|{[{de, Zymafluor 0.25 mg, Tabletten}, {fr, ZYMAFLUOR cpr 0.25 mg bte 400 pce}, {it, Zymafluor 0.25 mg, Tabletten}]}|{{[{null, 544042, PHC, A}, {null, 7680152190687, E13, A}]}, {null, 04.00.00.00, 7601001000162, MEDA Pharma GmbH, A01AA01IM               , N, 0, M9, 2, N, 20, 400, null, TAB, S, 1, BO, D, G, 2019-07-12, D, 1950-06-15, 15219068, null}, {null, A01AA01, 13.05.10}, {{null, D, 1, 400.0, TABL}}}                            |\n",
            "|A01A|A01AA|A01AA01|7680152190687      |P        |A01AA01|C              |2021-02-01|2021-03-14|{[{de, Zymafluor 0.25 mg, Tabletten}, {fr, ZYMAFLUOR cpr 0.25 mg bte 400 pce}, {it, Zymafluor 0.25 mg, Tabletten}]}|{{[{null, 544042, PHC, A}, {null, 7680152190687, E13, A}]}, {null, 04.00.00.00, 7601001000162, MEDA Pharma GmbH, A01AA01IM               , N, 0, M9, 2, N, 20, 400, null, TAB, S, 1, BO, D, G, 2019-07-12, D, 1950-06-15, 15219068, null}, {null, A01AA01, 13.05.10}, {{null, D, 1, 400.0, TABL}}}                            |\n",
            "|A01A|A01AA|A01AA01|7680152190687      |P        |A01AA01|C              |2021-03-15|2021-06-30|{[{de, Zymafluor 0.25 mg, Tabletten}, {fr, Zymafluor 0.25 mg, Tabletten}, {it, Zymafluor 0.25 mg, Tabletten}]}     |{{[{null, 544042, PHC, A}, {null, 7680152190687, E13, A}]}, {null, 04.00.00.00, null, null, A01AA01IM               , N, 0, M9, 2, N, 20, 400, null, TAB, S, 1, BO, D, S, 2019-07-12, D, 1950-06-15, 15219068, null}, {null, A01AA01, 13.05.10}, {{null, D, 1, 400.0, TABL}}}                                                 |\n",
            "+----+-----+-------+-------------------+---------+-------+---------------+----------+----------+-------------------------------------------------------------------------------------------------------------------+------------------------------------------------------------------------------------------------------------------------------------------------------------------------------------------------------------------------------------------------------------------------------------------------------------------------------+\n",
            "only showing top 20 rows\n",
            "\n"
          ],
          "output_type" : "stream"
        }
      ]
    },
    {
      "cell_type" : "markdown",
      "execution_count" : 9,
      "metadata" : {
        "language" : "text"
      },
      "language" : "text",
      "source" : [
        "let's try flatten all in once (not yet unrolling all levels)"
      ],
      "outputs" : [
      ]
    },
    {
      "cell_type" : "code",
      "execution_count" : 10,
      "metadata" : {
        "cell.metadata.exec_info" : {
          "startTs" : 1655373367515,
          "endTs" : 1655373368534
        },
        "language" : "python"
      },
      "language" : "python",
      "source" : [
        "import pyspark\r\n",
        "import pyspark.sql.functions as F\r\n",
        "\r\n",
        "def flatten_df(nested_df):\r\n",
        "    flat_cols = [c[0] for c in nested_df.dtypes if c[1][:6] != 'struct']\r\n",
        "    nested_cols = [c[0] for c in nested_df.dtypes if c[1][:6] == 'struct']\r\n",
        "\r\n",
        "    flat_df = nested_df.select(flat_cols +\r\n",
        "                               [F.col(nc+'.'+c).alias(nc+'_'+c)\r\n",
        "                                for nc in nested_cols\r\n",
        "                                for c in nested_df.select(nc+'.*').columns])\r\n",
        "    return flat_df\r\n",
        "\r\n",
        "\r\n",
        "df = spark.table(\"default.raw_tarif_init\")\r\n",
        "df_flat = flatten_df(df.select(\"initialLoad.tariffNodes.tariffNode\"))\r\n",
        "df_flat.show(20,True)"
      ],
      "outputs" : [
        {
          "name" : "stdout",
          "text" : [
            "+------------------------------+--------------------+------------------+--------------------------+---------------------+-------------------+-----------------------+----------------------+\n",
            "|tariffNode__businessDescriptor|tariffNode__nodeType|tariffNode__parent|tariffNode__parentNodeType|tariffNode__validFrom|tariffNode__validTo|tariffNode_descriptions|tariffNode_tariffNodes|\n",
            "+------------------------------+--------------------+------------------+--------------------------+---------------------+-------------------+-----------------------+----------------------+\n",
            "|                             A|                   C|               402|                         R|           2008-01-01|         2999-12-31|   {[{de, Verdauungs...|  {{A01, C, A, C, 2...|\n",
            "+------------------------------+--------------------+------------------+--------------------------+---------------------+-------------------+-----------------------+----------------------+\n",
            "\n"
          ],
          "output_type" : "stream"
        }
      ]
    },
    {
      "cell_type" : "code",
      "execution_count" : 11,
      "metadata" : {
        "cell.metadata.exec_info" : {
          "startTs" : 1655367396886,
          "endTs" : 1655367397272
        },
        "language" : "scala"
      },
      "language" : "scala",
      "source" : [
        "spark.table(\"default.raw_tarif_init\").printSchema"
      ],
      "outputs" : [
        {
          "name" : "stdout",
          "text" : [
            "root\n",
            " |-- _xmlns: string (nullable = true)\n",
            " |-- _xmlns:TMS: string (nullable = true)\n",
            " |-- _xmlns:xsi: string (nullable = true)\n",
            " |-- _xsi:schemaLocation: string (nullable = true)\n",
            " |-- header: struct (nullable = true)\n",
            " |    |-- _VALUE: string (nullable = true)\n",
            " |    |-- _exportedAt: timestamp (nullable = true)\n",
            " |    |-- _mandators: string (nullable = true)\n",
            " |    |-- _numberOfElements: long (nullable = true)\n",
            " |    |-- _tariffDescriptor: long (nullable = true)\n",
            " |-- initialLoad: struct (nullable = true)\n",
            " |    |-- _knownAt: timestamp (nullable = true)\n",
            " |    |-- tariffNodes: struct (nullable = true)\n",
            " |    |    |-- tariffNode: struct (nullable = true)\n",
            " |    |    |    |-- _businessDescriptor: string (nullable = true)\n",
            " |    |    |    |-- _nodeType: string (nullable = true)\n",
            " |    |    |    |-- _parent: long (nullable = true)\n",
            " |    |    |    |-- _parentNodeType: string (nullable = true)\n",
            " |    |    |    |-- _validFrom: date (nullable = true)\n",
            " |    |    |    |-- _validTo: date (nullable = true)\n",
            " |    |    |    |-- descriptions: struct (nullable = true)\n",
            " |    |    |    |    |-- description: array (nullable = true)\n",
            " |    |    |    |    |    |-- element: struct (containsNull = true)\n",
            " |    |    |    |    |    |    |-- _language: string (nullable = true)\n",
            " |    |    |    |    |    |    |-- summary: string (nullable = true)\n",
            " |    |    |    |-- tariffNodes: struct (nullable = true)\n",
            " |    |    |    |    |-- tariffNode: struct (nullable = true)\n",
            " |    |    |    |    |    |-- _businessDescriptor: string (nullable = true)\n",
            " |    |    |    |    |    |-- _nodeType: string (nullable = true)\n",
            " |    |    |    |    |    |-- _parent: string (nullable = true)\n",
            " |    |    |    |    |    |-- _parentNodeType: string (nullable = true)\n",
            " |    |    |    |    |    |-- _validFrom: date (nullable = true)\n",
            " |    |    |    |    |    |-- _validTo: date (nullable = true)\n",
            " |    |    |    |    |    |-- descriptions: struct (nullable = true)\n",
            " |    |    |    |    |    |    |-- description: array (nullable = true)\n",
            " |    |    |    |    |    |    |    |-- element: struct (containsNull = true)\n",
            " |    |    |    |    |    |    |    |    |-- _language: string (nullable = true)\n",
            " |    |    |    |    |    |    |    |    |-- summary: string (nullable = true)\n",
            " |    |    |    |    |    |-- tariffNodes: struct (nullable = true)\n",
            " |    |    |    |    |    |    |-- tariffNode: array (nullable = true)\n",
            " |    |    |    |    |    |    |    |-- element: struct (containsNull = true)\n",
            " |    |    |    |    |    |    |    |    |-- _businessDescriptor: string (nullable = true)\n",
            " |    |    |    |    |    |    |    |    |-- _nodeType: string (nullable = true)\n",
            " |    |    |    |    |    |    |    |    |-- _parent: string (nullable = true)\n",
            " |    |    |    |    |    |    |    |    |-- _parentNodeType: string (nullable = true)\n",
            " |    |    |    |    |    |    |    |    |-- _validFrom: date (nullable = true)\n",
            " |    |    |    |    |    |    |    |    |-- _validTo: date (nullable = true)\n",
            " |    |    |    |    |    |    |    |    |-- descriptions: struct (nullable = true)\n",
            " |    |    |    |    |    |    |    |    |    |-- description: array (nullable = true)\n",
            " |    |    |    |    |    |    |    |    |    |    |-- element: struct (containsNull = true)\n",
            " |    |    |    |    |    |    |    |    |    |    |    |-- _language: string (nullable = true)\n",
            " |    |    |    |    |    |    |    |    |    |    |    |-- summary: string (nullable = true)\n",
            " |    |    |    |    |    |    |    |    |-- galDat: struct (nullable = true)\n",
            " |    |    |    |    |    |    |    |    |    |-- galDatBarcodes: struct (nullable = true)\n",
            " |    |    |    |    |    |    |    |    |    |    |-- galDatBarcode: array (nullable = true)\n",
            " |    |    |    |    |    |    |    |    |    |    |    |-- element: struct (containsNull = true)\n",
            " |    |    |    |    |    |    |    |    |    |    |    |    |-- _VALUE: string (nullable = true)\n",
            " |    |    |    |    |    |    |    |    |    |    |    |    |-- _barcode: long (nullable = true)\n",
            " |    |    |    |    |    |    |    |    |    |    |    |    |-- _codeType: string (nullable = true)\n",
            " |    |    |    |    |    |    |    |    |    |    |    |    |-- _status: string (nullable = true)\n",
            " |    |    |    |    |    |    |    |    |    |-- galDatMain: struct (nullable = true)\n",
            " |    |    |    |    |    |    |    |    |    |    |-- _VALUE: string (nullable = true)\n",
            " |    |    |    |    |    |    |    |    |    |    |-- _companyGln: long (nullable = true)\n",
            " |    |    |    |    |    |    |    |    |    |    |-- _companyName: string (nullable = true)\n",
            " |    |    |    |    |    |    |    |    |    |    |-- _grdFrCode: long (nullable = true)\n",
            " |    |    |    |    |    |    |    |    |    |    |-- _insCode: long (nullable = true)\n",
            " |    |    |    |    |    |    |    |    |    |    |-- _newInsuranceCode: long (nullable = true)\n",
            " |    |    |    |    |    |    |    |    |    |    |-- _sourceOfGtin: string (nullable = true)\n",
            " |    |    |    |    |    |    |    |    |    |    |-- _tmsCode: string (nullable = true)\n",
            " |    |    |    |    |    |    |    |    |-- tariffNodes: struct (nullable = true)\n",
            " |    |    |    |    |    |    |    |    |    |-- tariffNode: array (nullable = true)\n",
            " |    |    |    |    |    |    |    |    |    |    |-- element: struct (containsNull = true)\n",
            " |    |    |    |    |    |    |    |    |    |    |    |-- _businessDescriptor: string (nullable = true)\n",
            " |    |    |    |    |    |    |    |    |    |    |    |-- _nodeType: string (nullable = true)\n",
            " |    |    |    |    |    |    |    |    |    |    |    |-- _parent: string (nullable = true)\n",
            " |    |    |    |    |    |    |    |    |    |    |    |-- _parentNodeType: string (nullable = true)\n",
            " |    |    |    |    |    |    |    |    |    |    |    |-- _validFrom: date (nullable = true)\n",
            " |    |    |    |    |    |    |    |    |    |    |    |-- _validTo: date (nullable = true)\n",
            " |    |    |    |    |    |    |    |    |    |    |    |-- descriptions: struct (nullable = true)\n",
            " |    |    |    |    |    |    |    |    |    |    |    |    |-- description: array (nullable = true)\n",
            " |    |    |    |    |    |    |    |    |    |    |    |    |    |-- element: struct (containsNull = true)\n",
            " |    |    |    |    |    |    |    |    |    |    |    |    |    |    |-- _language: string (nullable = true)\n",
            " |    |    |    |    |    |    |    |    |    |    |    |    |    |    |-- summary: string (nullable = true)\n",
            " |    |    |    |    |    |    |    |    |    |    |    |-- tariffNodes: struct (nullable = true)\n",
            " |    |    |    |    |    |    |    |    |    |    |    |    |-- tariffNode: array (nullable = true)\n",
            " |    |    |    |    |    |    |    |    |    |    |    |    |    |-- element: struct (containsNull = true)\n",
            " |    |    |    |    |    |    |    |    |    |    |    |    |    |    |-- _businessDescriptor: string (nullable = true)\n",
            " |    |    |    |    |    |    |    |    |    |    |    |    |    |    |-- _nodeType: string (nullable = true)\n",
            " |    |    |    |    |    |    |    |    |    |    |    |    |    |    |-- _parent: string (nullable = true)\n",
            " |    |    |    |    |    |    |    |    |    |    |    |    |    |    |-- _parentNodeType: string (nullable = true)\n",
            " |    |    |    |    |    |    |    |    |    |    |    |    |    |    |-- _validFrom: date (nullable = true)\n",
            " |    |    |    |    |    |    |    |    |    |    |    |    |    |    |-- _validTo: date (nullable = true)\n",
            " |    |    |    |    |    |    |    |    |    |    |    |    |    |    |-- descriptions: struct (nullable = true)\n",
            " |    |    |    |    |    |    |    |    |    |    |    |    |    |    |    |-- description: array (nullable = true)\n",
            " |    |    |    |    |    |    |    |    |    |    |    |    |    |    |    |    |-- element: struct (containsNull = true)\n",
            " |    |    |    |    |    |    |    |    |    |    |    |    |    |    |    |    |    |-- _language: string (nullable = true)\n",
            " |    |    |    |    |    |    |    |    |    |    |    |    |    |    |    |    |    |-- summary: string (nullable = true)\n",
            " |    |    |    |    |    |    |    |    |    |    |    |    |    |    |-- galDat: struct (nullable = true)\n",
            " |    |    |    |    |    |    |    |    |    |    |    |    |    |    |    |-- galDatBarcodes: struct (nullable = true)\n",
            " |    |    |    |    |    |    |    |    |    |    |    |    |    |    |    |    |-- galDatBarcode: array (nullable = true)\n",
            " |    |    |    |    |    |    |    |    |    |    |    |    |    |    |    |    |    |-- element: struct (containsNull = true)\n",
            " |    |    |    |    |    |    |    |    |    |    |    |    |    |    |    |    |    |    |-- _VALUE: string (nullable = true)\n",
            " |    |    |    |    |    |    |    |    |    |    |    |    |    |    |    |    |    |    |-- _barcode: long (nullable = true)\n",
            " |    |    |    |    |    |    |    |    |    |    |    |    |    |    |    |    |    |    |-- _codeType: string (nullable = true)\n",
            " |    |    |    |    |    |    |    |    |    |    |    |    |    |    |    |    |    |    |-- _status: string (nullable = true)\n",
            " |    |    |    |    |    |    |    |    |    |    |    |    |    |    |    |-- galDatMain: struct (nullable = true)\n",
            " |    |    |    |    |    |    |    |    |    |    |    |    |    |    |    |    |-- _VALUE: string (nullable = true)\n",
            " |    |    |    |    |    |    |    |    |    |    |    |    |    |    |    |    |-- _assortKey1: string (nullable = true)\n",
            " |    |    |    |    |    |    |    |    |    |    |    |    |    |    |    |    |-- _companyGln: long (nullable = true)\n",
            " |    |    |    |    |    |    |    |    |    |    |    |    |    |    |    |    |-- _companyName: string (nullable = true)\n",
            " |    |    |    |    |    |    |    |    |    |    |    |    |    |    |    |    |-- _genericGroup: string (nullable = true)\n",
            " |    |    |    |    |    |    |    |    |    |    |    |    |    |    |    |    |-- _ggl: string (nullable = true)\n",
            " |    |    |    |    |    |    |    |    |    |    |    |    |    |    |    |    |-- _grdFrCode: long (nullable = true)\n",
            " |    |    |    |    |    |    |    |    |    |    |    |    |    |    |    |    |-- _groupCode: string (nullable = true)\n",
            " |    |    |    |    |    |    |    |    |    |    |    |    |    |    |    |    |-- _insCode: long (nullable = true)\n",
            " |    |    |    |    |    |    |    |    |    |    |    |    |    |    |    |    |-- _loaCode: string (nullable = true)\n",
            " |    |    |    |    |    |    |    |    |    |    |    |    |    |    |    |    |-- _newInsuranceCode: long (nullable = true)\n",
            " |    |    |    |    |    |    |    |    |    |    |    |    |    |    |    |    |-- _numOfPce: long (nullable = true)\n",
            " |    |    |    |    |    |    |    |    |    |    |    |    |    |    |    |    |-- _smArzneiform: string (nullable = true)\n",
            " |    |    |    |    |    |    |    |    |    |    |    |    |    |    |    |    |-- _smHeilmittelcode: string (nullable = true)\n",
            " |    |    |    |    |    |    |    |    |    |    |    |    |    |    |    |    |-- _smSequenznummer: long (nullable = true)\n",
            " |    |    |    |    |    |    |    |    |    |    |    |    |    |    |    |    |-- _smZulassungskategorie: string (nullable = true)\n",
            " |    |    |    |    |    |    |    |    |    |    |    |    |    |    |    |    |-- _smZulassungsstatus: string (nullable = true)\n",
            " |    |    |    |    |    |    |    |    |    |    |    |    |    |    |    |    |-- _sourceOfGtin: string (nullable = true)\n",
            " |    |    |    |    |    |    |    |    |    |    |    |    |    |    |    |    |-- _swissmedicCancelDate: date (nullable = true)\n",
            " |    |    |    |    |    |    |    |    |    |    |    |    |    |    |    |    |-- _swissmedicCat: string (nullable = true)\n",
            " |    |    |    |    |    |    |    |    |    |    |    |    |    |    |    |    |-- _swissmedicDate: date (nullable = true)\n",
            " |    |    |    |    |    |    |    |    |    |    |    |    |    |    |    |    |-- _swissmedicKey: long (nullable = true)\n",
            " |    |    |    |    |    |    |    |    |    |    |    |    |    |    |    |-- galDatMedicalInfo: struct (nullable = true)\n",
            " |    |    |    |    |    |    |    |    |    |    |    |    |    |    |    |    |-- _VALUE: string (nullable = true)\n",
            " |    |    |    |    |    |    |    |    |    |    |    |    |    |    |    |    |-- _atcKey: string (nullable = true)\n",
            " |    |    |    |    |    |    |    |    |    |    |    |    |    |    |    |    |-- _therapKey1: string (nullable = true)\n",
            " |    |    |    |    |    |    |    |    |    |    |    |    |    |    |    |-- galDatNames: struct (nullable = true)\n",
            " |    |    |    |    |    |    |    |    |    |    |    |    |    |    |    |    |-- galDatName: struct (nullable = true)\n",
            " |    |    |    |    |    |    |    |    |    |    |    |    |    |    |    |    |    |-- _VALUE: string (nullable = true)\n",
            " |    |    |    |    |    |    |    |    |    |    |    |    |    |    |    |    |    |-- _langCode: string (nullable = true)\n",
            " |    |    |    |    |    |    |    |    |    |    |    |    |    |    |    |    |    |-- _multipl: long (nullable = true)\n",
            " |    |    |    |    |    |    |    |    |    |    |    |    |    |    |    |    |    |-- _qty: double (nullable = true)\n",
            " |    |    |    |    |    |    |    |    |    |    |    |    |    |    |    |    |    |-- _qtyUnit: string (nullable = true)\n",
            " |    |    |    |    |    |    |    |    |    |    |    |    |    |    |-- tariffNodes: struct (nullable = true)\n",
            " |    |    |    |    |    |    |    |    |    |    |    |    |    |    |    |-- tariffNode: array (nullable = true)\n",
            " |    |    |    |    |    |    |    |    |    |    |    |    |    |    |    |    |-- element: struct (containsNull = true)\n",
            " |    |    |    |    |    |    |    |    |    |    |    |    |    |    |    |    |    |-- _businessDescriptor: long (nullable = true)\n",
            " |    |    |    |    |    |    |    |    |    |    |    |    |    |    |    |    |    |-- _nodeType: string (nullable = true)\n",
            " |    |    |    |    |    |    |    |    |    |    |    |    |    |    |    |    |    |-- _parent: string (nullable = true)\n",
            " |    |    |    |    |    |    |    |    |    |    |    |    |    |    |    |    |    |-- _parentNodeType: string (nullable = true)\n",
            " |    |    |    |    |    |    |    |    |    |    |    |    |    |    |    |    |    |-- _validFrom: date (nullable = true)\n",
            " |    |    |    |    |    |    |    |    |    |    |    |    |    |    |    |    |    |-- _validTo: date (nullable = true)\n",
            " |    |    |    |    |    |    |    |    |    |    |    |    |    |    |    |    |    |-- descriptions: struct (nullable = true)\n",
            " |    |    |    |    |    |    |    |    |    |    |    |    |    |    |    |    |    |    |-- description: array (nullable = true)\n",
            " |    |    |    |    |    |    |    |    |    |    |    |    |    |    |    |    |    |    |    |-- element: struct (containsNull = true)\n",
            " |    |    |    |    |    |    |    |    |    |    |    |    |    |    |    |    |    |    |    |    |-- _language: string (nullable = true)\n",
            " |    |    |    |    |    |    |    |    |    |    |    |    |    |    |    |    |    |    |    |    |-- summary: string (nullable = true)\n",
            " |    |    |    |    |    |    |    |    |    |    |    |    |    |    |    |    |    |-- galDat: struct (nullable = true)\n",
            " |    |    |    |    |    |    |    |    |    |    |    |    |    |    |    |    |    |    |-- galDatBarcodes: struct (nullable = true)\n",
            " |    |    |    |    |    |    |    |    |    |    |    |    |    |    |    |    |    |    |    |-- galDatBarcode: array (nullable = true)\n",
            " |    |    |    |    |    |    |    |    |    |    |    |    |    |    |    |    |    |    |    |    |-- element: struct (containsNull = true)\n",
            " |    |    |    |    |    |    |    |    |    |    |    |    |    |    |    |    |    |    |    |    |    |-- _VALUE: string (nullable = true)\n",
            " |    |    |    |    |    |    |    |    |    |    |    |    |    |    |    |    |    |    |    |    |    |-- _barcode: long (nullable = true)\n",
            " |    |    |    |    |    |    |    |    |    |    |    |    |    |    |    |    |    |    |    |    |    |-- _codeType: string (nullable = true)\n",
            " |    |    |    |    |    |    |    |    |    |    |    |    |    |    |    |    |    |    |    |    |    |-- _status: string (nullable = true)\n",
            " |    |    |    |    |    |    |    |    |    |    |    |    |    |    |    |    |    |    |-- galDatMain: struct (nullable = true)\n",
            " |    |    |    |    |    |    |    |    |    |    |    |    |    |    |    |    |    |    |    |-- _VALUE: string (nullable = true)\n",
            " |    |    |    |    |    |    |    |    |    |    |    |    |    |    |    |    |    |    |    |-- _assortKey1: string (nullable = true)\n",
            " |    |    |    |    |    |    |    |    |    |    |    |    |    |    |    |    |    |    |    |-- _companyGln: long (nullable = true)\n",
            " |    |    |    |    |    |    |    |    |    |    |    |    |    |    |    |    |    |    |    |-- _companyName: string (nullable = true)\n",
            " |    |    |    |    |    |    |    |    |    |    |    |    |    |    |    |    |    |    |    |-- _genericGroup: string (nullable = true)\n",
            " |    |    |    |    |    |    |    |    |    |    |    |    |    |    |    |    |    |    |    |-- _ggl: string (nullable = true)\n",
            " |    |    |    |    |    |    |    |    |    |    |    |    |    |    |    |    |    |    |    |-- _grdFrCode: long (nullable = true)\n",
            " |    |    |    |    |    |    |    |    |    |    |    |    |    |    |    |    |    |    |    |-- _groupCode: string (nullable = true)\n",
            " |    |    |    |    |    |    |    |    |    |    |    |    |    |    |    |    |    |    |    |-- _insCode: long (nullable = true)\n",
            " |    |    |    |    |    |    |    |    |    |    |    |    |    |    |    |    |    |    |    |-- _loaCode: string (nullable = true)\n",
            " |    |    |    |    |    |    |    |    |    |    |    |    |    |    |    |    |    |    |    |-- _newInsuranceCode: long (nullable = true)\n",
            " |    |    |    |    |    |    |    |    |    |    |    |    |    |    |    |    |    |    |    |-- _numOfPce: long (nullable = true)\n",
            " |    |    |    |    |    |    |    |    |    |    |    |    |    |    |    |    |    |    |    |-- _saleCode: string (nullable = true)\n",
            " |    |    |    |    |    |    |    |    |    |    |    |    |    |    |    |    |    |    |    |-- _smArzneiform: string (nullable = true)\n",
            " |    |    |    |    |    |    |    |    |    |    |    |    |    |    |    |    |    |    |    |-- _smHeilmittelcode: string (nullable = true)\n",
            " |    |    |    |    |    |    |    |    |    |    |    |    |    |    |    |    |    |    |    |-- _smSequenznummer: long (nullable = true)\n",
            " |    |    |    |    |    |    |    |    |    |    |    |    |    |    |    |    |    |    |    |-- _smZulassungskategorie: string (nullable = true)\n",
            " |    |    |    |    |    |    |    |    |    |    |    |    |    |    |    |    |    |    |    |-- _smZulassungsstatus: string (nullable = true)\n",
            " |    |    |    |    |    |    |    |    |    |    |    |    |    |    |    |    |    |    |    |-- _sourceOfGtin: string (nullable = true)\n",
            " |    |    |    |    |    |    |    |    |    |    |    |    |    |    |    |    |    |    |    |-- _swissmedicCancelDate: date (nullable = true)\n",
            " |    |    |    |    |    |    |    |    |    |    |    |    |    |    |    |    |    |    |    |-- _swissmedicCat: string (nullable = true)\n",
            " |    |    |    |    |    |    |    |    |    |    |    |    |    |    |    |    |    |    |    |-- _swissmedicDate: date (nullable = true)\n",
            " |    |    |    |    |    |    |    |    |    |    |    |    |    |    |    |    |    |    |    |-- _swissmedicKey: long (nullable = true)\n",
            " |    |    |    |    |    |    |    |    |    |    |    |    |    |    |    |    |    |    |    |-- _tmsCode: string (nullable = true)\n",
            " |    |    |    |    |    |    |    |    |    |    |    |    |    |    |    |    |    |    |-- galDatMedicalInfo: struct (nullable = true)\n",
            " |    |    |    |    |    |    |    |    |    |    |    |    |    |    |    |    |    |    |    |-- _VALUE: string (nullable = true)\n",
            " |    |    |    |    |    |    |    |    |    |    |    |    |    |    |    |    |    |    |    |-- _atcKey: string (nullable = true)\n",
            " |    |    |    |    |    |    |    |    |    |    |    |    |    |    |    |    |    |    |    |-- _therapKey1: string (nullable = true)\n",
            " |    |    |    |    |    |    |    |    |    |    |    |    |    |    |    |    |    |    |-- galDatNames: struct (nullable = true)\n",
            " |    |    |    |    |    |    |    |    |    |    |    |    |    |    |    |    |    |    |    |-- galDatName: struct (nullable = true)\n",
            " |    |    |    |    |    |    |    |    |    |    |    |    |    |    |    |    |    |    |    |    |-- _VALUE: string (nullable = true)\n",
            " |    |    |    |    |    |    |    |    |    |    |    |    |    |    |    |    |    |    |    |    |-- _langCode: string (nullable = true)\n",
            " |    |    |    |    |    |    |    |    |    |    |    |    |    |    |    |    |    |    |    |    |-- _multipl: long (nullable = true)\n",
            " |    |    |    |    |    |    |    |    |    |    |    |    |    |    |    |    |    |    |    |    |-- _qty: double (nullable = true)\n",
            " |    |    |    |    |    |    |    |    |    |    |    |    |    |    |    |    |    |    |    |    |-- _qtyUnit: string (nullable = true)\n",
            " |    |-- tariffRoot: struct (nullable = true)\n",
            " |    |    |-- _tariffDescriptor: long (nullable = true)\n",
            " |    |    |-- _validFrom: date (nullable = true)\n",
            " |    |    |-- _validTo: date (nullable = true)\n",
            " |    |    |-- descriptions: struct (nullable = true)\n",
            " |    |    |    |-- description: array (nullable = true)\n",
            " |    |    |    |    |-- element: struct (containsNull = true)\n",
            " |    |    |    |    |    |-- _language: string (nullable = true)\n",
            " |    |    |    |    |    |-- fulltext: string (nullable = true)\n",
            " |    |    |    |    |    |-- summary: string (nullable = true)\n",
            " |    |    |-- nodeDataTypes: struct (nullable = true)\n",
            " |    |    |    |-- nodeDataType: array (nullable = true)\n",
            " |    |    |    |    |-- element: struct (containsNull = true)\n",
            " |    |    |    |    |    |-- _VALUE: string (nullable = true)\n",
            " |    |    |    |    |    |-- _nodeDataType: string (nullable = true)\n",
            " |    |    |-- tariffInfos: struct (nullable = true)\n",
            " |    |    |    |-- tariffInfo: struct (nullable = true)\n",
            " |    |    |    |    |-- _VALUE: string (nullable = true)\n",
            " |    |    |    |    |-- _type: string (nullable = true)\n",
            " |    |    |    |    |-- _validFrom: date (nullable = true)\n",
            " |    |    |    |    |-- _validTo: date (nullable = true)\n",
            " |-- importFile: string (nullable = true)\n",
            "\n"
          ],
          "output_type" : "stream"
        }
      ]
    },
    {
      "cell_type" : "code",
      "execution_count" : 12,
      "metadata" : {
        "cell.metadata.exec_info" : {
          "startTs" : 1655307692508,
          "endTs" : 1655307694531
        },
        "language" : "scala"
      },
      "language" : "scala",
      "source" : [
        "spark.table(\"default.stg_tarif_init\").filter(\"tariffNodes is not null\").show()"
      ],
      "outputs" : [
        {
          "name" : "stdout",
          "text" : [
            "+--------------------+-------------------+---------+-------+---------------+----------+----------+--------------------+------+--------------------+\n",
            "|          importFile|_businessDescriptor|_nodeType|_parent|_parentNodeType|_validFrom|  _validTo|        descriptions|galDat|         tariffNodes|\n",
            "+--------------------+-------------------+---------+-------+---------------+----------+----------+--------------------+------+--------------------+\n",
            "|file:/mnt/data/TM...|               A01A|        C|    A01|              C|2008-01-01|2999-12-31|{[{de, Stomatolog...|  null|{[{A01AA, C, A01A...|\n",
            "+--------------------+-------------------+---------+-------+---------------+----------+----------+--------------------+------+--------------------+\n",
            "\n"
          ],
          "output_type" : "stream"
        }
      ]
    },
    {
      "cell_type" : "markdown",
      "execution_count" : 13,
      "metadata" : {
        "language" : "text"
      },
      "language" : "text",
      "source" : [
        "# Tarif Update\n",
        "\n"
      ],
      "outputs" : [
      ]
    },
    {
      "cell_type" : "code",
      "execution_count" : 14,
      "metadata" : {
        "cell.metadata.exec_info" : {
          "startTs" : 1655274141023,
          "endTs" : 1655274162933
        },
        "language" : "scala"
      },
      "language" : "scala",
      "source" : [
        "val df_tarif = spark.table(\"default.stg_tarif_mod\")\r\n",
        "df_tarif.select(\"*\").distinct().show(false)\r\n",
        "df_tarif.select(\"galDat.galDatMain.*\").distinct().show(false)"
      ],
      "outputs" : [
        {
          "name" : "stdout",
          "text" : [
            "+----------------------------------------------------------------------+-------------------+---------+---------+---------------+----------+----------+-----------+--------------------------------------------------------------------------------------------------------------------------------------------------------------------------------------------------------------------------------------+---------------------------------------------------------------------------------------------------------------------------------------------------------------------------------------------------------------------------------------------------------------------------------------------------------------------------------------------------------------------------------------------------------------------------------------------------------------------------------------------------------------------------------------------------------------------------------------------------------------------------------------------------------------------------------------------------------------------+\n",
            "|importFile                                                            |_businessDescriptor|_nodeType|_parent  |_parentNodeType|_validFrom|_validTo  |assignments|descriptions                                                                                                                                                                                                                          |galDat                                                                                                                                                                                                                                                                                                                                                                                                                                                                                                                                                                                                                                                                                                               |\n",
            "+----------------------------------------------------------------------+-------------------+---------+---------+---------------+----------+----------+-----------+--------------------------------------------------------------------------------------------------------------------------------------------------------------------------------------------------------------------------------------+---------------------------------------------------------------------------------------------------------------------------------------------------------------------------------------------------------------------------------------------------------------------------------------------------------------------------------------------------------------------------------------------------------------------------------------------------------------------------------------------------------------------------------------------------------------------------------------------------------------------------------------------------------------------------------------------------------------------+\n",
            "|file:/mnt/data/402_TMS_TMS2TMS_Tariff_2000.xsd_UPDATE_202205081904.xml|7640143441686      |P        |XY       |C              |2022-01-01|2999-12-31|null       |{[{de, VALERIANA COMP Heel gouttes fl 30 ml}]}                                                                                                                                                                                        |{{[{null, 2192848, PHC, A}, {null, 7640143441686, E13, A}]}, null, {null, null, null, null, null, null, null, null, null, null, null, null, 1, null, null, null, 12, null, null, null, null, null, null, null, null, C, null, null, null, null, null}, null, null, null, {[{null, 16.55, PPUB, 2022-01-01, 2999-12-31}]}}                                                                                                                                                                                                                                                                                                                                                                                            |\n",
            "|file:/mnt/data/402_TMS_TMS2TMS_Tariff_2000.xsd_UPDATE_202205081904.xml|7680447440664      |P        |N05AF05  |C              |2021-10-01|2022-04-30|null       |{[{de, Clopixol Filmdrag 10 mg 50 Stk}, {fr, Clopixol drag enro 10 mg 50 pce}, {it, Clopixol Filmdrag 10 mg 50 Stk}]}                                                                                                                 |{{[{null, 7680447440664, E13, A}, {null, 959435, PHC, A}]}, null, {null, 02.00.00.00, null, 1983-03-15, 7601001003064, Lundbeck (Schweiz) AG, null, N05AF05BB               , N, 0, M1, null, 1, N, null, Y, 10, 50, 1488, 2, DRAG, S, 2, null, Z, G, null, B, 1982-12-06, 44744066, null}, {null, N05AF05, 01.05.00, 01.05.}, null, {[{null, D, 1, 50.0, DRG}, {null, F, null, null, 50 pce}, {null, I, null, null, 50 Stk}]}, {[{null, 7.62, PEXF, 2021-10-01, 2022-04-30}, {null, 16.95, PPUB, 2021-10-01, 2022-04-30}]}}                                                                                                                                                                                         |\n",
            "|file:/mnt/data/402_TMS_TMS2TMS_Tariff_2000.xsd_UPDATE_202205081904.xml|7680545770953      |P        |L01AX03  |C              |2021-10-01|2022-04-30|null       |{[{de, Temodal Kaps 20 mg Btl 20 Stk}, {fr, Temodal caps 20 mg sach 20 pce}, {it, Temodal Kaps 20 mg Btl 20 Stk}]}                                                                                                                    |{{[{null, 4621101, PHC, A}, {null, 7680545770953, E13, A}]}, {[{null, 7680612250036, null, ORG}, {null, 7680612250043, null, ORG}, {null, 7680631930032, null, ORG}, {null, 7680670200059, null, ORG}, {null, 7680670200066, null, ORG}]}, {null, 01.00.00.00, null, 2010-07-01, 7601001001138, MSD Merck Sharp & Dohme AG, O, L01AX03DF               , N, 0, M1, null, 1, N, null, Y, 10, 20, 8651, 2, KAPS, S, 2, null, Z, G, null, A, 1999-09-27, 54577095, null}, {null, L01AX03, 07.16.10, 07.16.10}, null, {[{null, D, 1, 20.0, KAP}, {null, F, null, null, sach 20 pce}, {null, I, null, null, Btl 20 Stk}]}, {[{null, 189.94, PEXF, 2021-10-01, 2022-04-30}, {null, 234.45, PPUB, 2021-10-01, 2022-04-30}]}}|\n",
            "|file:/mnt/data/402_TMS_TMS2TMS_Tariff_2000.xsd_UPDATE_202205081904.xml|7680547400438      |P        |R05X     |C              |2022-05-01|2999-12-31|null       |{[{de, Vicks VapoRub, pommade}, {fr, VICKS VAPORUB ong pot 50 g}, {it, Vicks VapoRub, pommade}]}                                                                                                                                      |{{[{null, 4835339, PHC, A}, {null, 7680547400438, E13, A}]}, null, {null, 04.00.00.00, null, null, 7610053000006, Procter & Gamble International Operations SA, null, R05X   GV               , N, 0, M9, null, 3, null, null, N, 30, 1, null, null, SALB, S, 1, null, Z, G, null, D, 1999-04-22, 54740043, null}, {null, R05X, 03.06.00, null}, null, {[{null, D, 1, 50.0, G}]}, null}                                                                                                                                                                                                                                                                                                                              |\n",
            "|file:/mnt/data/402_TMS_TMS2TMS_Tariff_2000.xsd_UPDATE_202205081904.xml|7680579120038      |P        |J01MA02  |C              |2021-07-01|2022-04-30|null       |{[{de, Ciprofloxacin-Mepha 0.2 i.v., Infusionsl�sung}, {fr, Ciprofloxacin-Mepha 0.2 i.v., Infusionsl�sung}, {it, Ciprofloxacin-Mepha 0.2 i.v., Infusionsl�sung}]}                                                                     |{{[{null, 6701471, PHC, A}, {null, 7680579120038, E13, A}]}, null, {null, 01.00.00.00, 2020-07-01, 2007-08-01, null, null, null, J01MA02EJ               , N, 0, M1, null, 3, null, null, Y, 30, 1, null, null, LSPA, S, 2, null, Z, S, null, A, 2007-04-17, 57912003, null}, {null, J01MA02, 08.01.80, null}, null, {[{null, D, 1, 100.0, ml DUR}]}, null}                                                                                                                                                                                                                                                                                                                                                          |\n",
            "|file:/mnt/data/402_TMS_TMS2TMS_Tariff_2000.xsd_UPDATE_202205081904.xml|7680615140082      |P        |N05AH03  |C              |2021-07-01|2021-09-30|null       |{[{de, Olanzapin Zentiva Tabl 10 mg 28 Stk}, {fr, Olanzapin Zentiva cpr 10 mg 28 pce}, {it, Olanzapin Zentiva cpr 10 mg 28 pce}]}                                                                                                     |{{[{null, 7680615140082, E13, A}, {null, 7800817, PHC, A}]}, null, {null, 02.00.00.00, null, 2012-07-01, 7601001003736, Helvepharm AG, G, N05AH03IM               , N, 0, M1, null, 1, N, null, Y, 10, 28, 32232, 2, TAB, S, 3, null, Z, G, null, B, 2010-12-07, 61514008, null}, {null, N05AH03, 01.05.00, 01.05.}, null, {[{null, D, 1, 28.0, TABL}, {null, F, null, null, 28 pce}, {null, I, null, null, 28 pce}]}, {[{null, 57.57, PEXF, 2021-07-01, 2021-09-30}, {null, 82.5, PPUB, 2021-07-01, 2021-09-30}]}}                                                                                                                                                                                                  |\n",
            "|file:/mnt/data/402_TMS_TMS2TMS_Tariff_2000.xsd_UPDATE_202205081904.xml|7680626171204      |P        |V03ZA03  |C              |2022-03-01|2022-04-30|null       |{[{de, SPENGLERSAN Staphyl aure comp D 13 Nasenspr 20 ml}, {fr, SPENGLERSAN Staphyl aure comp 13 D spr nasal 20 ml}]}                                                                                                                 |{{[{null, 6729334, PHC, A}, {null, 7680626171204, E13, A}]}, null, {null, null, null, null, 7640149760002, Steinberg Pharma AG, null, V03ZA03                 , null, 0, null, null, 4, null, null, null, 32, null, null, null, null, null, null, null, null, R, null, null, null, 62617000, P}, {null, V03ZA03, null, null}, null, null, null}                                                                                                                                                                                                                                                                                                                                                                      |\n",
            "|file:/mnt/data/402_TMS_TMS2TMS_Tariff_2000.xsd_UPDATE_202205081904.xml|7680631930070      |P        |L01AX03  |C              |2022-05-01|2999-12-31|null       |{[{de, Temozolomid Labatec 140 mg, Capsules}, {fr, TEMOZOLOMID Labatec caps 140 mg 5 pce}, {it, Temozolomid Labatec 140 mg, Capsules}]}                                                                                               |{{[{null, 6025886, PHC, A}, {null, 7680631930070, E13, A}]}, null, {null, 01.00.00.00, 2022-05-01, 2015-01-01, 7601001000995, Labatec Pharma SA, G, L01AX03DF               , N, 0, M1, null, 1, N, null, Y, 10, 5, 26825, 2, KAPS, S, 4, null, Z, G, null, A, 2014-06-02, 63193007, null}, {null, L01AX03, 07.16.10, null}, null, {[{null, D, 1, 5.0, KAP}]}, {[{null, 406.77, PEXF, 2022-05-01, 2999-12-31}, {null, 483.35, PPUB, 2022-05-01, 2999-12-31}]}}                                                                                                                                                                                                                                                       |\n",
            "|file:/mnt/data/402_TMS_TMS2TMS_Tariff_2000.xsd_UPDATE_202205081904.xml|7680656720755      |P        |L04AX03  |C              |2021-12-01|2022-04-30|null       |{[{de, Metoject Autoinjektor 17.5 mg/0.35 ml, Injektionsl�sung im Fertigpen}, {fr, Metoject Autoinjektor 17.5 mg/0.35 ml, Injektionsl�sung im Fertigpen}, {it, Metoject Autoinjektor 17.5 mg/0.35 ml, Injektionsl�sung im Fertigpen}]}|{{[{null, 7680656720755, E13, A}]}, null, {null, 01.00.00.00, null, null, null, null, null, L04AX03QP               , N, 0, M1, null, 3, null, null, Y, 30, 24, null, null, INLFP, S, 5, null, Z, S, null, A, 2017-03-17, 65672075, null}, {null, L04AX03, 07.10.60, null}, null, {[{null, D, 1, 24.0, STU}]}, null}                                                                                                                                                                                                                                                                                                                                                                                                 |\n",
            "|file:/mnt/data/402_TMS_TMS2TMS_Tariff_2000.xsd_UPDATE_202205081904.xml|7680677920011      |P        |XY       |C              |2021-10-01|2022-04-30|null       |{[{de, Inrebic Kaps 100 mg Ds 120 Stk}, {fr, Inrebic caps 100 mg bte 120 pce}, {it, Inrebic Kaps 100 mg Ds 120 Stk}]}                                                                                                                 |{{[{null, 7680677920011, E13, A}, {null, 7808396, PHC, A}]}, null, {null, 01.00.00.00, null, 2021-09-01, 7601001398788, Celgene GmbH, null, L01EJ02DF               , N, 0, M1, null, 1, Y, null, Y, 10, 120, 32390, 2, KAPS, S, 1, null, B, G, null, A, 2021-07-01, 67792001, null}, {null, L01EJ02, 07.16.10, 07.16.10}, null, {[{null, D, 1, 120.0, KAP}, {null, F, null, null, bte 120 pce}, {null, I, null, null, Ds 120 Stk}]}, {[{null, 5182.83, PEXF, 2021-10-01, 2022-04-30}, {null, 5558.4, PPUB, 2021-10-01, 2022-04-30}]}}                                                                                                                                                                               |\n",
            "|file:/mnt/data/402_TMS_TMS2TMS_Tariff_2000.xsd_UPDATE_202205081904.xml|7680679580015      |P        |C09BX01  |C              |2021-07-15|2021-08-31|null       |{[{de, PERINDO AMLO INDAP Zentiva Tabl 4/5/1.25mg 30 Stk}, {fr, PERINDO AMLO INDAP Zentiva cpr 4/5/1.25mg 30 pce}]}                                                                                                                   |{{[{null, 7680679580015, E13, A}, {null, 7806935, PHC, A}]}, null, {null, null, null, null, 7601001003736, Helvepharm AG, null, C09BX01                 , null, 0, null, null, 3, null, null, null, 30, null, null, null, null, null, null, null, null, R, null, null, null, 67958001, P}, {null, C09BX01, null, null}, null, null, null}                                                                                                                                                                                                                                                                                                                                                                            |\n",
            "|file:/mnt/data/402_TMS_TMS2TMS_Tariff_2000.xsd_UPDATE_202205081904.xml|7680681340034      |P        |L01XE04  |C              |2021-09-13|2021-10-31|null       |{[{de, Sunitinib Zentiva 50 mg, Hartkapseln}, {fr, Sunitinib Zentiva 50 mg, Hartkapseln}, {it, Sunitinib Zentiva 50 mg, Hartkapseln}]}                                                                                                |{{[{null, 7680681340034, E13, A}, {null, 7816656, PHC, A}]}, null, {null, 01.00.00.00, null, null, null, null, null, L01XE04CZ               , N, 0, M1, null, 3, null, null, Y, 30, 28, null, null, KAHA, S, 3, null, Z, S, null, A, 2021-09-13, 68134003, null}, {null, L01XE04, 07.16.10, null}, null, {[{null, D, 1, 28.0, KAP}]}, null}                                                                                                                                                                                                                                                                                                                                                                         |\n",
            "|file:/mnt/data/402_TMS_TMS2TMS_Tariff_2000.xsd_UPDATE_202205081904.xml|7680684400018      |P        |B01AF01  |C              |2022-04-06|2999-12-31|null       |{[{de, Rivaroxaban-Mepha vascular 2.5 mg Filmtabletten}, {fr, Rivaroxaban-Mepha vascular 2.5 mg Filmtabletten}, {it, Rivaroxaban-Mepha vascular 2.5 mg Filmtabletten}]}                                                               |{{[{null, 7680684400018, E13, A}]}, null, {null, 02.00.00.00, null, null, null, null, null, B01AF01BJ               , N, 0, M1, null, 3, null, null, Y, 30, 56, null, null, FILM, S, 1, null, Z, S, null, B, 2022-04-06, 68440001, null}, {null, B01AF01, 06.03.00, null}, null, {[{null, D, 1, 56.0, TABL}]}, null}                                                                                                                                                                                                                                                                                                                                                                                                 |\n",
            "|file:/mnt/data/402_TMS_TMS2TMS_Tariff_2000.xsd_UPDATE_202205081904.xml|7680684560064      |P        |C09DA08  |C              |2022-04-28|2999-12-31|null       |{[{de, Olmesartan-HCT-Mepha Teva 40/12.5 mg, Filmtabletten}, {fr, Olmesartan-HCT-Mepha Teva 40/12.5 mg, Filmtabletten}, {it, Olmesartan-HCT-Mepha Teva 40/12.5 mg, Filmtabletten}]}                                                   |{{[{null, 7680684560064, E13, A}]}, null, {null, 02.00.00.00, null, null, null, null, null, C09DA08BJ               , N, 0, M1, null, 3, null, null, Y, 30, 98, null, null, FILM, S, 3, null, Z, S, null, B, 2022-04-28, 68456006, null}, {null, C09DA08, 02.07.20, null}, null, {[{null, D, 1, 98.0, TABL}]}, null}                                                                                                                                                                                                                                                                                                                                                                                                 |\n",
            "|file:/mnt/data/402_TMS_TMS2TMS_Tariff_2000.xsd_UPDATE_202205081904.xml|2000017040455      |P        |XY       |C              |2012-01-01|2022-05-31|null       |{[{de, CERES Hypericum comp Tropfen 20 ml}]}                                                                                                                                                                                          |{{[{null, 1704045, PHC, A}]}, null, {null, null, null, null, null, null, null, null, N, 0, null, N, 4, Y, null, N, 32, null, null, null, null, null, null, null, null, P, null, null, null, null, null}, null, null, null, {[{null, 31.3, PPUB, 2012-01-01, 2022-05-31}]}}                                                                                                                                                                                                                                                                                                                                                                                                                                           |\n",
            "|file:/mnt/data/402_TMS_TMS2TMS_Tariff_2000.xsd_UPDATE_202205081904.xml|5016003781605      |P        |NonPharma|C              |2021-02-01|2999-12-31|null       |{[{de, CONTOUR NEXT ONE Blutzuckermessger�t}, {fr, CONTOUR NEXT ONE lecteur de glyc�mie}]}                                                                                                                                            |{{[{null, 5016003781605, E13, A}, {null, 6635484, PHC, A}]}, {[{null, 21.02.03.00.1, 1.0, MIG}]}, {null, null, null, null, 7601003956702, Ascensia Diabetes Care Switzerland AG, null, null, null, 0, null, null, 1, Y, null, null, 13, null, null, null, null, null, null, null, null, R, null, null, null, null, N}, null, {{null, 210203001}}, null, null}                                                                                                                                                                                                                                                                                                                                                        |\n",
            "|file:/mnt/data/402_TMS_TMS2TMS_Tariff_2000.xsd_UPDATE_202205081904.xml|7612841508541      |P        |XY       |C              |2022-01-01|2999-12-31|null       |null                                                                                                                                                                                                                                  |{{[{null, 7612841508541, E13, A}]}, null, {null, null, null, null, null, null, null, null, null, null, null, null, 4, null, null, null, null, null, null, null, null, null, null, null, null, C, null, null, null, null, null}, null, null, null, {[{null, 7.65, PPUB, 2022-01-01, 2999-12-31}]}}                                                                                                                                                                                                                                                                                                                                                                                                                    |\n",
            "|file:/mnt/data/402_TMS_TMS2TMS_Tariff_2000.xsd_UPDATE_202205081904.xml|7640143440498      |P        |XY       |C              |2022-01-01|2999-12-31|null       |{[{de, ARNICA COMP Heel cpr 250 pce}]}                                                                                                                                                                                                |{{[{null, 2190200, PHC, A}, {null, 7640143440498, E13, A}]}, null, {null, null, null, null, null, null, null, null, null, null, null, null, 1, null, null, null, 12, null, null, null, null, null, null, null, null, C, null, null, null, null, null}, null, null, null, {[{null, 69.3, PPUB, 2022-01-01, 2999-12-31}]}}                                                                                                                                                                                                                                                                                                                                                                                             |\n",
            "|file:/mnt/data/402_TMS_TMS2TMS_Tariff_2000.xsd_UPDATE_202205081904.xml|7640369610378      |P        |L04AA06  |C              |2021-10-01|2021-11-30|null       |{[{de, CellCept (PI) Kaps 250 mg Blist 300 Stk}, {fr, CellCept (IP) caps 250 mg blist 300 pce}, {it, CellCept (PI) Kaps 250 mg Blist 300 Stk}]}                                                                                       |{{[{null, 7640369610378, E13, A}, {null, 7752566, PHC, A}]}, {[{null, 7680586200013, null, ORG}, {null, 7680592200038, null, ORG}]}, {null, 02.00.00.00, null, 2020-04-01, 7601001376724, APS-Arzneimittel-Parallelimport-Service AG, O, L04AA06DF               , N, 0, M1, null, 1, N, null, Y, 10, 300, 31865, 2, KAPS, S, 1, P, Z, G, null, B, 2019-10-02, 67387002, null}, {null, L04AA06, 07.15.00, 07.15.}, null, {[{null, D, 1, 300.0, KAP}, {null, F, null, null, blist 300 pce}, {null, I, null, null, Blist 300 Stk}]}, {[{null, 333.86, PEXF, 2021-10-01, 2021-11-30}, {null, 399.65, PPUB, 2021-10-01, 2021-11-30}]}}                                                                                   |\n",
            "|file:/mnt/data/402_TMS_TMS2TMS_Tariff_2000.xsd_UPDATE_202205081904.xml|7680329340563      |P        |N06AA04  |C              |2020-04-15|2020-12-31|null       |{[{de, Anafranil Drag 25 mg 30 Stk}, {fr, Anafranil drag 25 mg 30 pce}, {it, Anafranil confetti 25 mg 30 pez}]}                                                                                                                       |{{[{null, 165066, PHC, A}, {null, 7680329340563, E13, A}]}, null, {null, 02.00.00.00, null, 1967-03-15, 7601001300477, Novartis Pharma Schweiz AG, null, N06AA04BB               , N, 0, M1, null, 1, N, null, Y, 10, 30, 389, 2, DRAG, S, 2, N, Z, G, null, B, 1966-10-25, 32934056, null}, {null, N06AA04, 01.06.00, 01.06.}, null, {[{null, D, 1, 30.0, DRG}, {null, F, null, null, 30 pce}, {null, I, null, null, 30 pez}]}, {[{null, 3.08, PEXF, 2020-04-15, 2020-12-31}, {null, 7.65, PPUB, 2020-04-15, 2020-12-31}]}}                                                                                                                                                                                         |\n",
            "+----------------------------------------------------------------------+-------------------+---------+---------+---------------+----------+----------+-----------+--------------------------------------------------------------------------------------------------------------------------------------------------------------------------------------------------------------------------------------+---------------------------------------------------------------------------------------------------------------------------------------------------------------------------------------------------------------------------------------------------------------------------------------------------------------------------------------------------------------------------------------------------------------------------------------------------------------------------------------------------------------------------------------------------------------------------------------------------------------------------------------------------------------------------------------------------------------------+\n",
            "only showing top 20 rows\n",
            "\n",
            "+------+-----------+------------+----------+-------------+------------------------------------------------------------+------------+------------------------+----+----------+----------+---------+--------+-----------+-------+--------+-----------------+---------+-----------+--------+-------------+-----------------+----------------+----------------------+-------------------+-------------+---------------------+--------------+---------------+--------------+--------+\n",
            "|_VALUE|_assortKey1|_bsvCancDate|_bsvSLDate|_companyGln  |_companyName                                                |_genericCode|_genericGroup           |_ggl|_grdFrCode|_groupCode|_hospCode|_insCode|_insCodeLim|_limPkt|_loaCode|_newInsuranceCode|_numOfPce|_productKey|_sloPlus|_smArzneiform|_smHeilmittelcode|_smSequenznummer|_smZulassungskategorie|_smZulassungsstatus|_sourceOfGtin|_swissmedicCancelDate|_swissmedicCat|_swissmedicDate|_swissmedicKey|_tmsCode|\n",
            "+------+-----------+------------+----------+-------------+------------------------------------------------------------+------------+------------------------+----+----------+----------+---------+--------+-----------+-------+--------+-----------------+---------+-----------+--------+-------------+-----------------+----------------+----------------------+-------------------+-------------+---------------------+--------------+---------------+--------------+--------+\n",
            "|null  |02.00.00.00|null        |1997-03-15|null         |null                                                        |null        |N04BB01EJ               |N   |0         |M1        |null     |1       |N          |null   |Y       |10               |10       |6451       |2       |LSPA         |S                |1               |null                  |Z                  |S            |null                 |B             |1982-12-16     |44135019      |null    |\n",
            "|null  |04.00.00.00|null        |null      |7601001002593|Bayer (Schweiz) AG                                          |null        |R01AX10ES               |N   |0         |M9        |null     |4       |null       |null   |N       |34               |10       |null       |null    |NASA         |S                |1               |null                  |D                  |G            |2022-03-03           |D             |1983-09-08     |45535029      |null    |\n",
            "|null  |04.00.00.00|null        |null      |7640167720002|VERFORA SA                                                  |null        |R05DB13HK               |N   |0         |M9        |null     |3       |null       |null   |N       |30               |1        |null       |null    |SIRU         |S                |1               |null                  |Z                  |G            |null                 |D             |1997-05-07     |53954001      |null    |\n",
            "|null  |01.00.00.00|null        |null      |null         |null                                                        |null        |J01DE01                 |N   |0         |M1        |null     |3       |null       |null   |Y       |30               |5        |null       |null    |PULVII       |S                |2               |null                  |Z                  |S            |null                 |A             |2007-09-28     |58378004      |null    |\n",
            "|null  |null       |null        |2009-02-01|7601001003736|Helvepharm AG                                               |G           |null                    |null|0         |null      |null     |1       |Y          |null   |Y       |10               |null     |31830      |2       |null         |null             |null            |null                  |null               |R            |null                 |B             |null           |59194007      |P       |\n",
            "|null  |02.00.00.00|null        |null      |null         |null                                                        |null        |N03AX14BJ               |N   |0         |M1        |null     |3       |null       |null   |Y       |30               |30       |null       |null    |FILM         |S                |4               |null                  |Z                  |S            |null                 |B             |2012-03-21     |62036012      |null    |\n",
            "|null  |null       |null        |2013-11-01|7601001003736|Helvepharm AG                                               |G           |null                    |null|0         |null      |null     |1       |Y          |null   |null    |10               |null     |25501      |2       |null         |null             |null            |null                  |null               |R            |null                 |B             |null           |62412001      |P       |\n",
            "|null  |null       |null        |2014-01-01|7601001003736|Helvepharm AG                                               |G           |null                    |null|0         |null      |null     |1       |N          |null   |Y       |10               |null     |26205      |2       |null         |null             |null            |null                  |null               |R            |null                 |B             |null           |62756002      |P       |\n",
            "|null  |02.00.00.00|null        |2013-10-01|7601001394834|Spirig HealthCare AG                                        |G           |R06AX27BJ               |N   |0         |M1        |null     |1       |N          |null   |Y       |10               |50       |26118      |2       |FILM         |S                |1               |null                  |D                  |G            |2022-04-20           |B             |2013-07-31     |63030003      |null    |\n",
            "|null  |02.00.00.00|null        |null      |null         |null                                                        |null        |C01DX22BJ               |N   |0         |M1        |null     |4       |null       |null   |Y       |34               |14       |null       |null    |FILM         |S                |3               |null                  |D                  |S            |2022-04-12           |B             |2021-09-22     |68001013      |null    |\n",
            "|null  |01.00.00.00|null        |null      |null         |null                                                        |null        |L04AX03                 |N   |0         |M1        |null     |3       |null       |null   |Y       |30               |1        |null       |null    |LSIFI        |S                |8               |ZBI                   |Z                  |S            |null                 |A             |2021-04-26     |68244008      |null    |\n",
            "|null  |02.00.00.00|2022-01-01  |2021-09-01|7601001411364|Xiromed SA                                                  |G           |C03DA04BJ               |N   |0         |M1        |null     |1       |Y          |null   |Y       |10               |100      |32425      |2       |FILM         |S                |1               |null                  |Z                  |G            |null                 |B             |2021-06-25     |68283002      |null    |\n",
            "|null  |01.00.00.00|null        |2021-12-01|7601001003736|Helvepharm AG                                               |G           |L01BA04QW               |N   |0         |M1        |null     |1       |Y          |null   |Y       |10               |1        |32514      |2       |KOINF        |S                |3               |null                  |Z                  |G            |null                 |A             |2021-09-27     |68404003      |null    |\n",
            "|null  |null       |null        |null      |7601001341883|WALA Schweiz AG                                             |null        |V03ZB                   |null|0         |null      |null     |4       |null       |null   |null    |80               |null     |null       |null    |null         |null             |null            |null                  |null               |R            |null                 |null          |null           |60318000      |P       |\n",
            "|null  |02.00.00.00|null        |1974-03-15|7601001010208|Roche Pharma (Schweiz) AG                                   |null        |N04BA02CZ               |N   |0         |M1        |null     |1       |N          |null   |Y       |10               |100      |4662       |2       |KAHA         |S                |2               |null                  |Z                  |G            |null                 |B             |1973-06-27     |38096036      |null    |\n",
            "|null  |02.00.00.00|2022-05-01  |1984-03-15|7601001364158|Mundipharma Medical Company (Hamilton, Bermuda, Basel Branc)|null        |R03DA04GU   00000400MGX |N   |0         |M1        |null     |1       |N          |null   |Y       |10               |30       |8090       |null    |null         |null             |null            |null                  |null               |null         |null                 |B             |1983-06-17     |45007049      |null    |\n",
            "|null  |null       |null        |1994-03-15|7601001000162|MEDA Pharma GmbH                                            |null        |null                    |null|0         |null      |null     |1       |N          |null   |Y       |10               |null     |4939       |2       |null         |null             |null            |null                  |null               |R            |null                 |B             |null           |51920082      |P       |\n",
            "|null  |02.00.00.00|null        |2013-04-01|7601002796712|Dr. Falk Pharma AG                                          |null        |A07EC02CE               |N   |0         |M1        |null     |1       |N          |null   |Y       |10               |90       |25115      |2       |GRAO         |S                |4               |null                  |Z                  |G            |null                 |B             |2003-09-18     |55951016      |null    |\n",
            "|null  |02.00.00.00|null        |2012-06-01|null         |null                                                        |G           |C09CA01BJ               |N   |0         |M1        |null     |1       |N          |null   |Y       |10               |98       |32441      |2       |FILM         |S                |3               |null                  |Z                  |S            |null                 |B             |2011-01-14     |60234015      |null    |\n",
            "|null  |02.00.00.00|null        |null      |null         |null                                                        |null        |N03AX14BJ               |N   |0         |M1        |null     |3       |null       |null   |Y       |30               |100      |null       |null    |FILM         |S                |4               |null                  |Z                  |S            |null                 |B             |2012-03-21     |62036013      |null    |\n",
            "+------+-----------+------------+----------+-------------+------------------------------------------------------------+------------+------------------------+----+----------+----------+---------+--------+-----------+-------+--------+-----------------+---------+-----------+--------+-------------+-----------------+----------------+----------------------+-------------------+-------------+---------------------+--------------+---------------+--------------+--------+\n",
            "only showing top 20 rows\n",
            "\n"
          ],
          "output_type" : "stream"
        }
      ]
    },
    {
      "cell_type" : "code",
      "execution_count" : 15,
      "metadata" : {
        "cell.metadata.exec_info" : {
          "startTs" : 1654696346034,
          "endTs" : 1654696347411
        },
        "language" : "scala"
      },
      "language" : "scala",
      "source" : [
        "val ex1 = df_tarif.filter($\"_businessDescriptor\" === \"7640143440498\").filter($\"_validTo\" === \"2999-12-31\")\r\n",
        "ex1.show(false)\r\n",
        "ex1.select(\"galDat.galDatMain.*\").show(false)"
      ],
      "outputs" : [
        {
          "name" : "stdout",
          "text" : [
            "+----------------------------------------------------------------------+-------------------+---------+-------+---------------+----------+----------+-----------+--------------------------------------+------------------------------------------------------------------------------------------------------------------------------------------------------------------------------------------------------------------------------------------------------------------------------------------------------------------------+\n",
            "|importFile                                                            |_businessDescriptor|_nodeType|_parent|_parentNodeType|_validFrom|_validTo  |assignments|descriptions                          |galDat                                                                                                                                                                                                                                                                                                                  |\n",
            "+----------------------------------------------------------------------+-------------------+---------+-------+---------------+----------+----------+-----------+--------------------------------------+------------------------------------------------------------------------------------------------------------------------------------------------------------------------------------------------------------------------------------------------------------------------------------------------------------------------+\n",
            "|file:/mnt/data/402_TMS_TMS2TMS_Tariff_2000.xsd_UPDATE_202205081904.xml|7640143440498      |P        |XY     |C              |2022-01-01|2999-12-31|null       |{[{de, ARNICA COMP Heel cpr 250 pce}]}|{{[{null, 2190200, PHC, A}, {null, 7640143440498, E13, A}]}, null, {null, null, null, null, null, null, null, null, null, null, null, null, 1, null, null, null, 12, null, null, null, null, null, null, null, null, C, null, null, null, null, null}, null, null, null, {[{null, 69.3, PPUB, 2022-01-01, 2999-12-31}]}}|\n",
            "+----------------------------------------------------------------------+-------------------+---------+-------+---------------+----------+----------+-----------+--------------------------------------+------------------------------------------------------------------------------------------------------------------------------------------------------------------------------------------------------------------------------------------------------------------------------------------------------------------------+\n",
            "\n",
            "+------+-----------+------------+----------+-----------+------------+------------+-------------+----+----------+----------+---------+--------+-----------+-------+--------+-----------------+---------+-----------+--------+-------------+-----------------+----------------+----------------------+-------------------+-------------+---------------------+--------------+---------------+--------------+--------+\n",
            "|_VALUE|_assortKey1|_bsvCancDate|_bsvSLDate|_companyGln|_companyName|_genericCode|_genericGroup|_ggl|_grdFrCode|_groupCode|_hospCode|_insCode|_insCodeLim|_limPkt|_loaCode|_newInsuranceCode|_numOfPce|_productKey|_sloPlus|_smArzneiform|_smHeilmittelcode|_smSequenznummer|_smZulassungskategorie|_smZulassungsstatus|_sourceOfGtin|_swissmedicCancelDate|_swissmedicCat|_swissmedicDate|_swissmedicKey|_tmsCode|\n",
            "+------+-----------+------------+----------+-----------+------------+------------+-------------+----+----------+----------+---------+--------+-----------+-------+--------+-----------------+---------+-----------+--------+-------------+-----------------+----------------+----------------------+-------------------+-------------+---------------------+--------------+---------------+--------------+--------+\n",
            "|null  |null       |null        |null      |null       |null        |null        |null         |null|null      |null      |null     |1       |null       |null   |null    |12               |null     |null       |null    |null         |null             |null            |null                  |null               |C            |null                 |null          |null           |null          |null    |\n",
            "+------+-----------+------------+----------+-----------+------------+------------+-------------+----+----------+----------+---------+--------+-----------+-------+--------+-----------------+---------+-----------+--------+-------------+-----------------+----------------+----------------------+-------------------+-------------+---------------------+--------------+---------------+--------------+--------+\n",
            "\n"
          ],
          "output_type" : "stream"
        }
      ]
    },
    {
      "cell_type" : "code",
      "execution_count" : 16,
      "metadata" : {
        "cell.metadata.exec_info" : {
          "startTs" : 1654695242804,
          "endTs" : 1654695244304
        },
        "language" : "scala"
      },
      "language" : "scala",
      "source" : [
        "val ex2 = df_tarif.filter($\"_businessDescriptor\" === \"5016003781605\").filter($\"_validTo\" === \"2999-12-31\")\r\n",
        "ex2.show(false)\r\n",
        "ex2.select(\"galDat.galDatMain.*\").show(false)"
      ],
      "outputs" : [
        {
          "name" : "stdout",
          "text" : [
            "+----------------------------------------------------------------------+-------------------+---------+---------+---------------+----------+----------+-----------+------------------------------------------------------------------------------------------+-------------------------------------------------------------------------------------------------------------------------------------------------------------------------------------------------------------------------------------------------------------------------------------------------------------------------------------------------------------+\n",
            "|importFile                                                            |_businessDescriptor|_nodeType|_parent  |_parentNodeType|_validFrom|_validTo  |assignments|descriptions                                                                              |galDat                                                                                                                                                                                                                                                                                                                                                       |\n",
            "+----------------------------------------------------------------------+-------------------+---------+---------+---------------+----------+----------+-----------+------------------------------------------------------------------------------------------+-------------------------------------------------------------------------------------------------------------------------------------------------------------------------------------------------------------------------------------------------------------------------------------------------------------------------------------------------------------+\n",
            "|file:/mnt/data/402_TMS_TMS2TMS_Tariff_2000.xsd_UPDATE_202205081904.xml|5016003781605      |P        |NonPharma|C              |2021-02-01|2999-12-31|null       |{[{de, CONTOUR NEXT ONE Blutzuckermessger�t}, {fr, CONTOUR NEXT ONE lecteur de glyc�mie}]}|{{[{null, 5016003781605, E13, A}, {null, 6635484, PHC, A}]}, {[{null, 21.02.03.00.1, 1.0, MIG}]}, {null, null, null, null, 7601003956702, Ascensia Diabetes Care Switzerland AG, null, null, null, 0, null, null, 1, Y, null, null, 13, null, null, null, null, null, null, null, null, R, null, null, null, null, N}, null, {{null, 210203001}}, null, null}|\n",
            "+----------------------------------------------------------------------+-------------------+---------+---------+---------------+----------+----------+-----------+------------------------------------------------------------------------------------------+-------------------------------------------------------------------------------------------------------------------------------------------------------------------------------------------------------------------------------------------------------------------------------------------------------------------------------------------------------------+\n",
            "\n",
            "+------+-----------+------------+----------+-------------+-------------------------------------+------------+-------------+----+----------+----------+---------+--------+-----------+-------+--------+-----------------+---------+-----------+--------+-------------+-----------------+----------------+----------------------+-------------------+-------------+---------------------+--------------+---------------+--------------+--------+\n",
            "|_VALUE|_assortKey1|_bsvCancDate|_bsvSLDate|_companyGln  |_companyName                         |_genericCode|_genericGroup|_ggl|_grdFrCode|_groupCode|_hospCode|_insCode|_insCodeLim|_limPkt|_loaCode|_newInsuranceCode|_numOfPce|_productKey|_sloPlus|_smArzneiform|_smHeilmittelcode|_smSequenznummer|_smZulassungskategorie|_smZulassungsstatus|_sourceOfGtin|_swissmedicCancelDate|_swissmedicCat|_swissmedicDate|_swissmedicKey|_tmsCode|\n",
            "+------+-----------+------------+----------+-------------+-------------------------------------+------------+-------------+----+----------+----------+---------+--------+-----------+-------+--------+-----------------+---------+-----------+--------+-------------+-----------------+----------------+----------------------+-------------------+-------------+---------------------+--------------+---------------+--------------+--------+\n",
            "|null  |null       |null        |null      |7601003956702|Ascensia Diabetes Care Switzerland AG|null        |null         |null|0         |null      |null     |1       |Y          |null   |null    |13               |null     |null       |null    |null         |null             |null            |null                  |null               |R            |null                 |null          |null           |null          |N       |\n",
            "+------+-----------+------------+----------+-------------+-------------------------------------+------------+-------------+----+----------+----------+---------+--------+-----------+-------+--------+-----------------+---------+-----------+--------+-------------+-----------------+----------------+----------------------+-------------------+-------------+---------------------+--------------+---------------+--------------+--------+\n",
            "\n"
          ],
          "output_type" : "stream"
        }
      ]
    },
    {
      "cell_type" : "code",
      "execution_count" : 17,
      "metadata" : {
        "cell.metadata.exec_info" : {
          "startTs" : 1654695576371,
          "endTs" : 1654695577133
        },
        "language" : "scala"
      },
      "language" : "scala",
      "source" : [
        "df_tarif.select(\"galDat.galDatMain._newInsuranceCode\").groupBy($\"_newInsuranceCode\").count().sort(\"_newInsuranceCode\").show()"
      ],
      "outputs" : [
        {
          "name" : "stdout",
          "text" : [
            "+-----------------+-----+\n",
            "|_newInsuranceCode|count|\n",
            "+-----------------+-----+\n",
            "|             null|  116|\n",
            "|               10| 2379|\n",
            "|               12|   72|\n",
            "|               13|   55|\n",
            "|               20|   67|\n",
            "|               30| 1133|\n",
            "|               32|   73|\n",
            "|               33|    1|\n",
            "|               34|  136|\n",
            "|               80|   12|\n",
            "|               81|    1|\n",
            "|               99|   77|\n",
            "+-----------------+-----+\n",
            "\n"
          ],
          "output_type" : "stream"
        }
      ]
    },
    {
      "cell_type" : "code",
      "execution_count" : 18,
      "metadata" : {
        "cell.metadata.exec_info" : {
          "startTs" : 1655274725302,
          "endTs" : 1655274726249
        },
        "language" : "scala"
      },
      "language" : "scala",
      "source" : [
        "df_tarif.filter($\"galDat.galDatMain._newInsuranceCode\" === 10).select(\"_businessDescriptor\", \"descriptions.description\", \"galDat.galDatMain.*\").show(false)"
      ],
      "outputs" : [
        {
          "name" : "stdout",
          "text" : [
            "+-------------------+-----------------------------------------------------------------------------------------------------------------------------------------------+------+-----------+------------+----------+-------------+------------------------------------------+------------+------------------------+----+----------+----------+---------+--------+-----------+-------+--------+-----------------+---------+-----------+--------+-------------+-----------------+----------------+----------------------+-------------------+-------------+---------------------+--------------+---------------+--------------+--------+\n",
            "|_businessDescriptor|description                                                                                                                                    |_VALUE|_assortKey1|_bsvCancDate|_bsvSLDate|_companyGln  |_companyName                              |_genericCode|_genericGroup           |_ggl|_grdFrCode|_groupCode|_hospCode|_insCode|_insCodeLim|_limPkt|_loaCode|_newInsuranceCode|_numOfPce|_productKey|_sloPlus|_smArzneiform|_smHeilmittelcode|_smSequenznummer|_smZulassungskategorie|_smZulassungsstatus|_sourceOfGtin|_swissmedicCancelDate|_swissmedicCat|_swissmedicDate|_swissmedicKey|_tmsCode|\n",
            "+-------------------+-----------------------------------------------------------------------------------------------------------------------------------------------+------+-----------+------------+----------+-------------+------------------------------------------+------------+------------------------+----+----------+----------+---------+--------+-----------+-------+--------+-----------------+---------+-----------+--------+-------------+-----------------+----------------+----------------------+-------------------+-------------+---------------------+--------------+---------------+--------------+--------+\n",
            "|7611746013440      |[{de, Kapanol Ret Kaps 20 mg 28 St�ck}]                                                                                                        |null  |null       |null        |2021-11-01|null         |null                                      |null        |null                    |N   |0         |null      |N        |1       |N          |null   |Y       |10               |28       |null       |2       |null         |null             |null            |null                  |null               |null         |null                 |A             |null           |null          |null    |\n",
            "|7611746013457      |[{de, Kapanol Ret Kaps 50 mg 28 St�ck}]                                                                                                        |null  |null       |null        |2021-11-01|null         |null                                      |null        |null                    |N   |0         |null      |N        |1       |N          |null   |Y       |10               |28       |null       |2       |null         |null             |null            |null                  |null               |null         |null                 |A             |null           |null          |null    |\n",
            "|7611746945246      |[{de, Kapanol Ret Kaps 100 mg 28 Stk}]                                                                                                         |null  |null       |null        |2021-11-01|null         |null                                      |null        |null                    |N   |0         |null      |N        |1       |N          |null   |Y       |10               |28       |null       |2       |null         |null             |null            |null                  |null               |null         |null                 |A             |null           |null          |null    |\n",
            "|7611746945314      |[{de, Kapanol Ret Kaps 100 mg Fl 50 Stk}, {fr, Kapanol caps ret 100 mg fl 50 pce}, {it, Kapanol Ret Kaps 100 mg Fl 50 Stk}]                    |null  |null       |null        |2021-12-01|null         |null                                      |null        |null                    |N   |0         |null      |N        |1       |N          |null   |Y       |10               |null     |null       |2       |null         |null             |null            |null                  |null               |null         |null                 |A             |null           |null          |null    |\n",
            "|7611746945321      |[{de, Kapanol Ret Kaps 50 mg Fl 100 Stk}, {fr, Kapanol caps ret 50 mg fl 100 pce}, {it, Kapanol Ret Kaps 50 mg Fl 100 Stk}]                    |null  |null       |null        |2021-12-01|null         |null                                      |null        |null                    |N   |0         |null      |N        |1       |N          |null   |Y       |10               |null     |null       |2       |null         |null             |null            |null                  |null               |null         |null                 |A             |null           |null          |null    |\n",
            "|7612929500672      |[{de, NACL Bichsel Inf L�s 0.9 % 100ml Plastikfla o Be}]                                                                                       |null  |02.00.00.00|null        |null      |null         |null                                      |null        |null                    |N   |0         |M1        |N        |1       |N          |null   |Y       |10               |null     |null       |null    |LSPA         |S                |1               |null                  |Z                  |C            |null                 |B             |1963-06-03     |29800057      |null    |\n",
            "|7612929500689      |[{de, NACL Bichsel sol perf 0.9 % 250ml flac plast s di}]                                                                                      |null  |02.00.00.00|null        |null      |null         |null                                      |null        |null                    |N   |0         |M1        |N        |1       |N          |null   |Y       |10               |null     |null       |null    |LSPA         |S                |1               |null                  |Z                  |C            |null                 |B             |1963-06-03     |29800014      |null    |\n",
            "|7612929500696      |[{de, NACL Bichsel Inf L�s 0.9 % 1000ml Plastikfla o Be}]                                                                                      |null  |02.00.00.00|null        |null      |null         |null                                      |null        |null                    |N   |0         |M1        |N        |1       |N          |null   |Y       |10               |null     |null       |null    |LSPA         |S                |1               |null                  |Z                  |C            |null                 |B             |1963-06-03     |29800030      |null    |\n",
            "|7612929501655      |[{de, NACL Bichsel sol perf 0.9 % 500ml flac plast s di}]                                                                                      |null  |02.00.00.00|null        |null      |null         |null                                      |null        |null                    |N   |0         |M1        |N        |1       |N          |null   |Y       |10               |null     |null       |null    |LSPA         |S                |1               |null                  |Z                  |C            |null                 |B             |1963-06-03     |29800022      |null    |\n",
            "|7612929501686      |[{de, NACL GLUC 1:2 Bichsel o Best Plast Fl 1000 ml}, {fr, NACL GLUC 1:2 Bichsel s disp fl plast 1000 ml}]                                     |null  |02.00.00.00|null        |null      |null         |null                                      |null        |null                    |N   |0         |M1        |N        |1       |N          |null   |Y       |10               |null     |null       |null    |LSPA         |S                |2               |BO                    |Z                  |C            |null                 |B             |1963-06-03     |29801096      |null    |\n",
            "|7612929501686      |[{de, NACL GLUC 1:2 Bichsel o Best Plast Fl 1000 ml}, {fr, NACL GLUC 1:2 Bichsel s disp fl plast 1000 ml}]                                     |null  |02.00.00.00|null        |null      |null         |null                                      |null        |null                    |N   |0         |M1        |N        |1       |N          |null   |Y       |10               |null     |null       |null    |LSPA         |S                |2               |null                  |Z                  |C            |null                 |B             |1963-06-03     |29801096      |null    |\n",
            "|7612929501754      |[{de, NACL GLUC 1:2 Bichsel o Best Plast Fl 500 ml}, {fr, NACL GLUC 1:2 Bichsel s disp fl plast 500 ml}]                                       |null  |02.00.00.00|null        |null      |null         |null                                      |null        |null                    |N   |0         |M1        |N        |1       |N          |null   |Y       |10               |null     |null       |null    |LSPA         |S                |2               |null                  |Z                  |C            |null                 |B             |1963-06-03     |29801088      |null    |\n",
            "|7640369610002      |[{de, Seroquel XR (PI) Ret Tabl 150 mg 60 Stk}, {fr, Seroquel XR (IP) cpr ret 150 mg 60 pce}, {it, Seroquel XR (IP) cpr ret 150 mg 60 pce}]    |null  |02.00.00.00|null        |2019-05-01|null         |null                                      |O           |N05AH04GU               |N   |0         |M1        |N        |1       |Y          |null   |Y       |10               |60       |31068      |1       |RETT         |S                |2               |P                     |Z                  |C            |null                 |B             |2018-09-27     |67095002      |null    |\n",
            "|7640369610002      |[{de, Seroquel XR (PI) Ret Tabl 150 mg 60 Stk}, {fr, Seroquel XR (IP) cpr ret 150 mg 60 pce}, {it, Seroquel XR (IP) cpr ret 150 mg 60 pce}]    |null  |02.00.00.00|null        |2019-05-01|null         |null                                      |O           |N05AH04GU               |N   |0         |M1        |N        |1       |Y          |null   |Y       |10               |60       |31068      |1       |RETT         |S                |2               |P                     |Z                  |C            |null                 |B             |2018-09-27     |67095002      |null    |\n",
            "|7640369610002      |[{de, Seroquel XR (PI) Ret Tabl 150 mg 60 Stk}, {fr, Seroquel XR (IP) cpr ret 150 mg 60 pce}, {it, Seroquel XR (IP) cpr ret 150 mg 60 pce}]    |null  |02.00.00.00|null        |2019-05-01|7601001376724|APS-Arzneimittel-Parallelimport-Service AG|O           |N05AH04GU               |N   |0         |M1        |null     |1       |Y          |null   |Y       |10               |60       |31068      |1       |RETT         |S                |2               |P                     |Z                  |G            |null                 |B             |2018-09-27     |67095002      |null    |\n",
            "|7640369610002      |[{de, Seroquel XR (PI) Ret Tabl 150 mg 60 Stk}, {fr, Seroquel XR (IP) cpr ret 150 mg 60 pce}, {it, Seroquel XR (PI) Ret Tabl 150 mg 60 Stk}]   |null  |02.00.00.00|null        |2019-05-01|7601001376724|APS-Arzneimittel-Parallelimport-Service AG|O           |N05AH04GU               |N   |0         |M1        |null     |1       |Y          |null   |Y       |10               |60       |31068      |1       |RETT         |S                |2               |P                     |Z                  |G            |null                 |B             |2018-09-27     |67095002      |null    |\n",
            "|7640369610019      |[{de, Seroquel XR (PI) Ret Tabl 150 mg 100 Stk}, {fr, Seroquel XR (IP) cpr ret 150 mg 100 pce}, {it, Seroquel XR (IP) cpr ret 150 mg 100 pce}] |null  |02.00.00.00|null        |2019-05-01|null         |null                                      |O           |N05AH04GU               |N   |0         |M1        |N        |1       |Y          |null   |Y       |10               |100      |31068      |1       |RETT         |S                |2               |P                     |Z                  |C            |null                 |B             |2018-09-27     |67095003      |null    |\n",
            "|7640369610019      |[{de, Seroquel XR (PI) Ret Tabl 150 mg 100 Stk}, {fr, Seroquel XR (IP) cpr ret 150 mg 100 pce}, {it, Seroquel XR (IP) cpr ret 150 mg 100 pce}] |null  |02.00.00.00|null        |2019-05-01|null         |null                                      |O           |N05AH04GU               |N   |0         |M1        |N        |1       |Y          |null   |Y       |10               |100      |31068      |1       |RETT         |S                |2               |P                     |Z                  |C            |null                 |B             |2018-09-27     |67095003      |null    |\n",
            "|7640369610019      |[{de, Seroquel XR (PI) Ret Tabl 150 mg 100 Stk}, {fr, Seroquel XR (IP) cpr ret 150 mg 100 pce}, {it, Seroquel XR (IP) cpr ret 150 mg 100 pce}] |null  |02.00.00.00|null        |2019-05-01|7601001376724|APS-Arzneimittel-Parallelimport-Service AG|O           |N05AH04GU               |N   |0         |M1        |null     |1       |Y          |null   |Y       |10               |100      |31068      |1       |RETT         |S                |2               |P                     |Z                  |G            |null                 |B             |2018-09-27     |67095003      |null    |\n",
            "|7640369610019      |[{de, Seroquel XR (PI) Ret Tabl 150 mg 100 Stk}, {fr, Seroquel XR (IP) cpr ret 150 mg 100 pce}, {it, Seroquel XR (PI) Ret Tabl 150 mg 100 Stk}]|null  |02.00.00.00|null        |2019-05-01|7601001376724|APS-Arzneimittel-Parallelimport-Service AG|O           |N05AH04GU               |N   |0         |M1        |null     |1       |Y          |null   |Y       |10               |100      |31068      |1       |RETT         |S                |2               |P                     |Z                  |G            |null                 |B             |2018-09-27     |67095003      |null    |\n",
            "+-------------------+-----------------------------------------------------------------------------------------------------------------------------------------------+------+-----------+------------+----------+-------------+------------------------------------------+------------+------------------------+----+----------+----------+---------+--------+-----------+-------+--------+-----------------+---------+-----------+--------+-------------+-----------------+----------------+----------------------+-------------------+-------------+---------------------+--------------+---------------+--------------+--------+\n",
            "only showing top 20 rows\n",
            "\n"
          ],
          "output_type" : "stream"
        }
      ]
    },
    {
      "cell_type" : "markdown",
      "execution_count" : 19,
      "metadata" : {
        "language" : "text"
      },
      "language" : "text",
      "source" : [
      ],
      "outputs" : [
      ]
    },
    {
      "cell_type" : "code",
      "execution_count" : 20,
      "metadata" : {
        "language" : "scala"
      },
      "language" : "scala",
      "source" : [
      ],
      "outputs" : [
      ]
    }
  ]
}