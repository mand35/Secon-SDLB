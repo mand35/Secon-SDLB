{
  "metadata" : {
    "config" : {
      "dependencies" : {
        
      },
      "exclusions" : [
      ],
      "repositories" : [
      ],
      "sparkConfig" : {
        "spark.ui.port" : "4140",
        "spark.sql.catalog.spark_catalog" : "org.apache.spark.sql.delta.catalog.DeltaCatalog",
        "spark.hadoop.javax.jdo.option.ConnectionDriverName" : "org.apache.derby.jdbc.ClientDriver",
        "spark.hadoop.javax.jdo.option.ConnectionPassword" : "1234",
        "spark.hadoop.javax.jdo.option.ConnectionURL" : "jdbc:derby://metastore:1527/db;create=true",
        "spark.hadoop.javax.jdo.option.ConnectionUserName" : "sa",
        "spark.sql.extensions" : "io.delta.sql.DeltaSparkSessionExtension"
      },
      "env" : {
        
      }
    },
    "language_info" : {
      "name" : "scala"
    }
  },
  "nbformat" : 4,
  "nbformat_minor" : 0,
  "cells" : [
    {
      "cell_type" : "markdown",
      "execution_count" : 0,
      "metadata" : {
        "language" : "text"
      },
      "language" : "text",
      "source" : [
        "# CustomAttributes\n",
        "\n",
        "This is a text cell. Start editing!"
      ],
      "outputs" : [
      ]
    },
    {
      "cell_type" : "code",
      "execution_count" : 1,
      "metadata" : {
        "cell.metadata.exec_info" : {
          "startTs" : 1654681963431,
          "endTs" : 1654681966319
        },
        "language" : "scala"
      },
      "language" : "scala",
      "source" : [
        "spark.catalog.listTables.show(false)"
      ],
      "outputs" : [
        {
          "name" : "stdout",
          "text" : [
            "+------------------+--------+-----------+---------+-----------+\n",
            "|name              |database|description|tableType|isTemporary|\n",
            "+------------------+--------+-----------+---------+-----------+\n",
            "|stg_aufenthaltsart|default |null       |EXTERNAL |false      |\n",
            "|stg_customattr    |default |null       |EXTERNAL |false      |\n",
            "|stg_customattr_def|default |null       |EXTERNAL |false      |\n",
            "|stg_deckung       |default |null       |EXTERNAL |false      |\n",
            "|stg_ecdetail      |default |null       |EXTERNAL |false      |\n",
            "|stg_eckopf        |default |null       |EXTERNAL |false      |\n",
            "|stg_ecprodukt     |default |null       |EXTERNAL |false      |\n",
            "|stg_familie       |default |null       |EXTERNAL |false      |\n",
            "|stg_gemeinde      |default |null       |EXTERNAL |false      |\n",
            "|stg_leipkopf      |default |null       |EXTERNAL |false      |\n",
            "|stg_leippos       |default |null       |EXTERNAL |false      |\n",
            "|stg_rules         |default |null       |EXTERNAL |false      |\n",
            "|stg_schadenart    |default |null       |EXTERNAL |false      |\n",
            "|stg_tarif_del     |default |null       |EXTERNAL |false      |\n",
            "|stg_tarif_mod     |default |null       |EXTERNAL |false      |\n",
            "|stg_tariffaktor   |default |null       |EXTERNAL |false      |\n",
            "|stg_versdeckung   |default |null       |EXTERNAL |false      |\n",
            "|stg_versicherter  |default |null       |EXTERNAL |false      |\n",
            "+------------------+--------+-----------+---------+-----------+\n",
            "\n"
          ],
          "output_type" : "stream"
        }
      ]
    },
    {
      "cell_type" : "code",
      "execution_count" : 2,
      "metadata" : {
        "cell.metadata.exec_info" : {
          "startTs" : 1654161789943,
          "endTs" : 1654161790398
        },
        "language" : "scala"
      },
      "language" : "scala",
      "source" : [
        "spark.table(\"default.raw_rules\").printSchema"
      ],
      "outputs" : [
        {
          "name" : "stdout",
          "text" : [
            "root\n",
            " |-- _xmlns: string (nullable = true)\n",
            " |-- _xmlns:TMS: string (nullable = true)\n",
            " |-- _xmlns:xsi: string (nullable = true)\n",
            " |-- _xsi:schemaLocation: string (nullable = true)\n",
            " |-- header: struct (nullable = true)\n",
            " |    |-- _VALUE: string (nullable = true)\n",
            " |    |-- _exportedAt: timestamp (nullable = true)\n",
            " |    |-- _mandators: string (nullable = true)\n",
            " |    |-- _numberOfElements: long (nullable = true)\n",
            " |    |-- _tariffDescriptor: long (nullable = true)\n",
            " |-- initialLoad: struct (nullable = true)\n",
            " |    |-- _knownAt: timestamp (nullable = true)\n",
            " |    |-- ruleCategories: struct (nullable = true)\n",
            " |    |    |-- ruleCategory: string (nullable = true)\n",
            " |    |-- ruleDefinitions: struct (nullable = true)\n",
            " |    |    |-- rules: array (nullable = true)\n",
            " |    |    |    |-- element: struct (containsNull = true)\n",
            " |    |    |    |    |-- _businessDescriptor: string (nullable = true)\n",
            " |    |    |    |    |-- _nodeType: string (nullable = true)\n",
            " |    |    |    |    |-- _validFrom: date (nullable = true)\n",
            " |    |    |    |    |-- _validTo: date (nullable = true)\n",
            " |    |    |    |    |-- rule: struct (nullable = true)\n",
            " |    |    |    |    |    |-- _descriptor: string (nullable = true)\n",
            " |    |    |    |    |    |-- _ruleType: string (nullable = true)\n",
            " |    |    |    |    |    |-- descriptions: struct (nullable = true)\n",
            " |    |    |    |    |    |    |-- description: array (nullable = true)\n",
            " |    |    |    |    |    |    |    |-- element: struct (containsNull = true)\n",
            " |    |    |    |    |    |    |    |    |-- _language: string (nullable = true)\n",
            " |    |    |    |    |    |    |    |    |-- fulltext: string (nullable = true)\n",
            " |    |    |    |    |    |    |    |    |-- summary: string (nullable = true)\n",
            " |    |    |    |    |    |-- ruleOperands: struct (nullable = true)\n",
            " |    |    |    |    |    |    |-- ruleOperand: array (nullable = true)\n",
            " |    |    |    |    |    |    |    |-- element: struct (containsNull = true)\n",
            " |    |    |    |    |    |    |    |    |-- _VALUE: string (nullable = true)\n",
            " |    |    |    |    |    |    |    |    |-- _descriptor: string (nullable = true)\n",
            " |    |    |    |    |    |    |    |    |-- _operandType: string (nullable = true)\n",
            " |    |    |    |    |-- superRule: struct (nullable = true)\n",
            " |    |    |    |    |    |-- _VALUE: string (nullable = true)\n",
            " |    |    |    |    |    |-- _description: string (nullable = true)\n",
            " |-- importFile: string (nullable = true)\n",
            "\n"
          ],
          "output_type" : "stream"
        }
      ]
    },
    {
      "cell_type" : "code",
      "execution_count" : 3,
      "metadata" : {
        "cell.metadata.exec_info" : {
          "startTs" : 1654091501437,
          "endTs" : 1654091512303
        },
        "language" : "scala"
      },
      "language" : "scala",
      "source" : [
        "val df = spark.table(\"default.stg_customattr\")\r\n",
        "df.printSchema"
      ],
      "outputs" : [
        {
          "name" : "stdout",
          "text" : [
            "root\n",
            " |-- importFile: string (nullable = true)\n",
            " |-- _VALUE: string (nullable = true)\n",
            " |-- _customAttributeDefinitionDescriptor: string (nullable = true)\n",
            " |-- _customAttributeValue: string (nullable = true)\n",
            " |-- _tariffNodeDescriptor: long (nullable = true)\n",
            " |-- _tariffNodeType: string (nullable = true)\n",
            " |-- _validFrom: date (nullable = true)\n",
            " |-- _validTo: date (nullable = true)\n",
            "\n"
          ],
          "output_type" : "stream"
        }
      ]
    },
    {
      "cell_type" : "code",
      "execution_count" : 4,
      "metadata" : {
        "cell.metadata.exec_info" : {
          "startTs" : 1654091534779,
          "endTs" : 1654091537929
        },
        "language" : "scala"
      },
      "language" : "scala",
      "source" : [
        "df.show(3)"
      ],
      "outputs" : [
        {
          "name" : "stdout",
          "text" : [
            "+--------------------+------+------------------------------------+---------------------+---------------------+---------------+----------+----------+\n",
            "|          importFile|_VALUE|_customAttributeDefinitionDescriptor|_customAttributeValue|_tariffNodeDescriptor|_tariffNodeType|_validFrom|  _validTo|\n",
            "+--------------------+------+------------------------------------+---------------------+---------------------+---------------+----------+----------+\n",
            "|file:/mnt/data/40...|  null|                                 PCG|                  HIV|        3400936404502|              P|2020-04-24|2021-06-30|\n",
            "|file:/mnt/data/40...|  null|                               DDDPP|         40.000000000|        3400936404502|              P|2020-04-24|2021-06-30|\n",
            "|file:/mnt/data/40...|  null|                                 PCG|                  HIV|        3400936404502|              P|2021-07-01|2021-09-30|\n",
            "+--------------------+------+------------------------------------+---------------------+---------------------+---------------+----------+----------+\n",
            "only showing top 3 rows\n",
            "\n"
          ],
          "output_type" : "stream"
        }
      ]
    },
    {
      "cell_type" : "code",
      "execution_count" : 5,
      "metadata" : {
        "cell.metadata.exec_info" : {
          "startTs" : 1654091597730,
          "endTs" : 1654091602617
        },
        "language" : "scala"
      },
      "language" : "scala",
      "source" : [
        "val dfdef = spark.table(\"default.stg_customattr_def\")\r\n",
        "dfdef.show\r\n"
      ],
      "outputs" : [
        {
          "name" : "stdout",
          "text" : [
            "+--------------------+-------------------+-----+--------------------+\n",
            "|          importFile|_businessDescriptor|_rank|        descriptions|\n",
            "+--------------------+-------------------+-----+--------------------+\n",
            "|file:/mnt/data/40...|                BTM|    4|{[{de, Swissmedic...|\n",
            "|file:/mnt/data/40...|                PCG|    1|{[{de, pharmazeut...|\n",
            "|file:/mnt/data/40...|              DDDPP|    2|{[{de, Anzahl DDD...|\n",
            "|file:/mnt/data/40...|                 PM|    3|{[{de, Spezialit�...|\n",
            "+--------------------+-------------------+-----+--------------------+\n",
            "\n"
          ],
          "output_type" : "stream"
        }
      ]
    },
    {
      "cell_type" : "code",
      "execution_count" : 6,
      "metadata" : {
        "cell.metadata.exec_info" : {
          "startTs" : 1654089190820,
          "endTs" : 1654089192447
        },
        "language" : "scala"
      },
      "language" : "scala",
      "source" : [
        "df.withColumn(\"initLoad\", explode($\"initialLoad.customAttributeDefinitions.customAttributeDefinition\")).withColumn(\"descriptions\",explode($\"initLoad.descriptions.description\")).select(\"initLoad.*\",\"descriptions.*\").show(false)\r\n",
        "df.withColumn(\"initLoad\", explode($\"initialLoad.customAttributes.customAttribute\")).select(\"initLoad.*\").show()"
      ],
      "outputs" : [
        {
          "name" : "stdout",
          "text" : [
            "+-------------------+-----+-----------------------------------------------------------------------------------------------------------------------------------------+---------+-------------------------------------------+\n",
            "|_businessDescriptor|_rank|descriptions                                                                                                                             |_language|summary                                    |\n",
            "+-------------------+-----+-----------------------------------------------------------------------------------------------------------------------------------------+---------+-------------------------------------------+\n",
            "|BTM                |4    |{[{de, Swissmedic: Bet�ubungsmittel}, {fr, Swissmedic: Stup�fiant}, {it, Swissmedic: Stupefacente}]}                                     |de       |Swissmedic: Bet�ubungsmittel               |\n",
            "|BTM                |4    |{[{de, Swissmedic: Bet�ubungsmittel}, {fr, Swissmedic: Stup�fiant}, {it, Swissmedic: Stupefacente}]}                                     |fr       |Swissmedic: Stup�fiant                     |\n",
            "|BTM                |4    |{[{de, Swissmedic: Bet�ubungsmittel}, {fr, Swissmedic: Stup�fiant}, {it, Swissmedic: Stupefacente}]}                                     |it       |Swissmedic: Stupefacente                   |\n",
            "|PCG                |1    |{[{de, pharmazeutische Kostengruppe}, {fr, groupe de co�ts pharmaceutiques}, {it, gruppo di costo farmaceutico}]}                        |de       |pharmazeutische Kostengruppe               |\n",
            "|PCG                |1    |{[{de, pharmazeutische Kostengruppe}, {fr, groupe de co�ts pharmaceutiques}, {it, gruppo di costo farmaceutico}]}                        |fr       |groupe de co�ts pharmaceutiques            |\n",
            "|PCG                |1    |{[{de, pharmazeutische Kostengruppe}, {fr, groupe de co�ts pharmaceutiques}, {it, gruppo di costo farmaceutico}]}                        |it       |gruppo di costo farmaceutico               |\n",
            "|DDDPP              |2    |{[{de, Anzahl DDD pro Packung}, {fr, Number of DDD per pack}, {it, Number of DDD per pack}]}                                             |de       |Anzahl DDD pro Packung                     |\n",
            "|DDDPP              |2    |{[{de, Anzahl DDD pro Packung}, {fr, Number of DDD per pack}, {it, Number of DDD per pack}]}                                             |fr       |Number of DDD per pack                     |\n",
            "|DDDPP              |2    |{[{de, Anzahl DDD pro Packung}, {fr, Number of DDD per pack}, {it, Number of DDD per pack}]}                                             |it       |Number of DDD per pack                     |\n",
            "|PM                 |3    |{[{de, Spezialit�tenliste: Preismodell}, {fr, Liste des sp�cialit�s: Mod�le de prix}, {it, Elenco delle specialit�: Modello dei prezzi}]}|de       |Spezialit�tenliste: Preismodell            |\n",
            "|PM                 |3    |{[{de, Spezialit�tenliste: Preismodell}, {fr, Liste des sp�cialit�s: Mod�le de prix}, {it, Elenco delle specialit�: Modello dei prezzi}]}|fr       |Liste des sp�cialit�s: Mod�le de prix      |\n",
            "|PM                 |3    |{[{de, Spezialit�tenliste: Preismodell}, {fr, Liste des sp�cialit�s: Mod�le de prix}, {it, Elenco delle specialit�: Modello dei prezzi}]}|it       |Elenco delle specialit�: Modello dei prezzi|\n",
            "+-------------------+-----+-----------------------------------------------------------------------------------------------------------------------------------------+---------+-------------------------------------------+\n",
            "\n",
            "+------+------------------------------------+---------------------+---------------------+---------------+----------+----------+\n",
            "|_VALUE|_customAttributeDefinitionDescriptor|_customAttributeValue|_tariffNodeDescriptor|_tariffNodeType|_validFrom|  _validTo|\n",
            "+------+------------------------------------+---------------------+---------------------+---------------+----------+----------+\n",
            "|  null|                                 PCG|                  HIV|        3400936404502|              P|2020-04-24|2021-06-30|\n",
            "|  null|                               DDDPP|         40.000000000|        3400936404502|              P|2020-04-24|2021-06-30|\n",
            "|  null|                                 PCG|                  HIV|        3400936404502|              P|2021-07-01|2021-09-30|\n",
            "|  null|                               DDDPP|         40.000000000|        3400936404502|              P|2021-07-01|2021-09-30|\n",
            "|  null|                                 PCG|                  HIV|        3400936404502|              P|2021-10-01|2999-12-31|\n",
            "|  null|                               DDDPP|         40.000000000|        3400936404502|              P|2021-10-01|2999-12-31|\n",
            "|  null|                                 PCG|                  EPI|        5600360211877|              P|2021-01-01|2021-02-28|\n",
            "|  null|                               DDDPP|         30.000000000|        5600360211877|              P|2021-01-01|2021-02-28|\n",
            "|  null|                                 PCG|                  EPI|        5600360211877|              P|2021-03-01|2999-12-31|\n",
            "|  null|                               DDDPP|         30.000000000|        5600360211877|              P|2021-03-01|2999-12-31|\n",
            "|  null|                                 PCG|                  EPI|        5600360211891|              P|2021-01-01|2021-02-28|\n",
            "|  null|                               DDDPP|         15.000000000|        5600360211891|              P|2021-01-01|2021-02-28|\n",
            "|  null|                                 PCG|                  EPI|        5600360211891|              P|2021-03-01|2999-12-31|\n",
            "|  null|                               DDDPP|         15.000000000|        5600360211891|              P|2021-03-01|2999-12-31|\n",
            "|  null|                                 PCG|                  PSY|        7640369610002|              P|2018-09-27|2019-04-30|\n",
            "|  null|                               DDDPP|         22.500000000|        7640369610002|              P|2018-09-27|2019-04-30|\n",
            "|  null|                                 PCG|                  PSY|        7640369610002|              P|2019-05-01|2019-08-31|\n",
            "|  null|                               DDDPP|         22.500000000|        7640369610002|              P|2019-05-01|2019-08-31|\n",
            "|  null|                                 PCG|                  PSY|        7640369610002|              P|2019-09-01|2020-12-31|\n",
            "|  null|                               DDDPP|         22.500000000|        7640369610002|              P|2019-09-01|2020-12-31|\n",
            "+------+------------------------------------+---------------------+---------------------+---------------+----------+----------+\n",
            "only showing top 20 rows\n",
            "\n"
          ],
          "output_type" : "stream"
        }
      ]
    },
    {
      "cell_type" : "code",
      "execution_count" : 7,
      "metadata" : {
        "cell.metadata.exec_info" : {
          "startTs" : 1654162319584,
          "endTs" : 1654162320477
        },
        "language" : "scala"
      },
      "language" : "scala",
      "source" : [
        "spark.table(\"default.stg_rules\").select(\"rule.*\").show()"
      ],
      "outputs" : [
        {
          "name" : "stdout",
          "text" : [
            "+-----------+---------+--------------------+--------------------+\n",
            "|_descriptor|_ruleType|        descriptions|        ruleOperands|\n",
            "+-----------+---------+--------------------+--------------------+\n",
            "|         R1|      Set|{[{de, null, Max....|{[{null, 4, Const...|\n",
            "|         R1|      Set|{[{de, null, 4 x ...|{[{null, 4, Const...|\n",
            "|         R1|      Set|{[{de, null, 4 x ...|{[{null, 4, Const...|\n",
            "|         R1|      Set|{[{de, null, Max....|{[{null, 8, Const...|\n",
            "|         R1|      Set|{[{de, null, 4 x ...|{[{null, 8, Const...|\n",
            "|         R1|      Set|{[{de, null, 4 x ...|{[{null, 8, Const...|\n",
            "|         R1|      Set|{[{de, null, 4 x ...|{[{null, 8, Const...|\n",
            "|         R1|    Range|{[{de, null, Nur ...|{[{null, TMS.DICT...|\n",
            "|         R1|    Range|{[{de, null, Nur ...|{[{null, TMS.DICT...|\n",
            "|         R1|    Range|{[{de, null, Nur ...|{[{null, TMS.DICT...|\n",
            "|         R1|    Range|{[{de, null, Nur ...|{[{null, TMS.DICT...|\n",
            "|         R1|    Range|{[{de, null, Nur ...|{[{null, TMS.DICT...|\n",
            "|         R1|    Range|{[{de, null, Nur ...|{[{null, TMS.DICT...|\n",
            "|         R1|    Range|{[{de, null, Nur ...|{[{null, TMS.DICT...|\n",
            "|         R1|    Range|{[{de, null, Nur ...|{[{null, TMS.DICT...|\n",
            "|         R1|    Range|{[{de, null, Nur ...|{[{null, TMS.DICT...|\n",
            "|         R1|    Range|{[{de, null, Nur ...|{[{null, TMS.DICT...|\n",
            "|         R1|      Set|{[{de, Gesamthaft...|{[{null, 120, Con...|\n",
            "|         R1|      Set|{[{de, Gesamthaft...|{[{null, 2, Const...|\n",
            "|         R1|    Range|{[{de, Die aufgef...|{[{null, TMS.DICT...|\n",
            "+-----------+---------+--------------------+--------------------+\n",
            "only showing top 20 rows\n",
            "\n"
          ],
          "output_type" : "stream"
        }
      ]
    }
  ]
}