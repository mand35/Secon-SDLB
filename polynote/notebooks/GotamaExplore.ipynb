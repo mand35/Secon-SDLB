{
  "metadata" : {
    "config" : {
      "dependencies" : {
        
      },
      "exclusions" : [
      ],
      "repositories" : [
      ],
      "sparkConfig" : {
        "spark.ui.port" : "4140",
        "spark.sql.catalog.spark_catalog" : "org.apache.spark.sql.delta.catalog.DeltaCatalog",
        "spark.hadoop.javax.jdo.option.ConnectionDriverName" : "org.apache.derby.jdbc.ClientDriver",
        "spark.hadoop.javax.jdo.option.ConnectionPassword" : "1234",
        "spark.hadoop.javax.jdo.option.ConnectionURL" : "jdbc:derby://metastore:1527/db;create=true",
        "spark.hadoop.javax.jdo.option.ConnectionUserName" : "sa",
        "spark.sql.extensions" : "io.delta.sql.DeltaSparkSessionExtension"
      },
      "env" : {
        
      }
    },
    "language_info" : {
      "name" : "scala"
    }
  },
  "nbformat" : 4,
  "nbformat_minor" : 0,
  "cells" : [
    {
      "cell_type" : "markdown",
      "execution_count" : 0,
      "metadata" : {
        "language" : "text"
      },
      "language" : "text",
      "source" : [
        "# GotamaExplore\n",
        "\n",
        "This is a text cell. Start editing!"
      ],
      "outputs" : [
      ]
    },
    {
      "cell_type" : "code",
      "execution_count" : 1,
      "metadata" : {
        "cell.metadata.exec_info" : {
          "startTs" : 1655272746700,
          "endTs" : 1655272756617
        },
        "language" : "scala"
      },
      "language" : "scala",
      "source" : [
        "spark.catalog.listTables.show(false)"
      ],
      "outputs" : [
        {
          "name" : "stdout",
          "text" : [
            "+------------------+--------+-----------+---------+-----------+\n",
            "|name              |database|description|tableType|isTemporary|\n",
            "+------------------+--------+-----------+---------+-----------+\n",
            "|btl_ra_data       |default |null       |EXTERNAL |false      |\n",
            "|raw_ca            |default |null       |EXTERNAL |false      |\n",
            "|raw_rules         |default |null       |EXTERNAL |false      |\n",
            "|raw_tarif_update  |default |null       |EXTERNAL |false      |\n",
            "|stg_aufenthaltsart|default |null       |EXTERNAL |false      |\n",
            "|stg_customattr    |default |null       |EXTERNAL |false      |\n",
            "|stg_customattr_def|default |null       |EXTERNAL |false      |\n",
            "|stg_deckung       |default |null       |EXTERNAL |false      |\n",
            "|stg_ecdetail      |default |null       |EXTERNAL |false      |\n",
            "|stg_eckopf        |default |null       |EXTERNAL |false      |\n",
            "|stg_ecprodukt     |default |null       |EXTERNAL |false      |\n",
            "|stg_familie       |default |null       |EXTERNAL |false      |\n",
            "|stg_gemeinde      |default |null       |EXTERNAL |false      |\n",
            "|stg_leipkopf      |default |null       |EXTERNAL |false      |\n",
            "|stg_leippos       |default |null       |EXTERNAL |false      |\n",
            "|stg_rules         |default |null       |EXTERNAL |false      |\n",
            "|stg_schadenart    |default |null       |EXTERNAL |false      |\n",
            "|stg_tarif_del     |default |null       |EXTERNAL |false      |\n",
            "|stg_tarif_mod     |default |null       |EXTERNAL |false      |\n",
            "|stg_tariffaktor   |default |null       |EXTERNAL |false      |\n",
            "+------------------+--------+-----------+---------+-----------+\n",
            "only showing top 20 rows\n",
            "\n"
          ],
          "output_type" : "stream"
        }
      ]
    },
    {
      "cell_type" : "code",
      "execution_count" : 2,
      "metadata" : {
        "cell.metadata.exec_info" : {
          "startTs" : 1655387511832,
          "endTs" : 1655387535285
        },
        "language" : "scala"
      },
      "language" : "scala",
      "source" : [
        "spark.table(\"default.stg_versicherter\").printSchema()\r\n",
        "spark.table(\"default.stg_leiPPos\").printSchema()"
      ],
      "outputs" : [
        {
          "name" : "stdout",
          "text" : [
            "root\n",
            " |-- ver_nr: integer (nullable = true)\n",
            " |-- ver_id: integer (nullable = true)\n",
            " |-- ver_vea_id: integer (nullable = true)\n",
            " |-- ver_fam_nr: integer (nullable = true)\n",
            " |-- ver_name: string (nullable = true)\n",
            " |-- ver_vname: string (nullable = true)\n",
            " |-- ver_such1: string (nullable = true)\n",
            " |-- ver_sex_cd: string (nullable = true)\n",
            " |-- ver_geb_dat: timestamp (nullable = true)\n",
            " |-- ver_ahv: string (nullable = true)\n",
            " |-- ver_beruf: string (nullable = true)\n",
            " |-- ver_ziv_cd: string (nullable = true)\n",
            " |-- ver_nat_id: short (nullable = true)\n",
            " |-- ver_aea_id: integer (nullable = true)\n",
            " |-- ver_aea_beg_dat: timestamp (nullable = true)\n",
            " |-- ver_aea_end_dat: timestamp (nullable = true)\n",
            " |-- ver_beg_dat: timestamp (nullable = true)\n",
            " |-- ver_end_dat: timestamp (nullable = true)\n",
            " |-- ver_erf_uid: short (nullable = true)\n",
            " |-- ver_erf_dat: timestamp (nullable = true)\n",
            " |-- ver_mut_uid: short (nullable = true)\n",
            " |-- ver_mut_dat: timestamp (nullable = true)\n",
            " |-- ver_fehler: integer (nullable = true)\n",
            " |-- ver_aktuell: integer (nullable = true)\n",
            " |-- ver_nnss_nr: string (nullable = true)\n",
            "\n",
            "root\n",
            " |-- lpp_lpk_id: integer (nullable = true)\n",
            " |-- lpp_id: integer (nullable = true)\n",
            " |-- lpp_typ: integer (nullable = true)\n",
            " |-- lpp_lpl_id: short (nullable = true)\n",
            " |-- lpp_sca_id: integer (nullable = true)\n",
            " |-- lpp_bha_id: string (nullable = true)\n",
            " |-- lpp_ktk_id: integer (nullable = true)\n",
            " |-- lpp_kma_id: integer (nullable = true)\n",
            " |-- lpp_lsa_id: short (nullable = true)\n",
            " |-- lpp_dkg_id: short (nullable = true)\n",
            " |-- lpp_dgp_id: integer (nullable = true)\n",
            " |-- lpp_vde_card: integer (nullable = true)\n",
            " |-- lpp_vde_id: integer (nullable = true)\n",
            " |-- lpp_vde_pk: integer (nullable = true)\n",
            " |-- lpp_beh_beg_dat: timestamp (nullable = true)\n",
            " |-- lpp_pos_betr: decimal(19,4) (nullable = true)\n",
            " |-- lpp_npl_id: short (nullable = true)\n",
            " |-- lpp_np_text: string (nullable = true)\n",
            " |-- lpp_np_betr: decimal(19,4) (nullable = true)\n",
            " |-- lpp_rl_betr: decimal(19,4) (nullable = true)\n",
            " |-- lpp_fr_betr: decimal(10,4) (nullable = true)\n",
            " |-- lpp_fr_tot_betr: decimal(10,4) (nullable = true)\n",
            " |-- lpp_sb_betr: decimal(10,4) (nullable = true)\n",
            " |-- lpp_sb_stat_betr: decimal(10,4) (nullable = true)\n",
            " |-- lpp_sb_tot_betr: decimal(10,4) (nullable = true)\n",
            " |-- lpp_fam_tot_betr: decimal(10,4) (nullable = true)\n",
            " |-- lpp_st_ansatz: decimal(10,4) (nullable = true)\n",
            " |-- lpp_sp_tage: short (nullable = true)\n",
            " |-- lpp_sp_betr: decimal(10,4) (nullable = true)\n",
            " |-- lpp_anzahl: short (nullable = true)\n",
            " |-- lpp_lim_anz: short (nullable = true)\n",
            " |-- lpp_kons: short (nullable = true)\n",
            " |-- lpp_al_tp: decimal(10,4) (nullable = true)\n",
            " |-- lpp_tl_tp: decimal(10,4) (nullable = true)\n",
            " |-- lpp_ueb_betr: decimal(19,4) (nullable = true)\n",
            " |-- lpp_kosten_betr: decimal(19,4) (nullable = true)\n",
            " |-- lpp_kasse_betr: decimal(19,4) (nullable = true)\n",
            " |-- lpp_vers_betr: decimal(19,4) (nullable = true)\n",
            " |-- lpp_nv_betr: decimal(19,4) (nullable = true)\n",
            " |-- lpp_kobe_betr: decimal(10,4) (nullable = true)\n",
            " |-- lpp_kobe_cd: boolean (nullable = true)\n",
            " |-- lpp_def_al_tl: boolean (nullable = true)\n",
            " |-- lpp_def_kons: boolean (nullable = true)\n",
            " |-- lpp_def_anzahl: boolean (nullable = true)\n",
            " |-- lpp_def_st_ansatz: boolean (nullable = true)\n",
            " |-- lpp_def_sp_tage: boolean (nullable = true)\n",
            " |-- lpp_def_chk_geburt: boolean (nullable = true)\n",
            " |-- lpp_fehler_al_tl: boolean (nullable = true)\n",
            " |-- lpp_fehler_kons: boolean (nullable = true)\n",
            " |-- lpp_fehler_anzahl: boolean (nullable = true)\n",
            " |-- lpp_fehler_st_ansatz: boolean (nullable = true)\n",
            " |-- lpp_fehler_sp_tage: boolean (nullable = true)\n",
            "\n"
          ],
          "output_type" : "stream"
        }
      ]
    },
    {
      "cell_type" : "code",
      "execution_count" : 6,
      "metadata" : {
        "cell.metadata.exec_info" : {
          "startTs" : 1655387689026,
          "endTs" : 1655387690973
        },
        "language" : "scala"
      },
      "language" : "scala",
      "source" : [
        "spark.table(\"default.stg_versicherter\").count()"
      ],
      "outputs" : [
        {
          "execution_count" : 6,
          "data" : {
            "text/plain" : [
              "40518"
            ]
          },
          "metadata" : {
            "name" : "Out",
            "type" : "Long"
          },
          "output_type" : "execute_result"
        }
      ]
    },
    {
      "cell_type" : "code",
      "execution_count" : 3,
      "metadata" : {
        "cell.metadata.exec_info" : {
          "startTs" : 1654269830335,
          "endTs" : 1654269833382
        },
        "language" : "scala"
      },
      "language" : "scala",
      "source" : [
        "spark.table(\"default.btl_ra_data\").printSchema()"
      ],
      "outputs" : [
        {
          "name" : "stdout",
          "text" : [
            "root\n",
            " |-- lpp_id: integer (nullable = true)\n",
            " |-- lpp_pos_betr: decimal(19,4) (nullable = true)\n",
            "\n"
          ],
          "output_type" : "stream"
        }
      ]
    },
    {
      "cell_type" : "code",
      "execution_count" : 4,
      "metadata" : {
        "cell.metadata.exec_info" : {
          "startTs" : 1654272579778,
          "endTs" : 1654272581320
        },
        "language" : "scala"
      },
      "language" : "scala",
      "source" : [
        "spark.sql(\"DROP TABLE default.btl_ra_data\")"
      ],
      "outputs" : [
        {
          "execution_count" : 4,
          "data" : {
            "text/plain" : [
              "[]"
            ]
          },
          "metadata" : {
            "name" : "Out",
            "type" : "DataFrame"
          },
          "output_type" : "execute_result"
        }
      ]
    },
    {
      "cell_type" : "code",
      "execution_count" : 5,
      "metadata" : {
        "cell.metadata.exec_info" : {
          "startTs" : 1654271863845,
          "endTs" : 1654271864295
        },
        "language" : "scala"
      },
      "language" : "scala",
      "source" : [
        "val leiPPos = spark.table(\"default.stg_LeiPPos\")\r\n",
        "val vers = spark.table(\"default.stg_Versicherter\")\r\n",
        "\r\n",
        "val df = leiPPos.join(vers, leiPPos(\"lpp_id\") === vers(\"ver_id\"))\r\n",
        "    .withColumnRenamed(\"ver_nnss_nr\", \"AHV_Nr\")\r\n",
        "    .select(\"lpp_id\", \"lpp_pos_betr\", \"AHV_Nr\")\r\n",
        "df.printSchema()"
      ],
      "outputs" : [
        {
          "name" : "stdout",
          "text" : [
            "root\n",
            " |-- lpp_id: integer (nullable = true)\n",
            " |-- lpp_pos_betr: decimal(19,4) (nullable = true)\n",
            " |-- AHV_Nr: string (nullable = true)\n",
            "\n"
          ],
          "output_type" : "stream"
        }
      ]
    }
  ]
}