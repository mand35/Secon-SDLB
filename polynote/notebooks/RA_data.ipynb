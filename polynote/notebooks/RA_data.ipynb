{
  "metadata" : {
    "config" : {
      "dependencies" : {
        
      },
      "exclusions" : [
      ],
      "repositories" : [
      ],
      "sparkConfig" : {
        "spark.sql.autoBroadcastJoinThreshold" : "-1",
        "spark.ui.port" : "4140",
        "spark.sql.catalog.spark_catalog" : "org.apache.spark.sql.delta.catalog.DeltaCatalog",
        "spark.hadoop.javax.jdo.option.ConnectionDriverName" : "org.apache.derby.jdbc.ClientDriver",
        "spark.hadoop.javax.jdo.option.ConnectionPassword" : "1234",
        "spark.hadoop.javax.jdo.option.ConnectionURL" : "jdbc:derby://metastore:1527/db;create=true",
        "spark.hadoop.javax.jdo.option.ConnectionUserName" : "sa",
        "spark.sql.extensions" : "io.delta.sql.DeltaSparkSessionExtension"
      },
      "env" : {
        
      }
    },
    "language_info" : {
      "name" : "scala"
    }
  },
  "nbformat" : 4,
  "nbformat_minor" : 0,
  "cells" : [
    {
      "cell_type" : "markdown",
      "execution_count" : 0,
      "metadata" : {
        "language" : "text"
      },
      "language" : "text",
      "source" : [
        "# RA data\n",
        "\n",
        "\n",
        "TODO:\n",
        "\n",
        "(- remove duplicated columns, e.g. $\"lpk_ver_nr\" === $\"ver_nr\")<br>\n",
        "\n",
        "\n"
      ],
      "outputs" : [
      ]
    },
    {
      "cell_type" : "code",
      "execution_count" : 1,
      "metadata" : {
        "cell.metadata.exec_info" : {
          "startTs" : 1655797717080,
          "endTs" : 1655797717777
        },
        "language" : "scala"
      },
      "language" : "scala",
      "source" : [
        "spark.catalog.listTables.show(false)"
      ],
      "outputs" : [
        {
          "name" : "stdout",
          "text" : [
            "+------------------+--------+-----------+---------+-----------+\n",
            "|name              |database|description|tableType|isTemporary|\n",
            "+------------------+--------+-----------+---------+-----------+\n",
            "|raw_tarif_init    |default |null       |EXTERNAL |false      |\n",
            "|raw_tarif_update  |default |null       |EXTERNAL |false      |\n",
            "|stg_aufenthaltsart|default |null       |EXTERNAL |false      |\n",
            "|stg_deckung       |default |null       |EXTERNAL |false      |\n",
            "|stg_ecdetail      |default |null       |EXTERNAL |false      |\n",
            "|stg_eckopf        |default |null       |EXTERNAL |false      |\n",
            "|stg_ecprodukt     |default |null       |EXTERNAL |false      |\n",
            "|stg_familie       |default |null       |EXTERNAL |false      |\n",
            "|stg_gemeinde      |default |null       |EXTERNAL |false      |\n",
            "|stg_leipkopf      |default |null       |EXTERNAL |false      |\n",
            "|stg_leippos       |default |null       |EXTERNAL |false      |\n",
            "|stg_schadenart    |default |null       |EXTERNAL |false      |\n",
            "|stg_tarif_init    |default |null       |EXTERNAL |false      |\n",
            "|stg_tariffaktor   |default |null       |EXTERNAL |false      |\n",
            "|stg_versdeckung   |default |null       |EXTERNAL |false      |\n",
            "|stg_versicherter  |default |null       |EXTERNAL |false      |\n",
            "+------------------+--------+-----------+---------+-----------+\n",
            "\n"
          ],
          "output_type" : "stream"
        }
      ]
    },
    {
      "cell_type" : "code",
      "execution_count" : 2,
      "metadata" : {
        "cell.metadata.exec_info" : {
          "startTs" : 1655797727770,
          "endTs" : 1655797729405
        },
        "language" : "scala"
      },
      "language" : "scala",
      "source" : [
        "val df_leiPKopf = spark.table(\"default.stg_LeiPKopf\")\r\n",
        "df_leiPKopf.printSchema()"
      ],
      "outputs" : [
        {
          "name" : "stdout",
          "text" : [
            "root\n",
            " |-- lpk_id: integer (nullable = true)\n",
            " |-- lpk_ver_nr: integer (nullable = true)\n",
            " |-- lpk_fam_nr: integer (nullable = true)\n",
            " |-- lpk_deb_nr: integer (nullable = true)\n",
            " |-- lpk_vtg_nr: integer (nullable = true)\n",
            " |-- lpk_gde_id: short (nullable = true)\n",
            " |-- lpk_adr_id: integer (nullable = true)\n",
            " |-- lpk_ksk_nr: string (nullable = true)\n",
            " |-- lpk_ksk_nr_vst: string (nullable = true)\n",
            " |-- lpk_ksk_nr_vst2: string (nullable = true)\n",
            " |-- lpk_esr_nr: decimal(27,0) (nullable = true)\n",
            " |-- lpk_esr_nr_len: integer (nullable = true)\n",
            " |-- lpk_esr_kto: integer (nullable = true)\n",
            " |-- lpk_rech_nr: string (nullable = true)\n",
            " |-- lpk_rech_dat: timestamp (nullable = true)\n",
            " |-- lpk_rech_zahl_dat: timestamp (nullable = true)\n",
            " |-- lpk_rech_betr: decimal(19,4) (nullable = true)\n",
            " |-- lpk_korr_betr: decimal(19,4) (nullable = true)\n",
            " |-- lpk_kas_betr: decimal(19,4) (nullable = true)\n",
            " |-- lpk_beh_beg_dat: timestamp (nullable = true)\n",
            " |-- lpk_beh_end_dat: timestamp (nullable = true)\n",
            " |-- lpk_zaba_cd: string (nullable = true)\n",
            " |-- lpk_kobe_cd: string (nullable = true)\n",
            " |-- lpk_gac_id: integer (nullable = true)\n",
            " |-- lpk_stat_cd: integer (nullable = true)\n",
            " |-- lpk_fall_id: short (nullable = true)\n",
            " |-- lpk_fkt_dat: timestamp (nullable = true)\n",
            " |-- lpk_erf_uid: short (nullable = true)\n",
            " |-- lpk_erf_dat: timestamp (nullable = true)\n",
            " |-- lpk_sto_dat: timestamp (nullable = true)\n",
            " |-- lpk_sto_erf_uid: short (nullable = true)\n",
            " |-- lpk_sto_erf_dat: timestamp (nullable = true)\n",
            " |-- lpk_sto_cd: integer (nullable = true)\n",
            " |-- lpk_sto_folge_lpk_id: integer (nullable = true)\n",
            " |-- lpk_sto_folge_cd: integer (nullable = true)\n",
            " |-- lpk_esr_nr_format: string (nullable = true)\n",
            " |-- lpk_esr_kto_format: string (nullable = true)\n",
            " |-- lpk_lpt_id: integer (nullable = true)\n",
            " |-- lpk_ecl_id: short (nullable = true)\n",
            " |-- lpk_eck_id: integer (nullable = true)\n",
            " |-- lpk_ext_ref: string (nullable = true)\n",
            " |-- lpk_ksk_deb_nr: integer (nullable = true)\n",
            " |-- lpk_prt_id: integer (nullable = true)\n",
            " |-- lpk_freigabe_auto_cd: boolean (nullable = true)\n",
            " |-- lpk_freigabe_uid: short (nullable = true)\n",
            " |-- lpk_freigabe_dat: timestamp (nullable = true)\n",
            " |-- lpk_sto_ursache_cd: integer (nullable = true)\n",
            " |-- lpk_vers_betr: decimal(19,4) (nullable = true)\n",
            " |-- lpk_kontrolle_uid: short (nullable = true)\n",
            " |-- lpk_kontrolle_dat: timestamp (nullable = true)\n",
            " |-- lpk_diag: string (nullable = true)\n",
            " |-- lpk_bem: string (nullable = true)\n",
            " |-- lpk_lea_id: integer (nullable = true)\n",
            " |-- lpk_beh_dauer: short (nullable = true)\n",
            " |-- lpk_erf_uid_original: short (nullable = true)\n",
            " |-- lpk_erf_dat_original: date (nullable = true)\n",
            " |-- lpk_zha_id: integer (nullable = true)\n",
            " |-- lpk_ver_id: integer (nullable = true)\n",
            " |-- lpk_esr_qr_iban: string (nullable = true)\n",
            " |-- lpk_esr_qr_ref: string (nullable = true)\n",
            " |-- lpk_mutterschaft_w13_dat: date (nullable = true)\n",
            " |-- lpk_lock_cd: boolean (nullable = true)\n",
            " |-- lpk_fall_ident: string (nullable = true)\n",
            "\n"
          ],
          "output_type" : "stream"
        }
      ]
    },
    {
      "cell_type" : "code",
      "execution_count" : 3,
      "metadata" : {
        "cell.metadata.exec_info" : {
          "startTs" : 1655822246395,
          "endTs" : 1655822246555
        },
        "language" : "scala"
      },
      "language" : "scala",
      "source" : [
        "spark.table(\"default.stg_Versicherter\").printSchema()"
      ],
      "outputs" : [
        {
          "name" : "stdout",
          "text" : [
            "root\n",
            " |-- ver_nr: integer (nullable = true)\n",
            " |-- ver_id: integer (nullable = true)\n",
            " |-- ver_vea_id: integer (nullable = true)\n",
            " |-- ver_fam_nr: integer (nullable = true)\n",
            " |-- ver_name: string (nullable = true)\n",
            " |-- ver_vname: string (nullable = true)\n",
            " |-- ver_such1: string (nullable = true)\n",
            " |-- ver_sex_cd: string (nullable = true)\n",
            " |-- ver_geb_dat: timestamp (nullable = true)\n",
            " |-- ver_ahv: string (nullable = true)\n",
            " |-- ver_beruf: string (nullable = true)\n",
            " |-- ver_ziv_cd: string (nullable = true)\n",
            " |-- ver_nat_id: short (nullable = true)\n",
            " |-- ver_aea_id: integer (nullable = true)\n",
            " |-- ver_aea_beg_dat: timestamp (nullable = true)\n",
            " |-- ver_aea_end_dat: timestamp (nullable = true)\n",
            " |-- ver_beg_dat: timestamp (nullable = true)\n",
            " |-- ver_end_dat: timestamp (nullable = true)\n",
            " |-- ver_erf_uid: short (nullable = true)\n",
            " |-- ver_erf_dat: timestamp (nullable = true)\n",
            " |-- ver_mut_uid: short (nullable = true)\n",
            " |-- ver_mut_dat: timestamp (nullable = true)\n",
            " |-- ver_fehler: integer (nullable = true)\n",
            " |-- ver_aktuell: integer (nullable = true)\n",
            " |-- ver_nnss_nr: string (nullable = true)\n",
            "\n"
          ],
          "output_type" : "stream"
        }
      ]
    },
    {
      "cell_type" : "code",
      "execution_count" : 4,
      "metadata" : {
        "cell.metadata.exec_info" : {
          "startTs" : 1655389097818,
          "endTs" : 1655389111745
        },
        "language" : "scala"
      },
      "language" : "scala",
      "source" : [
        "spark.table(\"default.stg_LeiPPos\").count()"
      ],
      "outputs" : [
        {
          "execution_count" : 4,
          "data" : {
            "text/plain" : [
              "1127420"
            ]
          },
          "metadata" : {
            "name" : "Out",
            "type" : "Long"
          },
          "output_type" : "execute_result"
        }
      ]
    },
    {
      "cell_type" : "code",
      "execution_count" : 5,
      "metadata" : {
        "cell.metadata.exec_info" : {
          "startTs" : 1655884985735,
          "endTs" : 1655884985927
        },
        "language" : "scala"
      },
      "language" : "scala",
      "source" : [
        "import org.apache.spark.sql.{DataFrame, SparkSession}\r\n",
        "import java.time.LocalDate\r\n",
        "import java.time.format.DateTimeFormatter\r\n",
        "import org.apache.spark.sql.Column\r\n",
        "import org.apache.spark.sql.functions.{lit, when, datediff, month, dayofmonth, last_day, round}\r\n",
        "\r\n",
        "val join_type = \"left\" // \"left_semi\" would only take rows which match\r\n"
      ],
      "outputs" : [
      ]
    },
    {
      "cell_type" : "code",
      "execution_count" : 6,
      "metadata" : {
        "cell.metadata.exec_info" : {
          "startTs" : 1655898047656,
          "endTs" : 1655898047905
        },
        "language" : "scala"
      },
      "language" : "scala",
      "source" : [
        "val preciseMonth = false\r\n",
        "\r\n",
        "/**\r\n",
        " * Function calculates the intersection of 2 date ranges in months (float). \r\n",
        " * E.g. a customer has a membership from 12.05.2015 - 31.03.2020 and the target range is the year 2020,\r\n",
        " * results in 3.0 month.\r\n",
        " * @param startDate given start date, e.g customer membership start date\r\n",
        " * @param endDate given end date, e.g customer membership end date\r\n",
        " * @param rangeBegin reference start date\r\n",
        " * @param rangeEnd reference end date\r\n",
        " * @return month range\r\n",
        " */\r\n",
        "def datesToMonths(startDate: Column, endDate: Column, rangeBegin: LocalDate, rangeEnd: LocalDate): Column = {\r\n",
        "    val diff = datediff(lit(rangeEnd), startDate)\r\n",
        "    // double check if there is a period within the specified range\r\n",
        "    val colBegin = when(datediff(lit(rangeEnd), startDate) <= 0, null)\r\n",
        "                .when(datediff(startDate, lit(rangeBegin)) <=0, rangeBegin)\r\n",
        "                .otherwise(startDate)\r\n",
        "    val colEnd = when(datediff(endDate, lit(rangeBegin)) <= 0, null)\r\n",
        "                .when(datediff(lit(rangeEnd), endDate) <=0, rangeEnd)\r\n",
        "                .otherwise(endDate)\r\n",
        "   // compute the periode\r\n",
        "   // -- TODO decide if computed with constant 30: m+d/30 or accurate\r\n",
        "   val monthBeg = month(colBegin)-1 + (dayofmonth(colBegin) -1)/ dayofmonth(last_day(colBegin))\r\n",
        "   val monthEnd = month(colEnd)-1 + dayofmonth(colEnd) / dayofmonth(last_day(colEnd))\r\n",
        "   round( monthEnd - monthBeg, 2 )\r\n",
        "   monthEnd - monthBeg\r\n",
        "}\r\n",
        "/**\r\n",
        " * Function joins the \"Familie\" table and the \"Gemeinde\" \r\n",
        " *  - for entries in a selected period\r\n",
        " *  - only the Kanton\r\n",
        " *  - remove duplicates, e.g. if new address is in same Kanton\r\n",
        " * @param df_familie DataFrame for \"Familie\" table\r\n",
        " * @param df_gemeinde DataFrame for \"Gemeinde\" table\r\n",
        " * @param rangeBegin start date of considered period\r\n",
        " * @param rangeEnd end date of considered period\r\n",
        " */\r\n",
        "def getFamKantons(df_familie: DataFrame, df_gemeinde: DataFrame, rangeBegin: LocalDate, rangeEnd: LocalDate) = {\r\n",
        "    df_familie\r\n",
        "        .where($\"fam_end_dat\" >= rangeBegin && $\"fam_beg_dat\" <= rangeEnd)\r\n",
        "        .join(df_gemeinde.select(\"gde_id\", \"gde_kt\"), $\"fam_ra_gde_id\" === $\"gde_id\", join_type).drop(\"fam_ra_gde_id\")\r\n",
        "        .withColumnRenamed(\"gde_kt\", \"Kanton\")\r\n",
        "        \r\n",
        "}"
      ],
      "outputs" : [
      ]
    },
    {
      "cell_type" : "code",
      "execution_count" : 7,
      "metadata" : {
        "cell.metadata.exec_info" : {
          "startTs" : 1655898051492,
          "endTs" : 1655898070019
        },
        "language" : "scala"
      },
      "language" : "scala",
      "source" : [
        "\r\n",
        "val dayFormat = DateTimeFormatter.ofPattern(\"yyyy-MM-dd\")\r\n",
        "val rangeStart = LocalDate.parse(\"2020-01-01\", dayFormat)\r\n",
        "val tmp = \"\"\r\n",
        "//if (tmp == \"\") {\r\n",
        "  val rangeEnd = rangeStart.plusYears(1).minusDays(1)\r\n",
        "//} else {\r\n",
        "//  val rangeEnd = LocalDate.parse(tmp, dayFormat)\r\n",
        "//}\r\n",
        "\r\n",
        "//val df_leiPPos = spark.table(\"default.stg_LeiPPos\").select(\"lpp_lpk_id\", \"lpp_id\")\r\n",
        "//val df_leiPKopf = spark.table(\"default.stg_LeiPKopf\").select(\"lpk_id\", \"lpk_ver_id\", \"lpk_rech_nr\")\r\n",
        "//val df_vers = spark.table(\"default.stg_Versicherter\").select(\"ver_id\", \"ver_nnss_nr\", \"ver_fam_nr\", \"ver_geb_dat\", \"ver_sex_cd\")\r\n",
        "//val df_familie = spark.table(\"default.stg_Familie\").select(\"fam_nr\", \"fam_ra_gde_id\", \"fam_beg_dat\", \"fam_end_dat\")\r\n",
        "//val df_gemeinde = spark.table(\"default.stg_Gemeinde\").select(\"gde_id\", \"gde_kt\")\r\n",
        "//val df_ecKopf = spark.table(\"default.stg_ECKopf\").select(\"eck_id\", \"eck_rech_nr\")\r\n",
        "//val df_ecDetail = spark.table(\"default.stg_ECDetail\").select(\"ecd_eck_id\", \"ecd_ecp_id\")\r\n",
        "//val df_ecProdukt = spark.table(\"default.stg_ECProdukt\").select(\"ecp_id\", \"ecp_produkt_nr\")\r\n",
        "\r\n",
        "val df_leiPPos = spark.table(\"default.stg_LeiPPos\")\r\n",
        "val df_leiPKopf = spark.table(\"default.stg_LeiPKopf\")\r\n",
        "val df_vers = spark.table(\"default.stg_Versicherter\")\r\n",
        "val df_familie = spark.table(\"default.stg_Familie\")\r\n",
        "val df_gemeinde = spark.table(\"default.stg_Gemeinde\")\r\n",
        "val df_ecKopf = spark.table(\"default.stg_ECKopf\")\r\n",
        "val df_ecDetail = spark.table(\"default.stg_ECDetail\")\r\n",
        "val df_ecProdukt = spark.table(\"default.stg_ECProdukt\")\r\n",
        "\r\n",
        "val df_familieWithMonths = df_familie.withColumn(\"fam_versmon\", datesToMonths($\"fam_beg_dat\", $\"fam_end_dat\", rangeStart, rangeEnd))\r\n",
        "\r\n",
        "val df = df_leiPPos\r\n",
        "       // filter for specified time range\r\n",
        "      .filter($\"LPP_BEH_BEG_DAT\" >= rangeStart && $\"LPP_BEH_BEG_DAT\" <= rangeEnd )\r\n",
        "\r\n",
        "      // BAG-Nummer\r\n",
        "      //TODO\r\n",
        "      .withColumn(\"BAG-Nummer\", lit(\"TBD\"))\r\n",
        "\r\n",
        "      // Jahr\r\n",
        "      //TODO\r\n",
        "      .withColumn(\"Jahr\", lit(\"TBD\"))\r\n",
        "\r\n",
        "\r\n",
        "      // AHV-Nr: LeiPPos.LPP_LPK_ID → LeiPKopf.LPK_VER_NR → Versicherter.VER_NNSS_NR\r\n",
        "      .join(df_leiPKopf, $\"lpp_lpk_id\" === $\"lpk_id\", join_type).drop(\"lpp_lpk_id\")\r\n",
        "      .join(df_vers, $\"lpk_ver_id\" === $\"ver_id\", join_type).drop(\"lpk_ver_nr\")\r\n",
        "      .withColumnRenamed(\"ver_nnss_nr\", \"AHV-Nummer\")\r\n",
        "\r\n",
        "      // Wohnkanton: LeiPPos.LPP_LPK_ID → LeiPKopf.LPK_VER_NR → Versicherter.VER_FAM_NR → Familie.FAM_RA_GDE_ID (Test auf Zeitraum) → Gemeinde.GDE_KT\r\n",
        "      .join(df_familieWithMonths, $\"ver_fam_nr\" === $\"fam_nr\", join_type).drop(\"ver_fam_nr\")\r\n",
        "      .join(df_gemeinde, $\"fam_ra_gde_id\" === $\"gde_id\", join_type).drop(\"fam_ra_gde_id\")\r\n",
        "      .withColumnRenamed(\"gde_kt\", \"Kanton\")\r\n",
        "\r\n",
        "      // Geburtsjahr: LeiPPos.LPP_LPK_ID → LeiPKopf.LPK_VER_NR → Versicherter.VER_GEB_DAT\r\n",
        "      .withColumnRenamed(\"ver_geb_dat\", \"Geburtsjahr\")\r\n",
        "\r\n",
        "      // Geschlecht: LeiPPos.LPP_LPK_ID → LeiPKopf.LPK_VER_NR → Versicherter.VER_SEX_CD\r\n",
        "      .withColumnRenamed(\"ver_sex_cd\", \"Geschlecht\")\r\n",
        "\r\n",
        "      // Spital Aufenthalt:\r\n",
        "      // Exakte Ein/Austritte Spital/Reha o.ä. ECP: LeiPPos.LPP_LPK_ID → LeiPKopf.LPK_RECH_NR → ECKopf.ECK_RECH_NR, ~.ECK_ID → ECKopfXtraCaseDetail.EXC_ECK_ID, ~.EXC_BEG_DAT, ~.EXC_END_DAT (korrekte Summierung)\r\n",
        "      // Exakte Ein/Austritte Spital/Reha o.ä. Sumex/Secon: LeiPPos.LPP_LPK_ID → LpkCaseDetail.LCD_BEG_DAT,~.LCD_END_DAT \r\n",
        "      // TODO\r\n",
        "      .withColumn(\"Aufenthalt\", lit(\"TBD\"))\r\n",
        "\r\n",
        "      // GTIN: LeiPPos.LPP_LPK_ID → LeiPKopf.LPK_RECH_NR → ECKopf.ECK_RECH_NR, ~.ECK_ID → ECDetail.ECD_ECP_ID→ ECProdukt.ECP_PRODUKT_NR (PharmaCode)\r\n",
        "      // 13-stellig\r\n",
        "      //TODO double check\r\n",
        "      .join(df_ecKopf, $\"LPK_RECH_NR\" === $\"ECK_RECH_NR\", join_type)\r\n",
        "      .join(df_ecDetail, $\"ECK_ID\" === $\"ECD_ECK_ID\", join_type).drop(\"ECD_ECK_ID\")\r\n",
        "      .join(df_ecProdukt, $\"ECD_ECP_ID\" === $\"ECP_ID\", join_type).drop(\"ECD_ECP_ID\")\r\n",
        "      .withColumnRenamed(\"ecp_produkt_nr\", \"GTIN\")\r\n",
        "\r\n",
        "      // PharmaCode (5-7 stellig)\r\n",
        "      //TODO\r\n",
        "      .withColumn(\"PharmaCode\", lit(\"TBD\"))\r\n",
        "\r\n",
        "      // Packungen - Da die Leistungserbringer nicht immer ganze Packungen abgeben (z.B. Abgabe einzelner Tabletten),\r\n",
        "        // ist die Packungsanzahl mit zwei Kommastellen anzugeben (kaufmännisch gerundet).\r\n",
        "      //TODO\r\n",
        "      .withColumn(\"Packungen\", lit(\"TBD\"))\r\n",
        "\r\n",
        "      // Monate - Die angebrochenen Versicherungsmonate bei Beginn und Ende der Versicherungsdeckung sind\r\n",
        "        // in der Datenlieferung taggenau zu berücksichtigen (siehe Kapitel 3.7.1).\r\n",
        "        // Die Versicherungsmonate sind deshalb mit zwei Kommastellen anzugeben (kaufmännisch gerundet).\r\n",
        "      .withColumnRenamed(\"fam_versmon\", \"Monate\")\r\n",
        "\r\n",
        "      // Kosten - Angegeben werden müssen die Kosten vor Abzug der Kostenbeteiligung\r\n",
        "        //(d.h. die Bruttokosten). Jeweils in Franken mit zwei Kommastellen anzugeben (kaufmännisch gerundet).\r\n",
        "      //TODO\r\n",
        "      .withColumn(\"Kosten\", lit(\"TBD\"))\r\n",
        "\r\n",
        "      // Kostenbeteiligung - Jeweils in Franken mit zwei Kommastellen anzugeben (kaufmännisch gerundet).\r\n",
        "      //TODO\r\n",
        "      .withColumn(\"Kostenbeteiligung\", lit(\"TBD\"))\r\n",
        "\r\n",
        "      //Output: BAG-Nummer, Jahr, AHV-Nummer, Kanton, Geburtsjahr, Geschlecht, Aufenthalt, GTIN, PharmaCode, Packungen, Monate, Kosten, Kostenbeteiligung\r\n",
        "      //.select(\"BAG-Nummer\", \"Jahr\", \"AHV-Nummer\", \"Kanton\", \"Geburtsjahr\", \"Geschlecht\", \"Aufenthalt\", \"GTIN\", \"PharmaCode\", \"Monate\", \"Kosten\", \"Kostenbeteiligung\")\r\n",
        "      //.select(\"AHV-Nummer\", \"Kanton\", \"Geburtsjahr\", \"Geschlecht\", \"GTIN\")\r\n",
        "\r\n",
        "df.printSchema()"
      ],
      "outputs" : [
        {
          "name" : "stdout",
          "text" : [
            "root\n",
            " |-- lpp_id: integer (nullable = true)\n",
            " |-- lpp_typ: integer (nullable = true)\n",
            " |-- lpp_lpl_id: short (nullable = true)\n",
            " |-- lpp_sca_id: integer (nullable = true)\n",
            " |-- lpp_bha_id: string (nullable = true)\n",
            " |-- lpp_ktk_id: integer (nullable = true)\n",
            " |-- lpp_kma_id: integer (nullable = true)\n",
            " |-- lpp_lsa_id: short (nullable = true)\n",
            " |-- lpp_dkg_id: short (nullable = true)\n",
            " |-- lpp_dgp_id: integer (nullable = true)\n",
            " |-- lpp_vde_card: integer (nullable = true)\n",
            " |-- lpp_vde_id: integer (nullable = true)\n",
            " |-- lpp_vde_pk: integer (nullable = true)\n",
            " |-- lpp_beh_beg_dat: timestamp (nullable = true)\n",
            " |-- lpp_pos_betr: decimal(19,4) (nullable = true)\n",
            " |-- lpp_npl_id: short (nullable = true)\n",
            " |-- lpp_np_text: string (nullable = true)\n",
            " |-- lpp_np_betr: decimal(19,4) (nullable = true)\n",
            " |-- lpp_rl_betr: decimal(19,4) (nullable = true)\n",
            " |-- lpp_fr_betr: decimal(10,4) (nullable = true)\n",
            " |-- lpp_fr_tot_betr: decimal(10,4) (nullable = true)\n",
            " |-- lpp_sb_betr: decimal(10,4) (nullable = true)\n",
            " |-- lpp_sb_stat_betr: decimal(10,4) (nullable = true)\n",
            " |-- lpp_sb_tot_betr: decimal(10,4) (nullable = true)\n",
            " |-- lpp_fam_tot_betr: decimal(10,4) (nullable = true)\n",
            " |-- lpp_st_ansatz: decimal(10,4) (nullable = true)\n",
            " |-- lpp_sp_tage: short (nullable = true)\n",
            " |-- lpp_sp_betr: decimal(10,4) (nullable = true)\n",
            " |-- lpp_anzahl: short (nullable = true)\n",
            " |-- lpp_lim_anz: short (nullable = true)\n",
            " |-- lpp_kons: short (nullable = true)\n",
            " |-- lpp_al_tp: decimal(10,4) (nullable = true)\n",
            " |-- lpp_tl_tp: decimal(10,4) (nullable = true)\n",
            " |-- lpp_ueb_betr: decimal(19,4) (nullable = true)\n",
            " |-- lpp_kosten_betr: decimal(19,4) (nullable = true)\n",
            " |-- lpp_kasse_betr: decimal(19,4) (nullable = true)\n",
            " |-- lpp_vers_betr: decimal(19,4) (nullable = true)\n",
            " |-- lpp_nv_betr: decimal(19,4) (nullable = true)\n",
            " |-- lpp_kobe_betr: decimal(10,4) (nullable = true)\n",
            " |-- lpp_kobe_cd: boolean (nullable = true)\n",
            " |-- lpp_def_al_tl: boolean (nullable = true)\n",
            " |-- lpp_def_kons: boolean (nullable = true)\n",
            " |-- lpp_def_anzahl: boolean (nullable = true)\n",
            " |-- lpp_def_st_ansatz: boolean (nullable = true)\n",
            " |-- lpp_def_sp_tage: boolean (nullable = true)\n",
            " |-- lpp_def_chk_geburt: boolean (nullable = true)\n",
            " |-- lpp_fehler_al_tl: boolean (nullable = true)\n",
            " |-- lpp_fehler_kons: boolean (nullable = true)\n",
            " |-- lpp_fehler_anzahl: boolean (nullable = true)\n",
            " |-- lpp_fehler_st_ansatz: boolean (nullable = true)\n",
            " |-- lpp_fehler_sp_tage: boolean (nullable = true)\n",
            " |-- BAG-Nummer: string (nullable = false)\n",
            " |-- Jahr: string (nullable = false)\n",
            " |-- lpk_id: integer (nullable = true)\n",
            " |-- lpk_fam_nr: integer (nullable = true)\n",
            " |-- lpk_deb_nr: integer (nullable = true)\n",
            " |-- lpk_vtg_nr: integer (nullable = true)\n",
            " |-- lpk_gde_id: short (nullable = true)\n",
            " |-- lpk_adr_id: integer (nullable = true)\n",
            " |-- lpk_ksk_nr: string (nullable = true)\n",
            " |-- lpk_ksk_nr_vst: string (nullable = true)\n",
            " |-- lpk_ksk_nr_vst2: string (nullable = true)\n",
            " |-- lpk_esr_nr: decimal(27,0) (nullable = true)\n",
            " |-- lpk_esr_nr_len: integer (nullable = true)\n",
            " |-- lpk_esr_kto: integer (nullable = true)\n",
            " |-- lpk_rech_nr: string (nullable = true)\n",
            " |-- lpk_rech_dat: timestamp (nullable = true)\n",
            " |-- lpk_rech_zahl_dat: timestamp (nullable = true)\n",
            " |-- lpk_rech_betr: decimal(19,4) (nullable = true)\n",
            " |-- lpk_korr_betr: decimal(19,4) (nullable = true)\n",
            " |-- lpk_kas_betr: decimal(19,4) (nullable = true)\n",
            " |-- lpk_beh_beg_dat: timestamp (nullable = true)\n",
            " |-- lpk_beh_end_dat: timestamp (nullable = true)\n",
            " |-- lpk_zaba_cd: string (nullable = true)\n",
            " |-- lpk_kobe_cd: string (nullable = true)\n",
            " |-- lpk_gac_id: integer (nullable = true)\n",
            " |-- lpk_stat_cd: integer (nullable = true)\n",
            " |-- lpk_fall_id: short (nullable = true)\n",
            " |-- lpk_fkt_dat: timestamp (nullable = true)\n",
            " |-- lpk_erf_uid: short (nullable = true)\n",
            " |-- lpk_erf_dat: timestamp (nullable = true)\n",
            " |-- lpk_sto_dat: timestamp (nullable = true)\n",
            " |-- lpk_sto_erf_uid: short (nullable = true)\n",
            " |-- lpk_sto_erf_dat: timestamp (nullable = true)\n",
            " |-- lpk_sto_cd: integer (nullable = true)\n",
            " |-- lpk_sto_folge_lpk_id: integer (nullable = true)\n",
            " |-- lpk_sto_folge_cd: integer (nullable = true)\n",
            " |-- lpk_esr_nr_format: string (nullable = true)\n",
            " |-- lpk_esr_kto_format: string (nullable = true)\n",
            " |-- lpk_lpt_id: integer (nullable = true)\n",
            " |-- lpk_ecl_id: short (nullable = true)\n",
            " |-- lpk_eck_id: integer (nullable = true)\n",
            " |-- lpk_ext_ref: string (nullable = true)\n",
            " |-- lpk_ksk_deb_nr: integer (nullable = true)\n",
            " |-- lpk_prt_id: integer (nullable = true)\n",
            " |-- lpk_freigabe_auto_cd: boolean (nullable = true)\n",
            " |-- lpk_freigabe_uid: short (nullable = true)\n",
            " |-- lpk_freigabe_dat: timestamp (nullable = true)\n",
            " |-- lpk_sto_ursache_cd: integer (nullable = true)\n",
            " |-- lpk_vers_betr: decimal(19,4) (nullable = true)\n",
            " |-- lpk_kontrolle_uid: short (nullable = true)\n",
            " |-- lpk_kontrolle_dat: timestamp (nullable = true)\n",
            " |-- lpk_diag: string (nullable = true)\n",
            " |-- lpk_bem: string (nullable = true)\n",
            " |-- lpk_lea_id: integer (nullable = true)\n",
            " |-- lpk_beh_dauer: short (nullable = true)\n",
            " |-- lpk_erf_uid_original: short (nullable = true)\n",
            " |-- lpk_erf_dat_original: date (nullable = true)\n",
            " |-- lpk_zha_id: integer (nullable = true)\n",
            " |-- lpk_ver_id: integer (nullable = true)\n",
            " |-- lpk_esr_qr_iban: string (nullable = true)\n",
            " |-- lpk_esr_qr_ref: string (nullable = true)\n",
            " |-- lpk_mutterschaft_w13_dat: date (nullable = true)\n",
            " |-- lpk_lock_cd: boolean (nullable = true)\n",
            " |-- lpk_fall_ident: string (nullable = true)\n",
            " |-- ver_nr: integer (nullable = true)\n",
            " |-- ver_id: integer (nullable = true)\n",
            " |-- ver_vea_id: integer (nullable = true)\n",
            " |-- ver_name: string (nullable = true)\n",
            " |-- ver_vname: string (nullable = true)\n",
            " |-- ver_such1: string (nullable = true)\n",
            " |-- Geschlecht: string (nullable = true)\n",
            " |-- Geburtsjahr: timestamp (nullable = true)\n",
            " |-- ver_ahv: string (nullable = true)\n",
            " |-- ver_beruf: string (nullable = true)\n",
            " |-- ver_ziv_cd: string (nullable = true)\n",
            " |-- ver_nat_id: short (nullable = true)\n",
            " |-- ver_aea_id: integer (nullable = true)\n",
            " |-- ver_aea_beg_dat: timestamp (nullable = true)\n",
            " |-- ver_aea_end_dat: timestamp (nullable = true)\n",
            " |-- ver_beg_dat: timestamp (nullable = true)\n",
            " |-- ver_end_dat: timestamp (nullable = true)\n",
            " |-- ver_erf_uid: short (nullable = true)\n",
            " |-- ver_erf_dat: timestamp (nullable = true)\n",
            " |-- ver_mut_uid: short (nullable = true)\n",
            " |-- ver_mut_dat: timestamp (nullable = true)\n",
            " |-- ver_fehler: integer (nullable = true)\n",
            " |-- ver_aktuell: integer (nullable = true)\n",
            " |-- AHV-Nummer: string (nullable = true)\n",
            " |-- fam_id: integer (nullable = true)\n",
            " |-- fam_nr: integer (nullable = true)\n",
            " |-- fam_beg_dat: timestamp (nullable = true)\n",
            " |-- fam_end_dat: timestamp (nullable = true)\n",
            " |-- fam_fehler: integer (nullable = true)\n",
            " |-- fam_ges_id: short (nullable = true)\n",
            " |-- fam_spr_id: string (nullable = true)\n",
            " |-- fam_prt_id: integer (nullable = true)\n",
            " |-- fam_fkt_intv: integer (nullable = true)\n",
            " |-- fam_saf_intv: integer (nullable = true)\n",
            " |-- fam_gde_id: short (nullable = true)\n",
            " |-- fam_ext_ref: string (nullable = true)\n",
            " |-- fam_mut_uid: short (nullable = true)\n",
            " |-- fam_mut_dat: timestamp (nullable = true)\n",
            " |-- fam_aktuell: integer (nullable = true)\n",
            " |-- Monate: double (nullable = true)\n",
            " |-- gde_id: short (nullable = true)\n",
            " |-- gde_name: string (nullable = true)\n",
            " |-- gde_bta_id: short (nullable = true)\n",
            " |-- Kanton: string (nullable = true)\n",
            " |-- gde_adr_id: integer (nullable = true)\n",
            " |-- gde_ina_id: integer (nullable = true)\n",
            " |-- gde_bem: string (nullable = true)\n",
            " |-- gde_spr_id: string (nullable = true)\n",
            " |-- gde_beg_dat: timestamp (nullable = true)\n",
            " |-- gde_end_dat: timestamp (nullable = true)\n",
            " |-- gde_folge_gde_id: short (nullable = true)\n",
            " |-- gde_mut_uid: short (nullable = true)\n",
            " |-- gde_mut_dat: timestamp (nullable = true)\n",
            " |-- Aufenthalt: string (nullable = false)\n",
            " |-- eck_id: integer (nullable = true)\n",
            " |-- eck_ecl_id: short (nullable = true)\n",
            " |-- eck_epd_id: integer (nullable = true)\n",
            " |-- eck_ver_nr: integer (nullable = true)\n",
            " |-- eck_ver_ecv_id: integer (nullable = true)\n",
            " |-- eck_rech_korr_cd: boolean (nullable = true)\n",
            " |-- eck_rech_erst_idx: integer (nullable = true)\n",
            " |-- eck_rech_nr: string (nullable = true)\n",
            " |-- eck_rech_dat: timestamp (nullable = true)\n",
            " |-- eck_rech_zziel: short (nullable = true)\n",
            " |-- eck_rech_bem: string (nullable = true)\n",
            " |-- eck_rech_epn_id: integer (nullable = true)\n",
            " |-- eck_rech_ksk_nr: string (nullable = true)\n",
            " |-- eck_rech_epr_id: integer (nullable = true)\n",
            " |-- eck_rech_betr: decimal(19,4) (nullable = true)\n",
            " |-- eck_rech_betr_rnd: decimal(19,4) (nullable = true)\n",
            " |-- eck_rech_anz_betr: decimal(19,4) (nullable = true)\n",
            " |-- eck_esr_plus_cd: boolean (nullable = true)\n",
            " |-- eck_esr_kto: integer (nullable = true)\n",
            " |-- eck_esr_nr: decimal(27,0) (nullable = true)\n",
            " |-- eck_esr_nr_len: integer (nullable = true)\n",
            " |-- eck_ksk_fall_nr: string (nullable = true)\n",
            " |-- eck_ksk_epn_id: integer (nullable = true)\n",
            " |-- eck_ksk_nr: string (nullable = true)\n",
            " |-- eck_ksk_epr_id: integer (nullable = true)\n",
            " |-- eck_ksk_vst_epn_id: integer (nullable = true)\n",
            " |-- eck_ksk_vst_ksk_nr: string (nullable = true)\n",
            " |-- eck_ksk_vst_epr_id: integer (nullable = true)\n",
            " |-- eck_kst_epn_id: integer (nullable = true)\n",
            " |-- eck_kst_epr_id: integer (nullable = true)\n",
            " |-- eck_beh_beg_dat: timestamp (nullable = true)\n",
            " |-- eck_beh_end_dat: timestamp (nullable = true)\n",
            " |-- eck_beh_bha_id: string (nullable = true)\n",
            " |-- eck_beh_kt: string (nullable = true)\n",
            " |-- eck_ebo_spital_cd: boolean (nullable = true)\n",
            " |-- eck_erg_epz_id: integer (nullable = true)\n",
            " |-- eck_erg_sca_id: integer (nullable = true)\n",
            " |-- eck_erg_dat: timestamp (nullable = true)\n",
            " |-- eck_erg_vtg_nr: string (nullable = true)\n",
            " |-- eck_erg_fall_nr: string (nullable = true)\n",
            " |-- eck_ers_id: integer (nullable = true)\n",
            " |-- eck_lpk_id: integer (nullable = true)\n",
            " |-- eck_abr_betr: decimal(19,4) (nullable = true)\n",
            " |-- eck_abr_betr_rnd: decimal(19,4) (nullable = true)\n",
            " |-- eck_krz_betr: decimal(19,4) (nullable = true)\n",
            " |-- eck_krz_betr_rnd: decimal(19,4) (nullable = true)\n",
            " |-- eck_import_cd: boolean (nullable = true)\n",
            " |-- eck_freigabe_cd: boolean (nullable = true)\n",
            " |-- eck_verbucht_cd: boolean (nullable = true)\n",
            " |-- eck_abgewiesen_cd: boolean (nullable = true)\n",
            " |-- eck_fp_export_cd: boolean (nullable = true)\n",
            " |-- eck_fp_check_cd: boolean (nullable = true)\n",
            " |-- eck_fp_import_cd: boolean (nullable = true)\n",
            " |-- eck_korr_cd: boolean (nullable = true)\n",
            " |-- eck_hinweis_cd: boolean (nullable = true)\n",
            " |-- eck_warn_cd: boolean (nullable = true)\n",
            " |-- eck_fehler_cd: boolean (nullable = true)\n",
            " |-- eck_freeze_cd: boolean (nullable = true)\n",
            " |-- eck_ext_ref: string (nullable = true)\n",
            " |-- eck_abr_ksk_nr: string (nullable = true)\n",
            " |-- eck_mut_dat: timestamp (nullable = true)\n",
            " |-- eck_verarb_dat_soll: date (nullable = true)\n",
            " |-- eck_verarb_dat_ist: date (nullable = true)\n",
            " |-- eck_agenda_dat: timestamp (nullable = true)\n",
            " |-- eck_beh_beg_dat_src: timestamp (nullable = true)\n",
            " |-- eck_beh_end_dat_src: timestamp (nullable = true)\n",
            " |-- eck_demand_epk_id: integer (nullable = true)\n",
            " |-- eck_ver_ecv_id_mutter: integer (nullable = true)\n",
            " |-- eck_rech_uid_nr: string (nullable = true)\n",
            " |-- eck_beh_apid: string (nullable = true)\n",
            " |-- eck_beh_acid: string (nullable = true)\n",
            " |-- eck_ksk_deb_epn_id: integer (nullable = true)\n",
            " |-- eck_ksk_deb_epr_id: integer (nullable = true)\n",
            " |-- eck_ecg_edi_cd: boolean (nullable = true)\n",
            " |-- eck_esr_qr_iban: string (nullable = true)\n",
            " |-- eck_esr_qr_ref: string (nullable = true)\n",
            " |-- eck_esr_crd_epr_id: integer (nullable = true)\n",
            " |-- eck_beh_muttersch_w13: timestamp (nullable = true)\n",
            " |-- eck_esr_pay_cd: integer (nullable = true)\n",
            " |-- eck_ver_ecv_id_orig: integer (nullable = true)\n",
            " |-- eck_esr_qr_ref_len: integer (nullable = true)\n",
            " |-- eck_svk_check_cd: integer (nullable = true)\n",
            " |-- ecd_id: short (nullable = true)\n",
            " |-- ecd_epl_id: integer (nullable = true)\n",
            " |-- ecd_session_nr: integer (nullable = true)\n",
            " |-- ecd_bha_id: string (nullable = true)\n",
            " |-- ecd_anzahl: decimal(10,4) (nullable = true)\n",
            " |-- ecd_bezug_ziffer: string (nullable = true)\n",
            " |-- ecd_epc_id: integer (nullable = true)\n",
            " |-- ecd_ausf_epn_id: integer (nullable = true)\n",
            " |-- ecd_ausf_med_rolle_cd: boolean (nullable = true)\n",
            " |-- ecd_vera_epn_id: integer (nullable = true)\n",
            " |-- ecd_vera_abr_rolle_cd: string (nullable = true)\n",
            " |-- ecd_koerper_cd: boolean (nullable = true)\n",
            " |-- ecd_ear_id: integer (nullable = true)\n",
            " |-- ecd_1_wert: decimal(10,4) (nullable = true)\n",
            " |-- ecd_1_faktor_umr: decimal(10,4) (nullable = true)\n",
            " |-- ecd_1_faktor_int: decimal(10,4) (nullable = true)\n",
            " |-- ecd_1_faktor_ext: decimal(10,4) (nullable = true)\n",
            " |-- ecd_1_betr: decimal(19,4) (nullable = true)\n",
            " |-- ecd_2_wert: decimal(10,4) (nullable = true)\n",
            " |-- ecd_2_faktor_umr: decimal(10,4) (nullable = true)\n",
            " |-- ecd_2_faktor_int: decimal(10,4) (nullable = true)\n",
            " |-- ecd_2_faktor_ext: decimal(10,4) (nullable = true)\n",
            " |-- ecd_2_betr: decimal(19,4) (nullable = true)\n",
            " |-- ecd_rech_pos_betr: decimal(19,4) (nullable = true)\n",
            " |-- ecd_epe_id: integer (nullable = true)\n",
            " |-- ecd_eph_id: integer (nullable = true)\n",
            " |-- ecd_epa_id: integer (nullable = true)\n",
            " |-- ecd_ewh_id: integer (nullable = true)\n",
            " |-- ecd_fachpr_cd: boolean (nullable = true)\n",
            " |-- ecd_limit_cd: boolean (nullable = true)\n",
            " |-- ecd_pflicht_cd: boolean (nullable = true)\n",
            " |-- ecd_pos_bem: string (nullable = true)\n",
            " |-- ecd_etn_id: integer (nullable = true)\n",
            " |-- ecd_etv_id: short (nullable = true)\n",
            " |-- ecd_exs_id: integer (nullable = true)\n",
            " |-- ecd_etu_id: short (nullable = true)\n",
            " |-- ecd_exk_id: short (nullable = true)\n",
            " |-- ecd_exp_id: integer (nullable = true)\n",
            " |-- ecd_pek_id: integer (nullable = true)\n",
            " |-- ecd_lpl_id: short (nullable = true)\n",
            " |-- ecd_vde_pk: integer (nullable = true)\n",
            " |-- ecd_lpp_cd: boolean (nullable = true)\n",
            " |-- ecd_lpp_np_betr: decimal(10,4) (nullable = true)\n",
            " |-- ecd_lpp_id: integer (nullable = true)\n",
            " |-- ecd_abr_betr: decimal(19,4) (nullable = true)\n",
            " |-- ecd_fp_import_cd: boolean (nullable = true)\n",
            " |-- ecd_fp_check_cd: boolean (nullable = true)\n",
            " |-- ecd_fp_export_cd: boolean (nullable = true)\n",
            " |-- ecd_korr_cd: boolean (nullable = true)\n",
            " |-- ecd_hinweis_cd: boolean (nullable = true)\n",
            " |-- ecd_warn_cd: boolean (nullable = true)\n",
            " |-- ecd_fehler_cd: boolean (nullable = true)\n",
            " |-- ecd_eti_id: integer (nullable = true)\n",
            " |-- ecd_mut_dat: timestamp (nullable = true)\n",
            " |-- ecd_krz_betr: decimal(19,4) (nullable = true)\n",
            " |-- ecd_regulation_attrib: integer (nullable = true)\n",
            " |-- ecd_service_attrib: integer (nullable = true)\n",
            " |-- alt_ecd_etn_id: integer (nullable = true)\n",
            " |-- alt_ecd_eti_id: integer (nullable = true)\n",
            " |-- ecd_svk_check_cd: integer (nullable = true)\n",
            " |-- ecp_id: integer (nullable = true)\n",
            " |-- ecp_ept_id: integer (nullable = true)\n",
            " |-- GTIN: string (nullable = true)\n",
            " |-- ecp_produkt_name: string (nullable = true)\n",
            " |-- ecp_iks_cd: string (nullable = true)\n",
            " |-- ecp_mut_uid: short (nullable = true)\n",
            " |-- ecp_mut_dat: timestamp (nullable = true)\n",
            " |-- PharmaCode: string (nullable = false)\n",
            " |-- Packungen: string (nullable = false)\n",
            " |-- Kosten: string (nullable = false)\n",
            " |-- Kostenbeteiligung: string (nullable = false)\n",
            "\n"
          ],
          "output_type" : "stream"
        }
      ]
    },
    {
      "cell_type" : "code",
      "execution_count" : 19,
      "metadata" : {
        "cell.metadata.exec_info" : {
          "startTs" : 1655898074412,
          "endTs" : 1655898097621
        },
        "language" : "scala"
      },
      "language" : "scala",
      "source" : [
        "//df.select(\"AHV-Nummer\").show()\r\n",
        "df.filter(not($\"Monate\" === 12.0 )).select(\"lpp_id\", \"lpk_id\", \"AHV-Nummer\", \"fam_id\", \"fam_nr\", \"fam_beg_dat\", \"fam_end_dat\", \"Monate\", \"Kanton\", \"gde_id\").show()\r\n",
        "df.count()"
      ],
      "outputs" : [
        {
          "name" : "stdout",
          "text" : [
            "+------+------+-------------+------+-------+-------------------+-------------------+------+------+------+\n",
            "|lpp_id|lpk_id|   AHV-Nummer|fam_id| fam_nr|        fam_beg_dat|        fam_end_dat|Monate|Kanton|gde_id|\n",
            "+------+------+-------------+------+-------+-------------------+-------------------+------+------+------+\n",
            "|     1|424130|7567055082854|   214|1000194|2012-10-26 00:00:00|2020-01-31 00:00:00|   1.0|    ZH|     2|\n",
            "|     1|424132|7567055082854|   214|1000194|2012-10-26 00:00:00|2020-01-31 00:00:00|   1.0|    ZH|     2|\n",
            "|     1|424132|7567055082854| 26965|1000194|2020-02-01 00:00:00|2050-01-01 00:00:00|  11.0|    ZH|     2|\n",
            "|     1|448471|7567055082854|   214|1000194|2012-10-26 00:00:00|2020-01-31 00:00:00|   1.0|    ZH|     2|\n",
            "|     1|448471|7567055082854| 26965|1000194|2020-02-01 00:00:00|2050-01-01 00:00:00|  11.0|    ZH|     2|\n",
            "|     1|448471|7567055082854|   214|1000194|2012-10-26 00:00:00|2020-01-31 00:00:00|   1.0|    ZH|     2|\n",
            "|     1|448471|7567055082854|   214|1000194|2012-10-26 00:00:00|2020-01-31 00:00:00|   1.0|    ZH|     2|\n",
            "|     1|448471|7567055082854|   214|1000194|2012-10-26 00:00:00|2020-01-31 00:00:00|   1.0|    ZH|     2|\n",
            "|     1|448471|7567055082854|   214|1000194|2012-10-26 00:00:00|2020-01-31 00:00:00|   1.0|    ZH|     2|\n",
            "|     1|448471|7567055082854|   214|1000194|2012-10-26 00:00:00|2020-01-31 00:00:00|   1.0|    ZH|     2|\n",
            "|     1|448471|7567055082854|   214|1000194|2012-10-26 00:00:00|2020-01-31 00:00:00|   1.0|    ZH|     2|\n",
            "|     1|448471|7567055082854|   214|1000194|2012-10-26 00:00:00|2020-01-31 00:00:00|   1.0|    ZH|     2|\n",
            "|     1|448471|7567055082854|   214|1000194|2012-10-26 00:00:00|2020-01-31 00:00:00|   1.0|    ZH|     2|\n",
            "|     1|448471|7567055082854|   214|1000194|2012-10-26 00:00:00|2020-01-31 00:00:00|   1.0|    ZH|     2|\n",
            "|     1|451572|7567055082854|   214|1000194|2012-10-26 00:00:00|2020-01-31 00:00:00|   1.0|    ZH|     2|\n",
            "|     1|451572|7567055082854| 26965|1000194|2020-02-01 00:00:00|2050-01-01 00:00:00|  11.0|    ZH|     2|\n",
            "|     2|451572|7567055082854|   214|1000194|2012-10-26 00:00:00|2020-01-31 00:00:00|   1.0|    ZH|     2|\n",
            "|     2|451572|7567055082854| 26965|1000194|2020-02-01 00:00:00|2050-01-01 00:00:00|  11.0|    ZH|     2|\n",
            "|     3|451572|7567055082854|   214|1000194|2012-10-26 00:00:00|2020-01-31 00:00:00|   1.0|    ZH|     2|\n",
            "|     1|451572|7567055082854|   214|1000194|2012-10-26 00:00:00|2020-01-31 00:00:00|   1.0|    ZH|     2|\n",
            "+------+------+-------------+------+-------+-------------------+-------------------+------+------+------+\n",
            "only showing top 20 rows\n",
            "\n"
          ],
          "output_type" : "stream"
        },
        {
          "execution_count" : 19,
          "data" : {
            "text/plain" : [
              "5142703"
            ]
          },
          "metadata" : {
            "name" : "Out",
            "type" : "Long"
          },
          "output_type" : "execute_result"
        }
      ]
    },
    {
      "cell_type" : "code",
      "execution_count" : 8,
      "metadata" : {
        "cell.metadata.exec_info" : {
          "startTs" : 1655822600708,
          "endTs" : 1655822601345
        },
        "language" : "scala"
      },
      "language" : "scala",
      "source" : [
        "spark.table(\"default.stg_familie\").where($\"fam_nr\" === 1010834).show()"
      ],
      "outputs" : [
        {
          "name" : "stdout",
          "text" : [
            "+------+-------+-------------------+-------------------+----------+----------+----------+----------+------------+------------+----------+-------------+-----------+-----------+-------------------+-----------+\n",
            "|fam_id| fam_nr|        fam_beg_dat|        fam_end_dat|fam_fehler|fam_ges_id|fam_spr_id|fam_prt_id|fam_fkt_intv|fam_saf_intv|fam_gde_id|fam_ra_gde_id|fam_ext_ref|fam_mut_uid|        fam_mut_dat|fam_aktuell|\n",
            "+------+-------+-------------------+-------------------+----------+----------+----------+----------+------------+------------+----------+-------------+-----------+-----------+-------------------+-----------+\n",
            "|  9531|1010834|1900-01-01 00:00:00|2012-08-23 00:00:00|         0|      1000|         D|         1|           1|           0|       191|          191|       null|          2|2015-09-30 09:31:00|          0|\n",
            "|  9532|1010834|2012-08-24 00:00:00|2015-01-07 00:00:00|         0|      1000|         D|         1|           1|           0|       243|          243|       null|          2|2015-09-30 09:31:00|          0|\n",
            "|  9533|1010834|2015-01-08 00:00:00|2016-08-31 00:00:00|         0|      1000|         D|         1|           1|           0|       198|          198|       null|          2|2015-09-30 09:31:00|          0|\n",
            "| 17111|1010834|2016-09-01 00:00:00|2020-04-30 00:00:00|         0|      1000|         D|         1|           1|           0|       121|          121|       null|        398|2016-08-12 14:22:00|          0|\n",
            "| 27167|1010834|2020-05-01 00:00:00|2050-01-01 00:00:00|         0|      1000|         D|         1|           1|           0|       172|          172|       null|        398|2020-04-06 14:59:00|          1|\n",
            "+------+-------+-------------------+-------------------+----------+----------+----------+----------+------------+------------+----------+-------------+-----------+-----------+-------------------+-----------+\n",
            "\n"
          ],
          "output_type" : "stream"
        }
      ]
    },
    {
      "cell_type" : "code",
      "execution_count" : 9,
      "metadata" : {
        "cell.metadata.exec_info" : {
          "startTs" : 1655731541741,
          "endTs" : 1655731542727
        },
        "language" : "scala"
      },
      "language" : "scala",
      "source" : [
        "import java.time.LocalDate\r\n",
        "import java.time.format.DateTimeFormatter\r\n",
        "\r\n",
        "val dayFormat = DateTimeFormatter.ofPattern(\"yyyy-MM-dd\")\r\n",
        "val rangeStart = LocalDate.parse(\"2020-01-01\", dayFormat)\r\n",
        "val tmp = \"\"\r\n",
        "//if (tmp == \"\") {\r\n",
        "  val rangeEnd = rangeStart.plusYears(1).minusDays(1)\r\n",
        "//} else {\r\n",
        "//  val rangeEnd = LocalDate.parse(tmp, dayFormat)\r\n",
        "//}\r\n",
        "\r\n",
        "\r\n",
        "val df_leiPPos = spark.table(\"default.stg_LeiPPos\")//.as(\"leippos\")\r\n",
        "val df_leiPKopf = spark.table(\"default.stg_LeiPKopf\")//.as(\"leipkopf\")\r\n",
        "val df_vers = spark.table(\"default.stg_Versicherter\")\r\n",
        "val df_familie = spark.table(\"default.stg_Familie\")\r\n",
        "val df_gemeinde = spark.table(\"default.stg_Gemeinde\")\r\n",
        "val df_ecKopf = spark.table(\"default.stg_ECKopf\")\r\n",
        "val df_ecDetail = spark.table(\"default.stg_ECDetail\")\r\n",
        "val df_ecProdukt = spark.table(\"default.stg_ECProdukt\")\r\n",
        "\r\n",
        "val join_type = \"left\" // \"left_semi\" would only take rows which match\r\n",
        "\r\n"
      ],
      "outputs" : [
      ]
    },
    {
      "cell_type" : "code",
      "execution_count" : 10,
      "metadata" : {
        "cell.metadata.exec_info" : {
          "startTs" : 1655473111172,
          "endTs" : 1655473119527
        },
        "language" : "scala"
      },
      "language" : "scala",
      "source" : [
        "var counts = List(df_leiPPos.count())\r\n",
        "\r\n",
        "var df = df_leiPPos\r\n",
        "      // Jahr\r\n",
        "      .filter($\"LPP_BEH_BEG_DAT\" > rangeStart && $\"LPP_BEH_BEG_DAT\" < rangeEnd)\r\n",
        "\r\n",
        "counts = counts :+ df.count() \r\n",
        "      // AHV-Nr: LeiPPos.LPP_LPK_ID → LeiPKopf.LPK_VER_NR → Versicherter.VER_NNSS_NR\r\n",
        "df = df.join(df_leiPKopf, $\"lpp_lpk_id\" === $\"lpk_id\", join_type)\r\n",
        "      .join(df_vers, $\"lpk_ver_id\" === $\"ver_id\", join_type)\r\n",
        "      .withColumnRenamed(\"ver_nnss_nr\", \"AHV_Nr\")\r\n",
        "\r\n",
        "counts = counts :+ df.count() \r\n",
        "\r\n",
        "      // Wohnkanton: LeiPPos.LPP_LPK_ID → LeiPKopf.LPK_VER_NR → Versicherter.VER_FAM_NR → Familie.FAM_RA_GDE_ID (Test auf Zeitraum) → Gemeinde.GDE_KT\r\n",
        "df = df.join(df_familie, $\"ver_fam_nr\" === $\"fam_nr\", join_type)\r\n",
        "      .join(df_gemeinde, $\"fam_ra_gde_id\" === $\"gde_id\", join_type)\r\n",
        "      .withColumnRenamed(\"gde_kt\", \"Wohnkanton\")\r\n",
        "val df2 = df\r\n",
        "\r\n",
        "//counts = counts :+ df.count() \r\n",
        "\r\n",
        "      // Geburtsjahr: LeiPPos.LPP_LPK_ID → LeiPKopf.LPK_VER_NR → Versicherter.VER_GEB_DAT\r\n",
        "df = df.withColumnRenamed(\"ver_geb_dat\", \"Geburtsjahr\")\r\n",
        "\r\n",
        "counts = counts :+ df.count() \r\n",
        "\r\n",
        "      // Geschlecht: LeiPPos.LPP_LPK_ID → LeiPKopf.LPK_VER_NR → Versicherter.VER_SEX_CD\r\n",
        "df = df.withColumnRenamed(\"ver_sex_cd\", \"Geschlecht\")\r\n",
        "\r\n",
        "      // Spital Aufenthalt:\r\n",
        "      // Exakte Ein/Austritte Spital/Reha o.ä. ECP: LeiPPos.LPP_LPK_ID → LeiPKopf.LPK_RECH_NR → ECKopf.ECK_RECH_NR, ~.ECK_ID → ECKopfXtraCaseDetail.EXC_ECK_ID, ~.EXC_BEG_DAT, ~.EXC_END_DAT (korrekte Summierung)\r\n",
        "      // Exakte Ein/Austritte Spital/Reha o.ä. Sumex/Secon: LeiPPos.LPP_LPK_ID → LpkCaseDetail.LCD_BEG_DAT,~.LCD_END_DAT \r\n",
        "      // TODO\r\n",
        "\r\n",
        "counts = counts :+ df.count() \r\n",
        "\r\n",
        "      // GTIN: LeiPPos.LPP_LPK_ID → LeiPKopf.LPK_RECH_NR → ECKopf.ECK_RECH_NR, ~.ECK_ID → ECDetail.ECD_ECP_ID→ ECProdukt.ECP_PRODUKT_NR (PharmaCode)\r\n",
        "df = df.join(df_ecKopf, $\"LPK_RECH_NR\" === $\"ECK_RECH_NR\", join_type)\r\n",
        "      .join(df_ecDetail, $\"ECK_ID\" === $\"ECD_ECK_ID\", join_type)\r\n",
        "      .join(df_ecProdukt, $\"ECD_ECP_ID\" === $\"ECP_ID\", join_type)\r\n",
        "      .withColumnRenamed(\"ecp_produkt_nr\", \"GTIN\")\r\n",
        "      \r\n",
        "\r\n",
        "      //Output: AHV-Nummer ,Geburtsjahr, Geschlecht, Wohnkanton, Aufenthalt, GTIN-Code, Anzahl Packungen, Versicherungsmonate, Bruttokosten, Kostenbeteiligung\r\n",
        "      .select(\"AHV_Nr\", \"Geburtsjahr\", \"Geschlecht\", \"Wohnkanton\", \"GTIN\")\r\n",
        "\r\n",
        "//counts = counts :+ df.count() \r\n",
        "\r\n",
        "print(counts)"
      ],
      "outputs" : [
        {
          "name" : "stdout",
          "text" : [
            "List(1127420, 198712, 198712, 346648, 346648)"
          ],
          "output_type" : "stream"
        }
      ]
    },
    {
      "cell_type" : "code",
      "execution_count" : 11,
      "metadata" : {
        "cell.metadata.exec_info" : {
          "startTs" : 1655473119533,
          "endTs" : 1655473128291
        },
        "language" : "scala"
      },
      "language" : "scala",
      "source" : [
        "df2.show()"
      ],
      "outputs" : [
        {
          "name" : "stdout",
          "text" : [
            "+----------+------+-------+----------+----------+----------+----------+----------+----------+----------+----------+------------+----------+----------+-------------------+------------+----------+-----------+-----------+-----------+-----------+---------------+-----------+----------------+---------------+----------------+-------------+-----------+-----------+----------+-----------+--------+---------+---------+------------+---------------+--------------+-------------+-----------+-------------+-----------+-------------+------------+--------------+-----------------+---------------+------------------+----------------+---------------+-----------------+--------------------+------------------+------+----------+----------+----------+----------+----------+----------+----------+--------------+---------------+--------------------+--------------+-----------+-----------+-------------------+-------------------+-------------+-------------+------------+-------------------+-------------------+-----------+-----------+----------+-----------+-----------+-------------------+-----------+-------------------+-----------+---------------+---------------+----------+--------------------+----------------+--------------------+------------------+----------+----------+----------+-----------+--------------+----------+--------------------+----------------+-------------------+------------------+-------------+-----------------+-----------------+--------+-------+----------+-------------+--------------------+--------------------+----------+----------+---------------+--------------+------------------------+-----------+--------------+-------+------+----------+----------+---------+---------+---------+----------+-------------------+-----------+---------+----------+----------+----------+---------------+---------------+-------------------+-------------------+-----------+-------------------+-----------+-------------------+----------+-----------+-------------+------+-------+-------------------+-------------------+----------+----------+----------+----------+------------+------------+----------+-------------+-----------+-----------+-------------------+-----------+------+-----------+----------+----------+----------+----------+--------------------+----------+-------------------+-------------------+----------------+-----------+--------------------+\n",
            "|lpp_lpk_id|lpp_id|lpp_typ|lpp_lpl_id|lpp_sca_id|lpp_bha_id|lpp_ktk_id|lpp_kma_id|lpp_lsa_id|lpp_dkg_id|lpp_dgp_id|lpp_vde_card|lpp_vde_id|lpp_vde_pk|    lpp_beh_beg_dat|lpp_pos_betr|lpp_npl_id|lpp_np_text|lpp_np_betr|lpp_rl_betr|lpp_fr_betr|lpp_fr_tot_betr|lpp_sb_betr|lpp_sb_stat_betr|lpp_sb_tot_betr|lpp_fam_tot_betr|lpp_st_ansatz|lpp_sp_tage|lpp_sp_betr|lpp_anzahl|lpp_lim_anz|lpp_kons|lpp_al_tp|lpp_tl_tp|lpp_ueb_betr|lpp_kosten_betr|lpp_kasse_betr|lpp_vers_betr|lpp_nv_betr|lpp_kobe_betr|lpp_kobe_cd|lpp_def_al_tl|lpp_def_kons|lpp_def_anzahl|lpp_def_st_ansatz|lpp_def_sp_tage|lpp_def_chk_geburt|lpp_fehler_al_tl|lpp_fehler_kons|lpp_fehler_anzahl|lpp_fehler_st_ansatz|lpp_fehler_sp_tage|lpk_id|lpk_ver_nr|lpk_fam_nr|lpk_deb_nr|lpk_vtg_nr|lpk_gde_id|lpk_adr_id|lpk_ksk_nr|lpk_ksk_nr_vst|lpk_ksk_nr_vst2|          lpk_esr_nr|lpk_esr_nr_len|lpk_esr_kto|lpk_rech_nr|       lpk_rech_dat|  lpk_rech_zahl_dat|lpk_rech_betr|lpk_korr_betr|lpk_kas_betr|    lpk_beh_beg_dat|    lpk_beh_end_dat|lpk_zaba_cd|lpk_kobe_cd|lpk_gac_id|lpk_stat_cd|lpk_fall_id|        lpk_fkt_dat|lpk_erf_uid|        lpk_erf_dat|lpk_sto_dat|lpk_sto_erf_uid|lpk_sto_erf_dat|lpk_sto_cd|lpk_sto_folge_lpk_id|lpk_sto_folge_cd|   lpk_esr_nr_format|lpk_esr_kto_format|lpk_lpt_id|lpk_ecl_id|lpk_eck_id|lpk_ext_ref|lpk_ksk_deb_nr|lpk_prt_id|lpk_freigabe_auto_cd|lpk_freigabe_uid|   lpk_freigabe_dat|lpk_sto_ursache_cd|lpk_vers_betr|lpk_kontrolle_uid|lpk_kontrolle_dat|lpk_diag|lpk_bem|lpk_lea_id|lpk_beh_dauer|lpk_erf_uid_original|lpk_erf_dat_original|lpk_zha_id|lpk_ver_id|lpk_esr_qr_iban|lpk_esr_qr_ref|lpk_mutterschaft_w13_dat|lpk_lock_cd|lpk_fall_ident| ver_nr|ver_id|ver_vea_id|ver_fam_nr| ver_name|ver_vname|ver_such1|ver_sex_cd|        ver_geb_dat|    ver_ahv|ver_beruf|ver_ziv_cd|ver_nat_id|ver_aea_id|ver_aea_beg_dat|ver_aea_end_dat|        ver_beg_dat|        ver_end_dat|ver_erf_uid|        ver_erf_dat|ver_mut_uid|        ver_mut_dat|ver_fehler|ver_aktuell|       AHV_Nr|fam_id| fam_nr|        fam_beg_dat|        fam_end_dat|fam_fehler|fam_ges_id|fam_spr_id|fam_prt_id|fam_fkt_intv|fam_saf_intv|fam_gde_id|fam_ra_gde_id|fam_ext_ref|fam_mut_uid|        fam_mut_dat|fam_aktuell|gde_id|   gde_name|gde_bta_id|Wohnkanton|gde_adr_id|gde_ina_id|             gde_bem|gde_spr_id|        gde_beg_dat|        gde_end_dat|gde_folge_gde_id|gde_mut_uid|         gde_mut_dat|\n",
            "+----------+------+-------+----------+----------+----------+----------+----------+----------+----------+----------+------------+----------+----------+-------------------+------------+----------+-----------+-----------+-----------+-----------+---------------+-----------+----------------+---------------+----------------+-------------+-----------+-----------+----------+-----------+--------+---------+---------+------------+---------------+--------------+-------------+-----------+-------------+-----------+-------------+------------+--------------+-----------------+---------------+------------------+----------------+---------------+-----------------+--------------------+------------------+------+----------+----------+----------+----------+----------+----------+----------+--------------+---------------+--------------------+--------------+-----------+-----------+-------------------+-------------------+-------------+-------------+------------+-------------------+-------------------+-----------+-----------+----------+-----------+-----------+-------------------+-----------+-------------------+-----------+---------------+---------------+----------+--------------------+----------------+--------------------+------------------+----------+----------+----------+-----------+--------------+----------+--------------------+----------------+-------------------+------------------+-------------+-----------------+-----------------+--------+-------+----------+-------------+--------------------+--------------------+----------+----------+---------------+--------------+------------------------+-----------+--------------+-------+------+----------+----------+---------+---------+---------+----------+-------------------+-----------+---------+----------+----------+----------+---------------+---------------+-------------------+-------------------+-----------+-------------------+-----------+-------------------+----------+-----------+-------------+------+-------+-------------------+-------------------+----------+----------+----------+----------+------------+------------+----------+-------------+-----------+-----------+-------------------+-----------+------+-----------+----------+----------+----------+----------+--------------------+----------+-------------------+-------------------+----------------+-----------+--------------------+\n",
            "|    401865|     1|      0|        14|         1|         A|         1|         0|       100|       157|         1|           0|        21|    383513|2020-01-07 00:00:00|     58.0000|         0|           |     0.0000|     0.0000|    58.0000|        58.0000|     0.0000|          0.0000|         0.0000|            null|       0.0000|          0|     0.0000|         0|          0|       1|  36.4700|  28.6700|      0.0000|        58.0000|        0.0000|      58.0000|     0.0000|      58.0000|       true|         true|        true|          true|            false|          false|              true|           false|          false|            false|               false|             false|401865|   2001396|   1001396|   3001061|         0|       295|    667650|  F308931 |          null|           null|97074170222800005...|            27|   12000272|       5843|2020-01-07 00:00:00|2020-01-07 00:00:00|      58.0000|       0.0000|      0.0000|2020-01-07 00:00:00|2020-01-07 00:00:00|          L|          V|         0|          9|          0|2020-02-04 00:00:00|        485|2020-02-01 00:00:00|       null|              0|           null|      null|                null|               0|97074170222800005...|         012000272|         2|      2820|      null|       null|       4002219|         1|               false|             485|2020-02-01 10:30:00|              null|      58.0000|             null|             null|      I3|   null|         0|            0|                 439|          2020-01-09|    269633|      1912|           null|          null|                    null|      false|          null|2001396|  1912|         1|   1001396|Güttinger| Marianna|   452832|         F|1965-04-27 00:00:00|25465627000|         |         X|       756|         0|           null|           null|1996-01-01 00:00:00|2050-01-01 00:00:00|        332|1996-10-16 16:11:00|        537|2022-01-04 13:26:00|         0|          1|7562907464260| 20847|1001396|2019-01-01 00:00:00|2050-01-01 00:00:00|         0|      1000|         D|         1|           1|           0|       176|          295|       null|          1|2018-10-04 14:39:00|          1|   295|     Horgen|       613|        ZH|    622749|         0|                null|         D|2019-01-01 00:00:00|9999-12-31 00:00:00|            null|          2| 2018-10-04 00:00:00|\n",
            "|    401865|     1|      0|        14|         1|         A|         1|         0|       100|       157|         1|           0|        21|    383513|2020-01-07 00:00:00|     58.0000|         0|           |     0.0000|     0.0000|    58.0000|        58.0000|     0.0000|          0.0000|         0.0000|            null|       0.0000|          0|     0.0000|         0|          0|       1|  36.4700|  28.6700|      0.0000|        58.0000|        0.0000|      58.0000|     0.0000|      58.0000|       true|         true|        true|          true|            false|          false|              true|           false|          false|            false|               false|             false|401865|   2001396|   1001396|   3001061|         0|       295|    667650|  F308931 |          null|           null|97074170222800005...|            27|   12000272|       5843|2020-01-07 00:00:00|2020-01-07 00:00:00|      58.0000|       0.0000|      0.0000|2020-01-07 00:00:00|2020-01-07 00:00:00|          L|          V|         0|          9|          0|2020-02-04 00:00:00|        485|2020-02-01 00:00:00|       null|              0|           null|      null|                null|               0|97074170222800005...|         012000272|         2|      2820|      null|       null|       4002219|         1|               false|             485|2020-02-01 10:30:00|              null|      58.0000|             null|             null|      I3|   null|         0|            0|                 439|          2020-01-09|    269633|      1912|           null|          null|                    null|      false|          null|2001396|  1912|         1|   1001396|Güttinger| Marianna|   452832|         F|1965-04-27 00:00:00|25465627000|         |         X|       756|         0|           null|           null|1996-01-01 00:00:00|2050-01-01 00:00:00|        332|1996-10-16 16:11:00|        537|2022-01-04 13:26:00|         0|          1|7562907464260| 19404|1001396|2018-01-01 00:00:00|2018-12-31 00:00:00|         0|      1000|         D|         1|           1|           0|       132|          132|       null|          1|2018-10-04 14:39:00|          0|   132|     Hirzel|       615|        ZH|    622747|         0|ab 01.01.2019 in ...|         D|1996-01-01 00:00:00|2018-12-31 00:00:00|             295|          2| 2018-10-04 00:00:00|\n",
            "|    401865|     1|      0|        14|         1|         A|         1|         0|       100|       157|         1|           0|        21|    383513|2020-01-07 00:00:00|     58.0000|         0|           |     0.0000|     0.0000|    58.0000|        58.0000|     0.0000|          0.0000|         0.0000|            null|       0.0000|          0|     0.0000|         0|          0|       1|  36.4700|  28.6700|      0.0000|        58.0000|        0.0000|      58.0000|     0.0000|      58.0000|       true|         true|        true|          true|            false|          false|              true|           false|          false|            false|               false|             false|401865|   2001396|   1001396|   3001061|         0|       295|    667650|  F308931 |          null|           null|97074170222800005...|            27|   12000272|       5843|2020-01-07 00:00:00|2020-01-07 00:00:00|      58.0000|       0.0000|      0.0000|2020-01-07 00:00:00|2020-01-07 00:00:00|          L|          V|         0|          9|          0|2020-02-04 00:00:00|        485|2020-02-01 00:00:00|       null|              0|           null|      null|                null|               0|97074170222800005...|         012000272|         2|      2820|      null|       null|       4002219|         1|               false|             485|2020-02-01 10:30:00|              null|      58.0000|             null|             null|      I3|   null|         0|            0|                 439|          2020-01-09|    269633|      1912|           null|          null|                    null|      false|          null|2001396|  1912|         1|   1001396|Güttinger| Marianna|   452832|         F|1965-04-27 00:00:00|25465627000|         |         X|       756|         0|           null|           null|1996-01-01 00:00:00|2050-01-01 00:00:00|        332|1996-10-16 16:11:00|        537|2022-01-04 13:26:00|         0|          1|7562907464260| 18494|1001396|2018-01-01 00:00:00|2050-01-01 00:00:00|         1|      1000|         D|         1|           1|           0|       133|          133|       null|          1|2017-04-04 17:16:00|          0|   133|     Horgen|       613|        ZH|    622749|         0|ab 01.01.2019 in ...|         D|1996-01-01 00:00:00|2018-12-31 00:00:00|             295|          2| 2018-10-04 00:00:00|\n",
            "|    401865|     1|      0|        14|         1|         A|         1|         0|       100|       157|         1|           0|        21|    383513|2020-01-07 00:00:00|     58.0000|         0|           |     0.0000|     0.0000|    58.0000|        58.0000|     0.0000|          0.0000|         0.0000|            null|       0.0000|          0|     0.0000|         0|          0|       1|  36.4700|  28.6700|      0.0000|        58.0000|        0.0000|      58.0000|     0.0000|      58.0000|       true|         true|        true|          true|            false|          false|              true|           false|          false|            false|               false|             false|401865|   2001396|   1001396|   3001061|         0|       295|    667650|  F308931 |          null|           null|97074170222800005...|            27|   12000272|       5843|2020-01-07 00:00:00|2020-01-07 00:00:00|      58.0000|       0.0000|      0.0000|2020-01-07 00:00:00|2020-01-07 00:00:00|          L|          V|         0|          9|          0|2020-02-04 00:00:00|        485|2020-02-01 00:00:00|       null|              0|           null|      null|                null|               0|97074170222800005...|         012000272|         2|      2820|      null|       null|       4002219|         1|               false|             485|2020-02-01 10:30:00|              null|      58.0000|             null|             null|      I3|   null|         0|            0|                 439|          2020-01-09|    269633|      1912|           null|          null|                    null|      false|          null|2001396|  1912|         1|   1001396|Güttinger| Marianna|   452832|         F|1965-04-27 00:00:00|25465627000|         |         X|       756|         0|           null|           null|1996-01-01 00:00:00|2050-01-01 00:00:00|        332|1996-10-16 16:11:00|        537|2022-01-04 13:26:00|         0|          1|7562907464260| 16792|1001396|2016-06-01 00:00:00|2017-12-31 00:00:00|         0|      1000|         D|         1|           1|           0|       132|          132|       null|          1|2017-04-04 17:16:00|          0|   132|     Hirzel|       615|        ZH|    622747|         0|ab 01.01.2019 in ...|         D|1996-01-01 00:00:00|2018-12-31 00:00:00|             295|          2| 2018-10-04 00:00:00|\n",
            "|    401865|     1|      0|        14|         1|         A|         1|         0|       100|       157|         1|           0|        21|    383513|2020-01-07 00:00:00|     58.0000|         0|           |     0.0000|     0.0000|    58.0000|        58.0000|     0.0000|          0.0000|         0.0000|            null|       0.0000|          0|     0.0000|         0|          0|       1|  36.4700|  28.6700|      0.0000|        58.0000|        0.0000|      58.0000|     0.0000|      58.0000|       true|         true|        true|          true|            false|          false|              true|           false|          false|            false|               false|             false|401865|   2001396|   1001396|   3001061|         0|       295|    667650|  F308931 |          null|           null|97074170222800005...|            27|   12000272|       5843|2020-01-07 00:00:00|2020-01-07 00:00:00|      58.0000|       0.0000|      0.0000|2020-01-07 00:00:00|2020-01-07 00:00:00|          L|          V|         0|          9|          0|2020-02-04 00:00:00|        485|2020-02-01 00:00:00|       null|              0|           null|      null|                null|               0|97074170222800005...|         012000272|         2|      2820|      null|       null|       4002219|         1|               false|             485|2020-02-01 10:30:00|              null|      58.0000|             null|             null|      I3|   null|         0|            0|                 439|          2020-01-09|    269633|      1912|           null|          null|                    null|      false|          null|2001396|  1912|         1|   1001396|Güttinger| Marianna|   452832|         F|1965-04-27 00:00:00|25465627000|         |         X|       756|         0|           null|           null|1996-01-01 00:00:00|2050-01-01 00:00:00|        332|1996-10-16 16:11:00|        537|2022-01-04 13:26:00|         0|          1|7562907464260| 16791|1001396|2016-03-01 00:00:00|2016-05-31 00:00:00|         0|      1000|         D|         1|           1|           0|       142|          142|       null|        398|2016-03-11 07:46:00|          0|   142|  Wädenswil|       614|        ZH|    622766|        22|ab 01.01.2020 in ...|         D|1996-01-01 00:00:00|2019-12-31 00:00:00|             293|          2|2019-10-06 08:58:...|\n",
            "|    401865|     1|      0|        14|         1|         A|         1|         0|       100|       157|         1|           0|        21|    383513|2020-01-07 00:00:00|     58.0000|         0|           |     0.0000|     0.0000|    58.0000|        58.0000|     0.0000|          0.0000|         0.0000|            null|       0.0000|          0|     0.0000|         0|          0|       1|  36.4700|  28.6700|      0.0000|        58.0000|        0.0000|      58.0000|     0.0000|      58.0000|       true|         true|        true|          true|            false|          false|              true|           false|          false|            false|               false|             false|401865|   2001396|   1001396|   3001061|         0|       295|    667650|  F308931 |          null|           null|97074170222800005...|            27|   12000272|       5843|2020-01-07 00:00:00|2020-01-07 00:00:00|      58.0000|       0.0000|      0.0000|2020-01-07 00:00:00|2020-01-07 00:00:00|          L|          V|         0|          9|          0|2020-02-04 00:00:00|        485|2020-02-01 00:00:00|       null|              0|           null|      null|                null|               0|97074170222800005...|         012000272|         2|      2820|      null|       null|       4002219|         1|               false|             485|2020-02-01 10:30:00|              null|      58.0000|             null|             null|      I3|   null|         0|            0|                 439|          2020-01-09|    269633|      1912|           null|          null|                    null|      false|          null|2001396|  1912|         1|   1001396|Güttinger| Marianna|   452832|         F|1965-04-27 00:00:00|25465627000|         |         X|       756|         0|           null|           null|1996-01-01 00:00:00|2050-01-01 00:00:00|        332|1996-10-16 16:11:00|        537|2022-01-04 13:26:00|         0|          1|7562907464260| 16783|1001396|2016-03-01 00:00:00|2050-01-01 00:00:00|         1|      1000|         D|         1|           1|           0|       132|          132|       null|        398|2016-03-04 15:44:00|          0|   132|     Hirzel|       615|        ZH|    622747|         0|ab 01.01.2019 in ...|         D|1996-01-01 00:00:00|2018-12-31 00:00:00|             295|          2| 2018-10-04 00:00:00|\n",
            "|    401865|     1|      0|        14|         1|         A|         1|         0|       100|       157|         1|           0|        21|    383513|2020-01-07 00:00:00|     58.0000|         0|           |     0.0000|     0.0000|    58.0000|        58.0000|     0.0000|          0.0000|         0.0000|            null|       0.0000|          0|     0.0000|         0|          0|       1|  36.4700|  28.6700|      0.0000|        58.0000|        0.0000|      58.0000|     0.0000|      58.0000|       true|         true|        true|          true|            false|          false|              true|           false|          false|            false|               false|             false|401865|   2001396|   1001396|   3001061|         0|       295|    667650|  F308931 |          null|           null|97074170222800005...|            27|   12000272|       5843|2020-01-07 00:00:00|2020-01-07 00:00:00|      58.0000|       0.0000|      0.0000|2020-01-07 00:00:00|2020-01-07 00:00:00|          L|          V|         0|          9|          0|2020-02-04 00:00:00|        485|2020-02-01 00:00:00|       null|              0|           null|      null|                null|               0|97074170222800005...|         012000272|         2|      2820|      null|       null|       4002219|         1|               false|             485|2020-02-01 10:30:00|              null|      58.0000|             null|             null|      I3|   null|         0|            0|                 439|          2020-01-09|    269633|      1912|           null|          null|                    null|      false|          null|2001396|  1912|         1|   1001396|Güttinger| Marianna|   452832|         F|1965-04-27 00:00:00|25465627000|         |         X|       756|         0|           null|           null|1996-01-01 00:00:00|2050-01-01 00:00:00|        332|1996-10-16 16:11:00|        537|2022-01-04 13:26:00|         0|          1|7562907464260|  1651|1001396|1900-01-01 00:00:00|2016-02-29 00:00:00|         0|      1000|         D|         1|           1|           0|       142|          142|       null|          2|2015-09-30 09:31:00|          0|   142|  Wädenswil|       614|        ZH|    622766|        22|ab 01.01.2020 in ...|         D|1996-01-01 00:00:00|2019-12-31 00:00:00|             293|          2|2019-10-06 08:58:...|\n",
            "|    400974|     1|      0|         9|         1|         A|         1|         0|       200|        39|         1|           0|        19|    379878|2020-01-03 00:00:00|     35.4000|         0|           |     0.0000|     0.0000|    35.4000|        35.4000|     0.0000|          0.0000|         0.0000|            null|       0.0000|          0|     0.0000|         0|          0|       0|   0.0000|   0.0000|      0.0000|        35.4000|        0.0000|      35.4000|     0.0000|      35.4000|       true|        false|       false|         false|            false|          false|             false|           false|          false|            false|               false|             false|400974|   2008659|   1008659|   3005392|         0|       138|    700167|  C268031 |      B693401 |           null|98117800000111524...|            27|   10275154|   10048244|2020-01-04 00:00:00|2020-01-04 00:00:00|      42.9500|       0.0000|      0.0000|2020-01-03 00:00:00|2020-01-03 00:00:00|          L|          V|         0|          9|          0|2020-01-14 00:00:00|        441|2020-01-07 00:00:00|       null|              0|           null|      null|                null|               0|98117800000111524...|         010275154|         1|      2748|      null|       null|       4000032|         1|                true|             441|2020-01-07 03:51:00|              null|      42.9500|             null|             null|    null|   null|         0|            0|                null|                null|    233427|     22232|           null|          null|                    null|      false|          null|2008659| 22232|         1|   1008659|   Muster|      Max|  1673768|         M|1995-05-19 00:00:00|26695250000|         |         X|       756|         0|           null|           null|2016-01-01 00:00:00|2050-01-01 00:00:00|          1|2015-09-30 09:33:00|          1|2015-09-30 09:33:00|         0|          1|7564989979199| 28806|1008659|2021-11-01 00:00:00|2050-01-01 00:00:00|         0|      1000|         D|         1|           1|           0|       155|          155|       null|        398|2021-10-25 08:38:00|          1|   155|  Männedorf|       600|        ZH|    622782|         0|                null|         D|1996-01-01 00:00:00|9999-12-31 00:00:00|            null|          2| 1998-09-01 00:00:00|\n",
            "|    400974|     1|      0|         9|         1|         A|         1|         0|       200|        39|         1|           0|        19|    379878|2020-01-03 00:00:00|     35.4000|         0|           |     0.0000|     0.0000|    35.4000|        35.4000|     0.0000|          0.0000|         0.0000|            null|       0.0000|          0|     0.0000|         0|          0|       0|   0.0000|   0.0000|      0.0000|        35.4000|        0.0000|      35.4000|     0.0000|      35.4000|       true|        false|       false|         false|            false|          false|             false|           false|          false|            false|               false|             false|400974|   2008659|   1008659|   3005392|         0|       138|    700167|  C268031 |      B693401 |           null|98117800000111524...|            27|   10275154|   10048244|2020-01-04 00:00:00|2020-01-04 00:00:00|      42.9500|       0.0000|      0.0000|2020-01-03 00:00:00|2020-01-03 00:00:00|          L|          V|         0|          9|          0|2020-01-14 00:00:00|        441|2020-01-07 00:00:00|       null|              0|           null|      null|                null|               0|98117800000111524...|         010275154|         1|      2748|      null|       null|       4000032|         1|                true|             441|2020-01-07 03:51:00|              null|      42.9500|             null|             null|    null|   null|         0|            0|                null|                null|    233427|     22232|           null|          null|                    null|      false|          null|2008659| 22232|         1|   1008659|   Muster|      Max|  1673768|         M|1995-05-19 00:00:00|26695250000|         |         X|       756|         0|           null|           null|2016-01-01 00:00:00|2050-01-01 00:00:00|          1|2015-09-30 09:33:00|          1|2015-09-30 09:33:00|         0|          1|7564989979199|  7815|1008659|2015-09-02 00:00:00|2021-10-31 00:00:00|         0|      1000|         D|         1|           1|           0|       138|          138|       null|          2|2015-09-30 09:31:00|          0|   138|Richterswil|       612|        ZH|    622759|         0|                null|         D|1996-01-01 00:00:00|9999-12-31 00:00:00|            null|          2| 1998-09-01 00:00:00|\n",
            "|    400974|     1|      0|         9|         1|         A|         1|         0|       200|        39|         1|           0|        19|    379878|2020-01-03 00:00:00|     35.4000|         0|           |     0.0000|     0.0000|    35.4000|        35.4000|     0.0000|          0.0000|         0.0000|            null|       0.0000|          0|     0.0000|         0|          0|       0|   0.0000|   0.0000|      0.0000|        35.4000|        0.0000|      35.4000|     0.0000|      35.4000|       true|        false|       false|         false|            false|          false|             false|           false|          false|            false|               false|             false|400974|   2008659|   1008659|   3005392|         0|       138|    700167|  C268031 |      B693401 |           null|98117800000111524...|            27|   10275154|   10048244|2020-01-04 00:00:00|2020-01-04 00:00:00|      42.9500|       0.0000|      0.0000|2020-01-03 00:00:00|2020-01-03 00:00:00|          L|          V|         0|          9|          0|2020-01-14 00:00:00|        441|2020-01-07 00:00:00|       null|              0|           null|      null|                null|               0|98117800000111524...|         010275154|         1|      2748|      null|       null|       4000032|         1|                true|             441|2020-01-07 03:51:00|              null|      42.9500|             null|             null|    null|   null|         0|            0|                null|                null|    233427|     22232|           null|          null|                    null|      false|          null|2008659| 22232|         1|   1008659|   Muster|      Max|  1673768|         M|1995-05-19 00:00:00|26695250000|         |         X|       756|         0|           null|           null|2016-01-01 00:00:00|2050-01-01 00:00:00|          1|2015-09-30 09:33:00|          1|2015-09-30 09:33:00|         0|          1|7564989979199|  7814|1008659|1900-01-01 00:00:00|2015-09-01 00:00:00|         0|      1000|         D|         1|           1|           0|       133|          133|       null|          2|2015-09-30 09:31:00|          0|   133|     Horgen|       613|        ZH|    622749|         0|ab 01.01.2019 in ...|         D|1996-01-01 00:00:00|2018-12-31 00:00:00|             295|          2| 2018-10-04 00:00:00|\n",
            "|    400974|     2|      0|         9|         1|         A|         1|         0|       210|        39|         1|           0|        19|    379878|2020-01-03 00:00:00|      3.2500|         0|           |     0.0000|     0.0000|     3.2500|        38.6500|     0.0000|          0.0000|         0.0000|            null|       0.0000|          0|     0.0000|         0|          0|       0|   0.0000|   0.0000|      0.0000|         3.2500|        0.0000|       3.2500|     0.0000|       3.2500|       true|        false|       false|         false|            false|          false|             false|           false|          false|            false|               false|             false|400974|   2008659|   1008659|   3005392|         0|       138|    700167|  C268031 |      B693401 |           null|98117800000111524...|            27|   10275154|   10048244|2020-01-04 00:00:00|2020-01-04 00:00:00|      42.9500|       0.0000|      0.0000|2020-01-03 00:00:00|2020-01-03 00:00:00|          L|          V|         0|          9|          0|2020-01-14 00:00:00|        441|2020-01-07 00:00:00|       null|              0|           null|      null|                null|               0|98117800000111524...|         010275154|         1|      2748|      null|       null|       4000032|         1|                true|             441|2020-01-07 03:51:00|              null|      42.9500|             null|             null|    null|   null|         0|            0|                null|                null|    233427|     22232|           null|          null|                    null|      false|          null|2008659| 22232|         1|   1008659|   Muster|      Max|  1673768|         M|1995-05-19 00:00:00|26695250000|         |         X|       756|         0|           null|           null|2016-01-01 00:00:00|2050-01-01 00:00:00|          1|2015-09-30 09:33:00|          1|2015-09-30 09:33:00|         0|          1|7564989979199| 28806|1008659|2021-11-01 00:00:00|2050-01-01 00:00:00|         0|      1000|         D|         1|           1|           0|       155|          155|       null|        398|2021-10-25 08:38:00|          1|   155|  Männedorf|       600|        ZH|    622782|         0|                null|         D|1996-01-01 00:00:00|9999-12-31 00:00:00|            null|          2| 1998-09-01 00:00:00|\n",
            "|    400974|     2|      0|         9|         1|         A|         1|         0|       210|        39|         1|           0|        19|    379878|2020-01-03 00:00:00|      3.2500|         0|           |     0.0000|     0.0000|     3.2500|        38.6500|     0.0000|          0.0000|         0.0000|            null|       0.0000|          0|     0.0000|         0|          0|       0|   0.0000|   0.0000|      0.0000|         3.2500|        0.0000|       3.2500|     0.0000|       3.2500|       true|        false|       false|         false|            false|          false|             false|           false|          false|            false|               false|             false|400974|   2008659|   1008659|   3005392|         0|       138|    700167|  C268031 |      B693401 |           null|98117800000111524...|            27|   10275154|   10048244|2020-01-04 00:00:00|2020-01-04 00:00:00|      42.9500|       0.0000|      0.0000|2020-01-03 00:00:00|2020-01-03 00:00:00|          L|          V|         0|          9|          0|2020-01-14 00:00:00|        441|2020-01-07 00:00:00|       null|              0|           null|      null|                null|               0|98117800000111524...|         010275154|         1|      2748|      null|       null|       4000032|         1|                true|             441|2020-01-07 03:51:00|              null|      42.9500|             null|             null|    null|   null|         0|            0|                null|                null|    233427|     22232|           null|          null|                    null|      false|          null|2008659| 22232|         1|   1008659|   Muster|      Max|  1673768|         M|1995-05-19 00:00:00|26695250000|         |         X|       756|         0|           null|           null|2016-01-01 00:00:00|2050-01-01 00:00:00|          1|2015-09-30 09:33:00|          1|2015-09-30 09:33:00|         0|          1|7564989979199|  7815|1008659|2015-09-02 00:00:00|2021-10-31 00:00:00|         0|      1000|         D|         1|           1|           0|       138|          138|       null|          2|2015-09-30 09:31:00|          0|   138|Richterswil|       612|        ZH|    622759|         0|                null|         D|1996-01-01 00:00:00|9999-12-31 00:00:00|            null|          2| 1998-09-01 00:00:00|\n",
            "|    400974|     2|      0|         9|         1|         A|         1|         0|       210|        39|         1|           0|        19|    379878|2020-01-03 00:00:00|      3.2500|         0|           |     0.0000|     0.0000|     3.2500|        38.6500|     0.0000|          0.0000|         0.0000|            null|       0.0000|          0|     0.0000|         0|          0|       0|   0.0000|   0.0000|      0.0000|         3.2500|        0.0000|       3.2500|     0.0000|       3.2500|       true|        false|       false|         false|            false|          false|             false|           false|          false|            false|               false|             false|400974|   2008659|   1008659|   3005392|         0|       138|    700167|  C268031 |      B693401 |           null|98117800000111524...|            27|   10275154|   10048244|2020-01-04 00:00:00|2020-01-04 00:00:00|      42.9500|       0.0000|      0.0000|2020-01-03 00:00:00|2020-01-03 00:00:00|          L|          V|         0|          9|          0|2020-01-14 00:00:00|        441|2020-01-07 00:00:00|       null|              0|           null|      null|                null|               0|98117800000111524...|         010275154|         1|      2748|      null|       null|       4000032|         1|                true|             441|2020-01-07 03:51:00|              null|      42.9500|             null|             null|    null|   null|         0|            0|                null|                null|    233427|     22232|           null|          null|                    null|      false|          null|2008659| 22232|         1|   1008659|   Muster|      Max|  1673768|         M|1995-05-19 00:00:00|26695250000|         |         X|       756|         0|           null|           null|2016-01-01 00:00:00|2050-01-01 00:00:00|          1|2015-09-30 09:33:00|          1|2015-09-30 09:33:00|         0|          1|7564989979199|  7814|1008659|1900-01-01 00:00:00|2015-09-01 00:00:00|         0|      1000|         D|         1|           1|           0|       133|          133|       null|          2|2015-09-30 09:31:00|          0|   133|     Horgen|       613|        ZH|    622749|         0|ab 01.01.2019 in ...|         D|1996-01-01 00:00:00|2018-12-31 00:00:00|             295|          2| 2018-10-04 00:00:00|\n",
            "|    400974|     3|      0|         9|         1|         A|         1|         0|       211|        39|         1|           0|        19|    379878|2020-01-03 00:00:00|      4.3000|         0|           |     0.0000|     0.0000|     4.3000|        42.9500|     0.0000|          0.0000|         0.0000|            null|       0.0000|          0|     0.0000|         0|          0|       0|   0.0000|   0.0000|      0.0000|         4.3000|        0.0000|       4.3000|     0.0000|       4.3000|       true|        false|       false|         false|            false|          false|             false|           false|          false|            false|               false|             false|400974|   2008659|   1008659|   3005392|         0|       138|    700167|  C268031 |      B693401 |           null|98117800000111524...|            27|   10275154|   10048244|2020-01-04 00:00:00|2020-01-04 00:00:00|      42.9500|       0.0000|      0.0000|2020-01-03 00:00:00|2020-01-03 00:00:00|          L|          V|         0|          9|          0|2020-01-14 00:00:00|        441|2020-01-07 00:00:00|       null|              0|           null|      null|                null|               0|98117800000111524...|         010275154|         1|      2748|      null|       null|       4000032|         1|                true|             441|2020-01-07 03:51:00|              null|      42.9500|             null|             null|    null|   null|         0|            0|                null|                null|    233427|     22232|           null|          null|                    null|      false|          null|2008659| 22232|         1|   1008659|   Muster|      Max|  1673768|         M|1995-05-19 00:00:00|26695250000|         |         X|       756|         0|           null|           null|2016-01-01 00:00:00|2050-01-01 00:00:00|          1|2015-09-30 09:33:00|          1|2015-09-30 09:33:00|         0|          1|7564989979199| 28806|1008659|2021-11-01 00:00:00|2050-01-01 00:00:00|         0|      1000|         D|         1|           1|           0|       155|          155|       null|        398|2021-10-25 08:38:00|          1|   155|  Männedorf|       600|        ZH|    622782|         0|                null|         D|1996-01-01 00:00:00|9999-12-31 00:00:00|            null|          2| 1998-09-01 00:00:00|\n",
            "|    400974|     3|      0|         9|         1|         A|         1|         0|       211|        39|         1|           0|        19|    379878|2020-01-03 00:00:00|      4.3000|         0|           |     0.0000|     0.0000|     4.3000|        42.9500|     0.0000|          0.0000|         0.0000|            null|       0.0000|          0|     0.0000|         0|          0|       0|   0.0000|   0.0000|      0.0000|         4.3000|        0.0000|       4.3000|     0.0000|       4.3000|       true|        false|       false|         false|            false|          false|             false|           false|          false|            false|               false|             false|400974|   2008659|   1008659|   3005392|         0|       138|    700167|  C268031 |      B693401 |           null|98117800000111524...|            27|   10275154|   10048244|2020-01-04 00:00:00|2020-01-04 00:00:00|      42.9500|       0.0000|      0.0000|2020-01-03 00:00:00|2020-01-03 00:00:00|          L|          V|         0|          9|          0|2020-01-14 00:00:00|        441|2020-01-07 00:00:00|       null|              0|           null|      null|                null|               0|98117800000111524...|         010275154|         1|      2748|      null|       null|       4000032|         1|                true|             441|2020-01-07 03:51:00|              null|      42.9500|             null|             null|    null|   null|         0|            0|                null|                null|    233427|     22232|           null|          null|                    null|      false|          null|2008659| 22232|         1|   1008659|   Muster|      Max|  1673768|         M|1995-05-19 00:00:00|26695250000|         |         X|       756|         0|           null|           null|2016-01-01 00:00:00|2050-01-01 00:00:00|          1|2015-09-30 09:33:00|          1|2015-09-30 09:33:00|         0|          1|7564989979199|  7815|1008659|2015-09-02 00:00:00|2021-10-31 00:00:00|         0|      1000|         D|         1|           1|           0|       138|          138|       null|          2|2015-09-30 09:31:00|          0|   138|Richterswil|       612|        ZH|    622759|         0|                null|         D|1996-01-01 00:00:00|9999-12-31 00:00:00|            null|          2| 1998-09-01 00:00:00|\n",
            "|    400974|     3|      0|         9|         1|         A|         1|         0|       211|        39|         1|           0|        19|    379878|2020-01-03 00:00:00|      4.3000|         0|           |     0.0000|     0.0000|     4.3000|        42.9500|     0.0000|          0.0000|         0.0000|            null|       0.0000|          0|     0.0000|         0|          0|       0|   0.0000|   0.0000|      0.0000|         4.3000|        0.0000|       4.3000|     0.0000|       4.3000|       true|        false|       false|         false|            false|          false|             false|           false|          false|            false|               false|             false|400974|   2008659|   1008659|   3005392|         0|       138|    700167|  C268031 |      B693401 |           null|98117800000111524...|            27|   10275154|   10048244|2020-01-04 00:00:00|2020-01-04 00:00:00|      42.9500|       0.0000|      0.0000|2020-01-03 00:00:00|2020-01-03 00:00:00|          L|          V|         0|          9|          0|2020-01-14 00:00:00|        441|2020-01-07 00:00:00|       null|              0|           null|      null|                null|               0|98117800000111524...|         010275154|         1|      2748|      null|       null|       4000032|         1|                true|             441|2020-01-07 03:51:00|              null|      42.9500|             null|             null|    null|   null|         0|            0|                null|                null|    233427|     22232|           null|          null|                    null|      false|          null|2008659| 22232|         1|   1008659|   Muster|      Max|  1673768|         M|1995-05-19 00:00:00|26695250000|         |         X|       756|         0|           null|           null|2016-01-01 00:00:00|2050-01-01 00:00:00|          1|2015-09-30 09:33:00|          1|2015-09-30 09:33:00|         0|          1|7564989979199|  7814|1008659|1900-01-01 00:00:00|2015-09-01 00:00:00|         0|      1000|         D|         1|           1|           0|       133|          133|       null|          2|2015-09-30 09:31:00|          0|   133|     Horgen|       613|        ZH|    622749|         0|ab 01.01.2019 in ...|         D|1996-01-01 00:00:00|2018-12-31 00:00:00|             295|          2| 2018-10-04 00:00:00|\n",
            "|    401866|     1|      0|        14|         1|         A|         1|         0|       100|       157|         1|           0|        21|    383513|2020-01-06 00:00:00|     41.4000|         0|           |     0.0000|     0.0000|    41.4000|        99.4000|     0.0000|          0.0000|         0.0000|            null|       0.0000|          0|     0.0000|         0|          0|       1|  26.0500|  20.4800|      0.0000|        41.4000|        0.0000|      41.4000|     0.0000|      41.4000|       true|         true|        true|          true|            false|          false|              true|           false|          false|            false|               false|             false|401866|   2001396|   1001396|   3001061|         0|       295|    667650|  F308931 |          null|           null|97074170222800005...|            27|   12000272|       5803|2020-01-06 00:00:00|2020-01-06 00:00:00|      52.0500|       0.0000|      0.0000|2020-01-06 00:00:00|2020-01-06 00:00:00|          L|          V|         0|          9|          0|2020-02-04 00:00:00|        485|2020-02-01 00:00:00|       null|              0|           null|      null|                null|               0|97074170222800005...|         012000272|         2|      2820|      null|       null|       4002219|         1|               false|             485|2020-02-01 10:12:00|              null|      52.0500|             null|             null|      I3|   null|         0|            0|                 439|          2020-01-09|    269633|      1912|           null|          null|                    null|      false|          null|2001396|  1912|         1|   1001396|Güttinger| Marianna|   452832|         F|1965-04-27 00:00:00|25465627000|         |         X|       756|         0|           null|           null|1996-01-01 00:00:00|2050-01-01 00:00:00|        332|1996-10-16 16:11:00|        537|2022-01-04 13:26:00|         0|          1|7562907464260| 20847|1001396|2019-01-01 00:00:00|2050-01-01 00:00:00|         0|      1000|         D|         1|           1|           0|       176|          295|       null|          1|2018-10-04 14:39:00|          1|   295|     Horgen|       613|        ZH|    622749|         0|                null|         D|2019-01-01 00:00:00|9999-12-31 00:00:00|            null|          2| 2018-10-04 00:00:00|\n",
            "|    401866|     1|      0|        14|         1|         A|         1|         0|       100|       157|         1|           0|        21|    383513|2020-01-06 00:00:00|     41.4000|         0|           |     0.0000|     0.0000|    41.4000|        99.4000|     0.0000|          0.0000|         0.0000|            null|       0.0000|          0|     0.0000|         0|          0|       1|  26.0500|  20.4800|      0.0000|        41.4000|        0.0000|      41.4000|     0.0000|      41.4000|       true|         true|        true|          true|            false|          false|              true|           false|          false|            false|               false|             false|401866|   2001396|   1001396|   3001061|         0|       295|    667650|  F308931 |          null|           null|97074170222800005...|            27|   12000272|       5803|2020-01-06 00:00:00|2020-01-06 00:00:00|      52.0500|       0.0000|      0.0000|2020-01-06 00:00:00|2020-01-06 00:00:00|          L|          V|         0|          9|          0|2020-02-04 00:00:00|        485|2020-02-01 00:00:00|       null|              0|           null|      null|                null|               0|97074170222800005...|         012000272|         2|      2820|      null|       null|       4002219|         1|               false|             485|2020-02-01 10:12:00|              null|      52.0500|             null|             null|      I3|   null|         0|            0|                 439|          2020-01-09|    269633|      1912|           null|          null|                    null|      false|          null|2001396|  1912|         1|   1001396|Güttinger| Marianna|   452832|         F|1965-04-27 00:00:00|25465627000|         |         X|       756|         0|           null|           null|1996-01-01 00:00:00|2050-01-01 00:00:00|        332|1996-10-16 16:11:00|        537|2022-01-04 13:26:00|         0|          1|7562907464260| 19404|1001396|2018-01-01 00:00:00|2018-12-31 00:00:00|         0|      1000|         D|         1|           1|           0|       132|          132|       null|          1|2018-10-04 14:39:00|          0|   132|     Hirzel|       615|        ZH|    622747|         0|ab 01.01.2019 in ...|         D|1996-01-01 00:00:00|2018-12-31 00:00:00|             295|          2| 2018-10-04 00:00:00|\n",
            "|    401866|     1|      0|        14|         1|         A|         1|         0|       100|       157|         1|           0|        21|    383513|2020-01-06 00:00:00|     41.4000|         0|           |     0.0000|     0.0000|    41.4000|        99.4000|     0.0000|          0.0000|         0.0000|            null|       0.0000|          0|     0.0000|         0|          0|       1|  26.0500|  20.4800|      0.0000|        41.4000|        0.0000|      41.4000|     0.0000|      41.4000|       true|         true|        true|          true|            false|          false|              true|           false|          false|            false|               false|             false|401866|   2001396|   1001396|   3001061|         0|       295|    667650|  F308931 |          null|           null|97074170222800005...|            27|   12000272|       5803|2020-01-06 00:00:00|2020-01-06 00:00:00|      52.0500|       0.0000|      0.0000|2020-01-06 00:00:00|2020-01-06 00:00:00|          L|          V|         0|          9|          0|2020-02-04 00:00:00|        485|2020-02-01 00:00:00|       null|              0|           null|      null|                null|               0|97074170222800005...|         012000272|         2|      2820|      null|       null|       4002219|         1|               false|             485|2020-02-01 10:12:00|              null|      52.0500|             null|             null|      I3|   null|         0|            0|                 439|          2020-01-09|    269633|      1912|           null|          null|                    null|      false|          null|2001396|  1912|         1|   1001396|Güttinger| Marianna|   452832|         F|1965-04-27 00:00:00|25465627000|         |         X|       756|         0|           null|           null|1996-01-01 00:00:00|2050-01-01 00:00:00|        332|1996-10-16 16:11:00|        537|2022-01-04 13:26:00|         0|          1|7562907464260| 18494|1001396|2018-01-01 00:00:00|2050-01-01 00:00:00|         1|      1000|         D|         1|           1|           0|       133|          133|       null|          1|2017-04-04 17:16:00|          0|   133|     Horgen|       613|        ZH|    622749|         0|ab 01.01.2019 in ...|         D|1996-01-01 00:00:00|2018-12-31 00:00:00|             295|          2| 2018-10-04 00:00:00|\n",
            "|    401866|     1|      0|        14|         1|         A|         1|         0|       100|       157|         1|           0|        21|    383513|2020-01-06 00:00:00|     41.4000|         0|           |     0.0000|     0.0000|    41.4000|        99.4000|     0.0000|          0.0000|         0.0000|            null|       0.0000|          0|     0.0000|         0|          0|       1|  26.0500|  20.4800|      0.0000|        41.4000|        0.0000|      41.4000|     0.0000|      41.4000|       true|         true|        true|          true|            false|          false|              true|           false|          false|            false|               false|             false|401866|   2001396|   1001396|   3001061|         0|       295|    667650|  F308931 |          null|           null|97074170222800005...|            27|   12000272|       5803|2020-01-06 00:00:00|2020-01-06 00:00:00|      52.0500|       0.0000|      0.0000|2020-01-06 00:00:00|2020-01-06 00:00:00|          L|          V|         0|          9|          0|2020-02-04 00:00:00|        485|2020-02-01 00:00:00|       null|              0|           null|      null|                null|               0|97074170222800005...|         012000272|         2|      2820|      null|       null|       4002219|         1|               false|             485|2020-02-01 10:12:00|              null|      52.0500|             null|             null|      I3|   null|         0|            0|                 439|          2020-01-09|    269633|      1912|           null|          null|                    null|      false|          null|2001396|  1912|         1|   1001396|Güttinger| Marianna|   452832|         F|1965-04-27 00:00:00|25465627000|         |         X|       756|         0|           null|           null|1996-01-01 00:00:00|2050-01-01 00:00:00|        332|1996-10-16 16:11:00|        537|2022-01-04 13:26:00|         0|          1|7562907464260| 16792|1001396|2016-06-01 00:00:00|2017-12-31 00:00:00|         0|      1000|         D|         1|           1|           0|       132|          132|       null|          1|2017-04-04 17:16:00|          0|   132|     Hirzel|       615|        ZH|    622747|         0|ab 01.01.2019 in ...|         D|1996-01-01 00:00:00|2018-12-31 00:00:00|             295|          2| 2018-10-04 00:00:00|\n",
            "+----------+------+-------+----------+----------+----------+----------+----------+----------+----------+----------+------------+----------+----------+-------------------+------------+----------+-----------+-----------+-----------+-----------+---------------+-----------+----------------+---------------+----------------+-------------+-----------+-----------+----------+-----------+--------+---------+---------+------------+---------------+--------------+-------------+-----------+-------------+-----------+-------------+------------+--------------+-----------------+---------------+------------------+----------------+---------------+-----------------+--------------------+------------------+------+----------+----------+----------+----------+----------+----------+----------+--------------+---------------+--------------------+--------------+-----------+-----------+-------------------+-------------------+-------------+-------------+------------+-------------------+-------------------+-----------+-----------+----------+-----------+-----------+-------------------+-----------+-------------------+-----------+---------------+---------------+----------+--------------------+----------------+--------------------+------------------+----------+----------+----------+-----------+--------------+----------+--------------------+----------------+-------------------+------------------+-------------+-----------------+-----------------+--------+-------+----------+-------------+--------------------+--------------------+----------+----------+---------------+--------------+------------------------+-----------+--------------+-------+------+----------+----------+---------+---------+---------+----------+-------------------+-----------+---------+----------+----------+----------+---------------+---------------+-------------------+-------------------+-----------+-------------------+-----------+-------------------+----------+-----------+-------------+------+-------+-------------------+-------------------+----------+----------+----------+----------+------------+------------+----------+-------------+-----------+-----------+-------------------+-----------+------+-----------+----------+----------+----------+----------+--------------------+----------+-------------------+-------------------+----------------+-----------+--------------------+\n",
            "only showing top 20 rows\n",
            "\n"
          ],
          "output_type" : "stream"
        }
      ]
    },
    {
      "cell_type" : "code",
      "execution_count" : 12,
      "metadata" : {
        "cell.metadata.exec_info" : {
          "startTs" : 1655713701414,
          "endTs" : 1655713701781
        },
        "language" : "scala"
      },
      "language" : "scala",
      "source" : [
        "df2.select(\"fam_beg_dat\").dtypes.foreach(f=>println(f._1+\",\"+f._2))"
      ],
      "outputs" : [
        {
          "name" : "stdout",
          "text" : [
            "fam_beg_dat,TimestampType\n"
          ],
          "output_type" : "stream"
        }
      ]
    },
    {
      "cell_type" : "code",
      "execution_count" : 13,
      "metadata" : {
        "cell.metadata.exec_info" : {
          "startTs" : 1655713592743,
          "endTs" : 1655713592752
        },
        "language" : "scala"
      },
      "language" : "scala",
      "source" : [
        "df_leiPPos.filter($\"lpp_lpk_id\" === 400974)"
      ],
      "outputs" : [
        {
          "execution_count" : 13,
          "data" : {
            "application/json" : [
              {
                "pos" : {
                  "sourceId" : "Cell9",
                  "start" : 4,
                  "end" : 4,
                  "point" : 4
                },
                "msg" : "identifier expected but '(' found.",
                "severity" : 2
              },
              {
                "pos" : {
                  "sourceId" : "Cell9",
                  "start" : 49,
                  "end" : 49,
                  "point" : 49
                },
                "msg" : "`=', `>:', or `<:' expected",
                "severity" : 2
              }
            ],
            "text/plain" : [
              "Error: identifier expected but '(' found. (4)",
              "Error: `=', `>:', or `<:' expected (49)"
            ]
          },
          "metadata" : {
            "rel" : "compiler_errors"
          },
          "output_type" : "execute_result"
        }
      ]
    },
    {
      "cell_type" : "code",
      "execution_count" : 14,
      "metadata" : {
        "cell.metadata.exec_info" : {
          "startTs" : 1655471507930,
          "endTs" : 1655471512196
        },
        "language" : "scala"
      },
      "language" : "scala",
      "source" : [
        "df_leiPKopf.filter($\"lpk_id\" === 400974).show()"
      ],
      "outputs" : [
        {
          "name" : "stdout",
          "text" : [
            "+------+----------+----------+----------+----------+----------+----------+----------+--------------+---------------+--------------------+--------------+-----------+-----------+-------------------+-------------------+-------------+-------------+------------+-------------------+-------------------+-----------+-----------+----------+-----------+-----------+-------------------+-----------+-------------------+-----------+---------------+---------------+----------+--------------------+----------------+--------------------+------------------+----------+----------+----------+-----------+--------------+----------+--------------------+----------------+-------------------+------------------+-------------+-----------------+-----------------+--------+-------+----------+-------------+--------------------+--------------------+----------+----------+---------------+--------------+------------------------+-----------+--------------+\n",
            "|lpk_id|lpk_ver_nr|lpk_fam_nr|lpk_deb_nr|lpk_vtg_nr|lpk_gde_id|lpk_adr_id|lpk_ksk_nr|lpk_ksk_nr_vst|lpk_ksk_nr_vst2|          lpk_esr_nr|lpk_esr_nr_len|lpk_esr_kto|lpk_rech_nr|       lpk_rech_dat|  lpk_rech_zahl_dat|lpk_rech_betr|lpk_korr_betr|lpk_kas_betr|    lpk_beh_beg_dat|    lpk_beh_end_dat|lpk_zaba_cd|lpk_kobe_cd|lpk_gac_id|lpk_stat_cd|lpk_fall_id|        lpk_fkt_dat|lpk_erf_uid|        lpk_erf_dat|lpk_sto_dat|lpk_sto_erf_uid|lpk_sto_erf_dat|lpk_sto_cd|lpk_sto_folge_lpk_id|lpk_sto_folge_cd|   lpk_esr_nr_format|lpk_esr_kto_format|lpk_lpt_id|lpk_ecl_id|lpk_eck_id|lpk_ext_ref|lpk_ksk_deb_nr|lpk_prt_id|lpk_freigabe_auto_cd|lpk_freigabe_uid|   lpk_freigabe_dat|lpk_sto_ursache_cd|lpk_vers_betr|lpk_kontrolle_uid|lpk_kontrolle_dat|lpk_diag|lpk_bem|lpk_lea_id|lpk_beh_dauer|lpk_erf_uid_original|lpk_erf_dat_original|lpk_zha_id|lpk_ver_id|lpk_esr_qr_iban|lpk_esr_qr_ref|lpk_mutterschaft_w13_dat|lpk_lock_cd|lpk_fall_ident|\n",
            "+------+----------+----------+----------+----------+----------+----------+----------+--------------+---------------+--------------------+--------------+-----------+-----------+-------------------+-------------------+-------------+-------------+------------+-------------------+-------------------+-----------+-----------+----------+-----------+-----------+-------------------+-----------+-------------------+-----------+---------------+---------------+----------+--------------------+----------------+--------------------+------------------+----------+----------+----------+-----------+--------------+----------+--------------------+----------------+-------------------+------------------+-------------+-----------------+-----------------+--------+-------+----------+-------------+--------------------+--------------------+----------+----------+---------------+--------------+------------------------+-----------+--------------+\n",
            "|400974|   2008659|   1008659|   3005392|         0|       138|    700167|  C268031 |      B693401 |           null|98117800000111524...|            27|   10275154|   10048244|2020-01-04 00:00:00|2020-01-04 00:00:00|      42.9500|       0.0000|      0.0000|2020-01-03 00:00:00|2020-01-03 00:00:00|          L|          V|         0|          9|          0|2020-01-14 00:00:00|        441|2020-01-07 00:00:00|       null|              0|           null|      null|                null|               0|98117800000111524...|         010275154|         1|      2748|      null|       null|       4000032|         1|                true|             441|2020-01-07 03:51:00|              null|      42.9500|             null|             null|    null|   null|         0|            0|                null|                null|    233427|     22232|           null|          null|                    null|      false|          null|\n",
            "+------+----------+----------+----------+----------+----------+----------+----------+--------------+---------------+--------------------+--------------+-----------+-----------+-------------------+-------------------+-------------+-------------+------------+-------------------+-------------------+-----------+-----------+----------+-----------+-----------+-------------------+-----------+-------------------+-----------+---------------+---------------+----------+--------------------+----------------+--------------------+------------------+----------+----------+----------+-----------+--------------+----------+--------------------+----------------+-------------------+------------------+-------------+-----------------+-----------------+--------+-------+----------+-------------+--------------------+--------------------+----------+----------+---------------+--------------+------------------------+-----------+--------------+\n",
            "\n"
          ],
          "output_type" : "stream"
        }
      ]
    },
    {
      "cell_type" : "code",
      "execution_count" : 15,
      "metadata" : {
        "cell.metadata.exec_info" : {
          "startTs" : 1655471792829,
          "endTs" : 1655471793909
        },
        "language" : "scala"
      },
      "language" : "scala",
      "source" : [
        "df_vers.filter($\"ver_nr\" === 2008659).show()"
      ],
      "outputs" : [
        {
          "name" : "stdout",
          "text" : [
            "+-------+------+----------+----------+--------+---------+---------+----------+-------------------+-----------+---------+----------+----------+----------+---------------+---------------+-------------------+-------------------+-----------+-------------------+-----------+-------------------+----------+-----------+-------------+\n",
            "| ver_nr|ver_id|ver_vea_id|ver_fam_nr|ver_name|ver_vname|ver_such1|ver_sex_cd|        ver_geb_dat|    ver_ahv|ver_beruf|ver_ziv_cd|ver_nat_id|ver_aea_id|ver_aea_beg_dat|ver_aea_end_dat|        ver_beg_dat|        ver_end_dat|ver_erf_uid|        ver_erf_dat|ver_mut_uid|        ver_mut_dat|ver_fehler|ver_aktuell|  ver_nnss_nr|\n",
            "+-------+------+----------+----------+--------+---------+---------+----------+-------------------+-----------+---------+----------+----------+----------+---------------+---------------+-------------------+-------------------+-----------+-------------------+-----------+-------------------+----------+-----------+-------------+\n",
            "|2008659| 10896|         1|   1008658|  Muster|      Max|  1673768|         M|1995-05-19 00:00:00|26695250000|         |         X|       756|         0|           null|           null|2005-01-01 00:00:00|2015-08-31 00:00:00|        267|2004-11-29 10:56:00|        267|2004-11-29 10:56:00|         0|          0|7564989979199|\n",
            "|2008659| 10897|         1|   1008659|  Muster|      Max|  1673768|         M|1995-05-19 00:00:00|26695250000|         |         X|       756|         0|           null|           null|2015-09-01 00:00:00|2015-12-31 00:00:00|        267|2004-11-29 10:56:00|          1|2015-09-30 09:33:00|         0|          0|7564989979199|\n",
            "|2008659| 22232|         1|   1008659|  Muster|      Max|  1673768|         M|1995-05-19 00:00:00|26695250000|         |         X|       756|         0|           null|           null|2016-01-01 00:00:00|2050-01-01 00:00:00|          1|2015-09-30 09:33:00|          1|2015-09-30 09:33:00|         0|          1|7564989979199|\n",
            "+-------+------+----------+----------+--------+---------+---------+----------+-------------------+-----------+---------+----------+----------+----------+---------------+---------------+-------------------+-------------------+-----------+-------------------+-----------+-------------------+----------+-----------+-------------+\n",
            "\n"
          ],
          "output_type" : "stream"
        }
      ]
    },
    {
      "cell_type" : "code",
      "execution_count" : 16,
      "metadata" : {
        "cell.metadata.exec_info" : {
          "startTs" : 1655472469558,
          "endTs" : 1655472470207
        },
        "language" : "scala"
      },
      "language" : "scala",
      "source" : [
        "df_familie.filter($\"fam_nr\" === 1008659).show()"
      ],
      "outputs" : [
        {
          "name" : "stdout",
          "text" : [
            "+------+-------+-------------------+-------------------+----------+----------+----------+----------+------------+------------+----------+-------------+-----------+-----------+-------------------+-----------+\n",
            "|fam_id| fam_nr|        fam_beg_dat|        fam_end_dat|fam_fehler|fam_ges_id|fam_spr_id|fam_prt_id|fam_fkt_intv|fam_saf_intv|fam_gde_id|fam_ra_gde_id|fam_ext_ref|fam_mut_uid|        fam_mut_dat|fam_aktuell|\n",
            "+------+-------+-------------------+-------------------+----------+----------+----------+----------+------------+------------+----------+-------------+-----------+-----------+-------------------+-----------+\n",
            "|  7814|1008659|1900-01-01 00:00:00|2015-09-01 00:00:00|         0|      1000|         D|         1|           1|           0|       133|          133|       null|          2|2015-09-30 09:31:00|          0|\n",
            "|  7815|1008659|2015-09-02 00:00:00|2021-10-31 00:00:00|         0|      1000|         D|         1|           1|           0|       138|          138|       null|          2|2015-09-30 09:31:00|          0|\n",
            "| 28806|1008659|2021-11-01 00:00:00|2050-01-01 00:00:00|         0|      1000|         D|         1|           1|           0|       155|          155|       null|        398|2021-10-25 08:38:00|          1|\n",
            "+------+-------+-------------------+-------------------+----------+----------+----------+----------+------------+------------+----------+-------------+-----------+-----------+-------------------+-----------+\n",
            "\n"
          ],
          "output_type" : "stream"
        }
      ]
    },
    {
      "cell_type" : "code",
      "execution_count" : 17,
      "metadata" : {
        "cell.metadata.exec_info" : {
          "startTs" : 1655803948088,
          "endTs" : 1655803951276
        },
        "language" : "scala"
      },
      "language" : "scala",
      "source" : [
        "spark.table(\"default.btl_ra_data\").printSchema"
      ],
      "outputs" : [
        {
          "name" : "stdout",
          "text" : [
            "root\n",
            " |-- BAG-Nummer: void (nullable = true)\n",
            " |-- Jahr: void (nullable = true)\n",
            " |-- AHV_Nr: string (nullable = true)\n",
            " |-- Kanton: string (nullable = true)\n",
            " |-- Geburtsjahr: timestamp (nullable = true)\n",
            " |-- Geschlecht: string (nullable = true)\n",
            " |-- Aufenthalt: void (nullable = true)\n",
            " |-- GTIN: string (nullable = true)\n",
            " |-- PharmaCode: void (nullable = true)\n",
            " |-- Monate: double (nullable = true)\n",
            " |-- Kosten: void (nullable = true)\n",
            " |-- Kostenbeteiligung: void (nullable = true)\n",
            "\n"
          ],
          "output_type" : "stream"
        }
      ]
    },
    {
      "cell_type" : "code",
      "execution_count" : 18,
      "metadata" : {
        "cell.metadata.exec_info" : {
          "startTs" : 1655820996864,
          "endTs" : 1655820997593
        },
        "language" : "scala"
      },
      "language" : "scala",
      "source" : [
        "spark.table(\"default.btl_ra_data\").filter(not($\"Monate\" === 12.0)).show()"
      ],
      "outputs" : [
        {
          "name" : "stdout",
          "text" : [
            "+----------+----+-------------+------+-------------------+----------+----------+-------------+----------+------+------+-----------------+\n",
            "|BAG-Nummer|Jahr|   AHV-Nummer|Kanton|        Geburtsjahr|Geschlecht|Aufenthalt|         GTIN|PharmaCode|Monate|Kosten|Kostenbeteiligung|\n",
            "+----------+----+-------------+------+-------------------+----------+----------+-------------+----------+------+------+-----------------+\n",
            "|       TBD| TBD|7566670203088|    ZH|2000-04-24 00:00:00|         F|       TBD|      00.1580|       TBD|   5.0|   TBD|              TBD|\n",
            "|       TBD| TBD|7566670203088|    ZH|2000-04-24 00:00:00|         F|       TBD|      00.0141|       TBD|   5.0|   TBD|              TBD|\n",
            "|       TBD| TBD|7566670203088|    ZH|2000-04-24 00:00:00|         F|       TBD|      00.0030|       TBD|   5.0|   TBD|              TBD|\n",
            "|       TBD| TBD|7566670203088|    ZH|2000-04-24 00:00:00|         F|       TBD|      00.0010|       TBD|   5.0|   TBD|              TBD|\n",
            "|       TBD| TBD|7566670203088|    ZH|2000-04-24 00:00:00|         F|       TBD|7680493900433|       TBD|   5.0|   TBD|              TBD|\n",
            "|       TBD| TBD|7566670203088|    ZH|2000-04-24 00:00:00|         F|       TBD|      00.1580|       TBD|   5.0|   TBD|              TBD|\n",
            "|       TBD| TBD|7566670203088|    ZH|2000-04-24 00:00:00|         F|       TBD|      00.0030|       TBD|   5.0|   TBD|              TBD|\n",
            "|       TBD| TBD|7566670203088|    ZH|2000-04-24 00:00:00|         F|       TBD|      00.0010|       TBD|   5.0|   TBD|              TBD|\n",
            "|       TBD| TBD|7566670203088|    ZH|2000-04-24 00:00:00|         F|       TBD|      00.1580|       TBD|   7.0|   TBD|              TBD|\n",
            "|       TBD| TBD|7566670203088|    ZH|2000-04-24 00:00:00|         F|       TBD|      00.0141|       TBD|   7.0|   TBD|              TBD|\n",
            "|       TBD| TBD|7566670203088|    ZH|2000-04-24 00:00:00|         F|       TBD|      00.0030|       TBD|   7.0|   TBD|              TBD|\n",
            "|       TBD| TBD|7566670203088|    ZH|2000-04-24 00:00:00|         F|       TBD|      00.0010|       TBD|   7.0|   TBD|              TBD|\n",
            "|       TBD| TBD|7566670203088|    ZH|2000-04-24 00:00:00|         F|       TBD|7680493900433|       TBD|   7.0|   TBD|              TBD|\n",
            "|       TBD| TBD|7566670203088|    ZH|2000-04-24 00:00:00|         F|       TBD|      00.1580|       TBD|   7.0|   TBD|              TBD|\n",
            "|       TBD| TBD|7566670203088|    ZH|2000-04-24 00:00:00|         F|       TBD|      00.0030|       TBD|   7.0|   TBD|              TBD|\n",
            "|       TBD| TBD|7566670203088|    ZH|2000-04-24 00:00:00|         F|       TBD|      00.0010|       TBD|   7.0|   TBD|              TBD|\n",
            "|       TBD| TBD|         null|    ZH|2000-04-24 00:00:00|         F|       TBD|      00.1580|       TBD|   5.0|   TBD|              TBD|\n",
            "|       TBD| TBD|         null|    ZH|2000-04-24 00:00:00|         F|       TBD|      00.0141|       TBD|   5.0|   TBD|              TBD|\n",
            "|       TBD| TBD|         null|    ZH|2000-04-24 00:00:00|         F|       TBD|      00.0030|       TBD|   5.0|   TBD|              TBD|\n",
            "|       TBD| TBD|         null|    ZH|2000-04-24 00:00:00|         F|       TBD|      00.0010|       TBD|   5.0|   TBD|              TBD|\n",
            "+----------+----+-------------+------+-------------------+----------+----------+-------------+----------+------+------+-----------------+\n",
            "only showing top 20 rows\n",
            "\n"
          ],
          "output_type" : "stream"
        }
      ]
    }
  ]
}