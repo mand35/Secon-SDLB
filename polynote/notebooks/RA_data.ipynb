{
  "metadata" : {
    "config" : {
      "dependencies" : {
        
      },
      "exclusions" : [
      ],
      "repositories" : [
      ],
      "sparkConfig" : {
        "spark.ui.port" : "4140",
        "spark.sql.catalog.spark_catalog" : "org.apache.spark.sql.delta.catalog.DeltaCatalog",
        "spark.hadoop.javax.jdo.option.ConnectionDriverName" : "org.apache.derby.jdbc.ClientDriver",
        "spark.hadoop.javax.jdo.option.ConnectionPassword" : "1234",
        "spark.hadoop.javax.jdo.option.ConnectionURL" : "jdbc:derby://metastore:1527/db;create=true",
        "spark.hadoop.javax.jdo.option.ConnectionUserName" : "sa",
        "spark.sql.extensions" : "io.delta.sql.DeltaSparkSessionExtension"
      },
      "env" : {
        
      }
    },
    "language_info" : {
      "name" : "scala"
    }
  },
  "nbformat" : 4,
  "nbformat_minor" : 0,
  "cells" : [
    {
      "cell_type" : "markdown",
      "execution_count" : 0,
      "metadata" : {
        "language" : "text"
      },
      "language" : "text",
      "source" : [
        "# RA data\n",
        "\n",
        "\n",
        "TODO:\n",
        "\n",
        "(- remove duplicated columns, e.g. $\"lpk_ver_nr\" === $\"ver_nr\")<br>\n",
        "\n",
        "\n"
      ],
      "outputs" : [
      ]
    },
    {
      "cell_type" : "code",
      "execution_count" : 1,
      "metadata" : {
        "cell.metadata.exec_info" : {
          "startTs" : 1655388648403,
          "endTs" : 1655388650239
        },
        "language" : "scala"
      },
      "language" : "scala",
      "source" : [
        "spark.catalog.listTables.show(false)"
      ],
      "outputs" : [
        {
          "name" : "stdout",
          "text" : [
            "+------------------+--------+-----------+---------+-----------+\n",
            "|name              |database|description|tableType|isTemporary|\n",
            "+------------------+--------+-----------+---------+-----------+\n",
            "|raw_tarif_init    |default |null       |EXTERNAL |false      |\n",
            "|raw_tarif_update  |default |null       |EXTERNAL |false      |\n",
            "|stg_aufenthaltsart|default |null       |EXTERNAL |false      |\n",
            "|stg_deckung       |default |null       |EXTERNAL |false      |\n",
            "|stg_ecdetail      |default |null       |EXTERNAL |false      |\n",
            "|stg_eckopf        |default |null       |EXTERNAL |false      |\n",
            "|stg_ecprodukt     |default |null       |EXTERNAL |false      |\n",
            "|stg_familie       |default |null       |EXTERNAL |false      |\n",
            "|stg_gemeinde      |default |null       |EXTERNAL |false      |\n",
            "|stg_leipkopf      |default |null       |EXTERNAL |false      |\n",
            "|stg_leippos       |default |null       |EXTERNAL |false      |\n",
            "|stg_schadenart    |default |null       |EXTERNAL |false      |\n",
            "|stg_tarif_init    |default |null       |EXTERNAL |false      |\n",
            "|stg_tariffaktor   |default |null       |EXTERNAL |false      |\n",
            "|stg_versdeckung   |default |null       |EXTERNAL |false      |\n",
            "|stg_versicherter  |default |null       |EXTERNAL |false      |\n",
            "+------------------+--------+-----------+---------+-----------+\n",
            "\n"
          ],
          "output_type" : "stream"
        }
      ]
    },
    {
      "cell_type" : "code",
      "execution_count" : 2,
      "metadata" : {
        "cell.metadata.exec_info" : {
          "startTs" : 1654700989203,
          "endTs" : 1654700992424
        },
        "language" : "scala"
      },
      "language" : "scala",
      "source" : [
        "spark.table(\"default.stg_LeiPPos\").printSchema()"
      ],
      "outputs" : [
        {
          "name" : "stdout",
          "text" : [
            "root\n",
            " |-- lpp_lpk_id: integer (nullable = true)\n",
            " |-- lpp_id: integer (nullable = true)\n",
            " |-- lpp_typ: integer (nullable = true)\n",
            " |-- lpp_lpl_id: short (nullable = true)\n",
            " |-- lpp_sca_id: integer (nullable = true)\n",
            " |-- lpp_bha_id: string (nullable = true)\n",
            " |-- lpp_ktk_id: integer (nullable = true)\n",
            " |-- lpp_kma_id: integer (nullable = true)\n",
            " |-- lpp_lsa_id: short (nullable = true)\n",
            " |-- lpp_dkg_id: short (nullable = true)\n",
            " |-- lpp_dgp_id: integer (nullable = true)\n",
            " |-- lpp_vde_card: integer (nullable = true)\n",
            " |-- lpp_vde_id: integer (nullable = true)\n",
            " |-- lpp_vde_pk: integer (nullable = true)\n",
            " |-- lpp_beh_beg_dat: timestamp (nullable = true)\n",
            " |-- lpp_pos_betr: decimal(19,4) (nullable = true)\n",
            " |-- lpp_npl_id: short (nullable = true)\n",
            " |-- lpp_np_text: string (nullable = true)\n",
            " |-- lpp_np_betr: decimal(19,4) (nullable = true)\n",
            " |-- lpp_rl_betr: decimal(19,4) (nullable = true)\n",
            " |-- lpp_fr_betr: decimal(10,4) (nullable = true)\n",
            " |-- lpp_fr_tot_betr: decimal(10,4) (nullable = true)\n",
            " |-- lpp_sb_betr: decimal(10,4) (nullable = true)\n",
            " |-- lpp_sb_stat_betr: decimal(10,4) (nullable = true)\n",
            " |-- lpp_sb_tot_betr: decimal(10,4) (nullable = true)\n",
            " |-- lpp_fam_tot_betr: decimal(10,4) (nullable = true)\n",
            " |-- lpp_st_ansatz: decimal(10,4) (nullable = true)\n",
            " |-- lpp_sp_tage: short (nullable = true)\n",
            " |-- lpp_sp_betr: decimal(10,4) (nullable = true)\n",
            " |-- lpp_anzahl: short (nullable = true)\n",
            " |-- lpp_lim_anz: short (nullable = true)\n",
            " |-- lpp_kons: short (nullable = true)\n",
            " |-- lpp_al_tp: decimal(10,4) (nullable = true)\n",
            " |-- lpp_tl_tp: decimal(10,4) (nullable = true)\n",
            " |-- lpp_ueb_betr: decimal(19,4) (nullable = true)\n",
            " |-- lpp_kosten_betr: decimal(19,4) (nullable = true)\n",
            " |-- lpp_kasse_betr: decimal(19,4) (nullable = true)\n",
            " |-- lpp_vers_betr: decimal(19,4) (nullable = true)\n",
            " |-- lpp_nv_betr: decimal(19,4) (nullable = true)\n",
            " |-- lpp_kobe_betr: decimal(10,4) (nullable = true)\n",
            " |-- lpp_kobe_cd: boolean (nullable = true)\n",
            " |-- lpp_def_al_tl: boolean (nullable = true)\n",
            " |-- lpp_def_kons: boolean (nullable = true)\n",
            " |-- lpp_def_anzahl: boolean (nullable = true)\n",
            " |-- lpp_def_st_ansatz: boolean (nullable = true)\n",
            " |-- lpp_def_sp_tage: boolean (nullable = true)\n",
            " |-- lpp_def_chk_geburt: boolean (nullable = true)\n",
            " |-- lpp_fehler_al_tl: boolean (nullable = true)\n",
            " |-- lpp_fehler_kons: boolean (nullable = true)\n",
            " |-- lpp_fehler_anzahl: boolean (nullable = true)\n",
            " |-- lpp_fehler_st_ansatz: boolean (nullable = true)\n",
            " |-- lpp_fehler_sp_tage: boolean (nullable = true)\n",
            "\n"
          ],
          "output_type" : "stream"
        }
      ]
    },
    {
      "cell_type" : "code",
      "execution_count" : 5,
      "metadata" : {
        "cell.metadata.exec_info" : {
          "startTs" : 1655389097818,
          "endTs" : 1655389111745
        },
        "language" : "scala"
      },
      "language" : "scala",
      "source" : [
        "spark.table(\"default.stg_LeiPPos\").count()"
      ],
      "outputs" : [
        {
          "execution_count" : 5,
          "data" : {
            "text/plain" : [
              "1127420"
            ]
          },
          "metadata" : {
            "name" : "Out",
            "type" : "Long"
          },
          "output_type" : "execute_result"
        }
      ]
    },
    {
      "cell_type" : "code",
      "execution_count" : 3,
      "metadata" : {
        "cell.metadata.exec_info" : {
          "startTs" : 1654777530361,
          "endTs" : 1654777532617
        },
        "language" : "scala"
      },
      "language" : "scala",
      "source" : [
        "import java.time.LocalDate\r\n",
        "import java.time.format.DateTimeFormatter\r\n",
        "\r\n",
        "val dayFormat = DateTimeFormatter.ofPattern(\"yyyy-MM-dd\")\r\n",
        "val rangeStart = LocalDate.parse(\"2020-01-01\", dayFormat)\r\n",
        "val tmp = \"\"\r\n",
        "//if (tmp == \"\") {\r\n",
        "  val rangeEnd = rangeStart.plusYears(1).minusDays(1)\r\n",
        "//} else {\r\n",
        "//  val rangeEnd = LocalDate.parse(tmp, dayFormat)\r\n",
        "//}\r\n",
        "\r\n",
        "\r\n",
        "val df_leiPPos = spark.table(\"default.stg_LeiPPos\").as(\"leippos\")\r\n",
        "val df_leiPKopf = spark.table(\"default.stg_LeiPKopf\").as(\"leipkopf\")\r\n",
        "val df_vers = spark.table(\"default.stg_Versicherter\")\r\n",
        "val df_familie = spark.table(\"default.stg_Familie\")\r\n",
        "val df_gemeinde = spark.table(\"default.stg_Gemeinde\")\r\n",
        "val df_ecKopf = spark.table(\"default.stg_ECKopf\")\r\n",
        "val df_ecDetail = spark.table(\"default.stg_ECDetail\")\r\n",
        "val df_ecProdukt = spark.table(\"default.stg_ECProdukt\")\r\n",
        "\r\n",
        "val join_type = \"left\" // \"left_semi\" would only take rows which match\r\n",
        "\r\n",
        "val df = df_leiPPos\r\n",
        "      // Jahr\r\n",
        "      .filter($\"LPP_BEH_BEG_DAT\" > rangeStart && $\"LPP_BEH_BEG_DAT\" < rangeEnd)\r\n",
        "      \r\n",
        "      // AHV-Nr: LeiPPos.LPP_LPK_ID → LeiPKopf.LPK_VER_NR → Versicherter.VER_NNSS_NR\r\n",
        "      .join(df_leiPKopf, $\"lpp_lpk_id\" === $\"lpk_id\", join_type)\r\n",
        "      .join(df_vers, $\"lpk_ver_nr\" === $\"ver_nr\", join_type)\r\n",
        "      .withColumnRenamed(\"ver_nnss_nr\", \"AHV_Nr\")\r\n",
        "\r\n",
        "      // Wohnkanton: LeiPPos.LPP_LPK_ID → LeiPKopf.LPK_VER_NR → Versicherter.VER_FAM_NR → Familie.FAM_RA_GDE_ID (Test auf Zeitraum) → Gemeinde.GDE_KT\r\n",
        "      .join(df_familie, $\"ver_fam_nr\" === $\"fam_nr\", join_type)\r\n",
        "      .join(df_gemeinde, $\"fam_ra_gde_id\" === $\"gde_id\", join_type)\r\n",
        "      .withColumnRenamed(\"gde_kt\", \"Wohnkanton\")\r\n",
        "\r\n",
        "      // Geburtsjahr: LeiPPos.LPP_LPK_ID → LeiPKopf.LPK_VER_NR → Versicherter.VER_GEB_DAT\r\n",
        "      .withColumnRenamed(\"ver_geb_dat\", \"Geburtsjahr\")\r\n",
        "\r\n",
        "      // Geschlecht: LeiPPos.LPP_LPK_ID → LeiPKopf.LPK_VER_NR → Versicherter.VER_SEX_CD\r\n",
        "      .withColumnRenamed(\"ver_sex_cd\", \"Geschlecht\")\r\n",
        "\r\n",
        "      // Spital Aufenthalt:\r\n",
        "      // Exakte Ein/Austritte Spital/Reha o.ä. ECP: LeiPPos.LPP_LPK_ID → LeiPKopf.LPK_RECH_NR → ECKopf.ECK_RECH_NR, ~.ECK_ID → ECKopfXtraCaseDetail.EXC_ECK_ID, ~.EXC_BEG_DAT, ~.EXC_END_DAT (korrekte Summierung)\r\n",
        "      // Exakte Ein/Austritte Spital/Reha o.ä. Sumex/Secon: LeiPPos.LPP_LPK_ID → LpkCaseDetail.LCD_BEG_DAT,~.LCD_END_DAT \r\n",
        "      // TODO\r\n",
        "\r\n",
        "      // GTIN: LeiPPos.LPP_LPK_ID → LeiPKopf.LPK_RECH_NR → ECKopf.ECK_RECH_NR, ~.ECK_ID → ECDetail.ECD_ECP_ID→ ECProdukt.ECP_PRODUKT_NR (PharmaCode)\r\n",
        "      .join(df_ecKopf, $\"LPK_RECH_NR\" === $\"ECK_RECH_NR\", join_type)\r\n",
        "      .join(df_ecDetail, $\"ECK_ID\" === $\"ECD_ECK_ID\", join_type)\r\n",
        "      .join(df_ecProdukt, $\"ECD_ECP_ID\" === $\"ECP_ID\", join_type)\r\n",
        "      .withColumnRenamed(\"ecp_produkt_nr\", \"GTIN\")\r\n",
        "      \r\n",
        "\r\n",
        "      //Output: AHV-Nummer ,Geburtsjahr, Geschlecht, Wohnkanton, Aufenthalt, GTIN-Code, Anzahl Packungen, Versicherungsmonate, Bruttokosten, Kostenbeteiligung\r\n",
        "      .select(\"AHV_Nr\", \"Geburtsjahr\", \"Geschlecht\", \"Wohnkanton\", \"GTIN\")\r\n",
        "\r\n",
        "df.printSchema()"
      ],
      "outputs" : [
        {
          "name" : "stdout",
          "text" : [
            "root\n",
            " |-- AHV_Nr: string (nullable = true)\n",
            " |-- Geburtsjahr: timestamp (nullable = true)\n",
            " |-- Geschlecht: string (nullable = true)\n",
            " |-- Wohnkanton: string (nullable = true)\n",
            " |-- GTIN: string (nullable = true)\n",
            "\n"
          ],
          "output_type" : "stream"
        }
      ]
    },
    {
      "cell_type" : "code",
      "execution_count" : 6,
      "metadata" : {
        "cell.metadata.exec_info" : {
          "startTs" : 1655389400587,
          "endTs" : 1655389401769
        },
        "language" : "scala"
      },
      "language" : "scala",
      "source" : [
        "spark.table(\"default.btl_RA_data\").count()"
      ],
      "outputs" : [
        {
          "execution_count" : 6,
          "data" : {
            "text/plain" : [
              "8823944"
            ]
          },
          "metadata" : {
            "name" : "Out",
            "type" : "Long"
          },
          "output_type" : "execute_result"
        }
      ]
    },
    {
      "cell_type" : "code",
      "execution_count" : 4,
      "metadata" : {
        "cell.metadata.exec_info" : {
          "startTs" : 1655389381553,
          "endTs" : 1655389383839
        },
        "language" : "scala"
      },
      "language" : "scala",
      "source" : [
        "spark.table(\"default.btl_RA_data\").show()"
      ],
      "outputs" : [
        {
          "name" : "stdout",
          "text" : [
            "+-------------+-------------------+----------+----------+-------------+\n",
            "|       AHV_Nr|        Geburtsjahr|Geschlecht|Wohnkanton|         GTIN|\n",
            "+-------------+-------------------+----------+----------+-------------+\n",
            "|7561879110908|1961-12-23 00:00:00|         F|        ZH|   01.01.1100|\n",
            "|7561879110908|1961-12-23 00:00:00|         F|        ZH|   01.01.1000|\n",
            "|7561879110908|1961-12-23 00:00:00|         F|        ZH|      1740.00|\n",
            "|7561879110908|1961-12-23 00:00:00|         F|        ZH|      1372.00|\n",
            "|7561879110908|1961-12-23 00:00:00|         F|        ZH|7680384230311|\n",
            "|7561879110908|1961-12-23 00:00:00|         F|        ZH|      39.3005|\n",
            "|7561879110908|1961-12-23 00:00:00|         F|        ZH|      22.0030|\n",
            "|7561879110908|1961-12-23 00:00:00|         F|        ZH|      00.0716|\n",
            "|7561879110908|1961-12-23 00:00:00|         F|        ZH|      00.0610|\n",
            "|7561879110908|1961-12-23 00:00:00|         F|        ZH|      00.0030|\n",
            "|7561879110908|1961-12-23 00:00:00|         F|        ZH|      00.0020|\n",
            "|7561879110908|1961-12-23 00:00:00|         F|        ZH|      00.0010|\n",
            "|7561879110908|1961-12-23 00:00:00|         F|        ZH|      00.0110|\n",
            "|7561879110908|1961-12-23 00:00:00|         F|        ZH|      00.0015|\n",
            "|7561879110908|1961-12-23 00:00:00|         F|        ZH|      00.0030|\n",
            "|7561879110908|1961-12-23 00:00:00|         F|        ZH|      00.0020|\n",
            "|7561879110908|1961-12-23 00:00:00|         F|        ZH|      00.0010|\n",
            "|7561879110908|1961-12-23 00:00:00|         F|        ZH|      1363.01|\n",
            "|7561879110908|1961-12-23 00:00:00|         F|        ZH|      00.2285|\n",
            "|7561879110908|1961-12-23 00:00:00|         F|        ZH|      00.2295|\n",
            "+-------------+-------------------+----------+----------+-------------+\n",
            "only showing top 20 rows\n",
            "\n"
          ],
          "output_type" : "stream"
        }
      ]
    }
  ]
}