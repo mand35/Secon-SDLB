{
  "metadata" : {
    "config" : {
      "dependencies" : {
        
      },
      "exclusions" : [
      ],
      "repositories" : [
      ],
      "sparkConfig" : {
        "spark.ui.port" : "4140",
        "spark.sql.catalog.spark_catalog" : "org.apache.spark.sql.delta.catalog.DeltaCatalog",
        "spark.hadoop.javax.jdo.option.ConnectionDriverName" : "org.apache.derby.jdbc.ClientDriver",
        "spark.hadoop.javax.jdo.option.ConnectionPassword" : "1234",
        "spark.hadoop.javax.jdo.option.ConnectionURL" : "jdbc:derby://metastore:1527/db;create=true",
        "spark.hadoop.javax.jdo.option.ConnectionUserName" : "sa",
        "spark.sql.extensions" : "io.delta.sql.DeltaSparkSessionExtension"
      },
      "env" : {
        
      }
    },
    "language_info" : {
      "name" : "scala"
    }
  },
  "nbformat" : 4,
  "nbformat_minor" : 0,
  "cells" : [
    {
      "cell_type" : "markdown",
      "execution_count" : 0,
      "metadata" : {
        "language" : "text"
      },
      "language" : "text",
      "source" : [
        "# RA data\n",
        "\n",
        "\n",
        "TODO:\n",
        "\n",
        "- add \"df_\" as prefix for all DataFrames\n",
        "\n",
        "(- remove duplicated columns, e.g. $\"lpk_ver_nr\" === $\"ver_nr\")\n",
        "\n",
        "\n"
      ],
      "outputs" : [
      ]
    },
    {
      "cell_type" : "code",
      "execution_count" : 1,
      "metadata" : {
        "cell.metadata.exec_info" : {
          "startTs" : 1654611128988,
          "endTs" : 1654611131365
        },
        "language" : "scala"
      },
      "language" : "scala",
      "source" : [
        "spark.catalog.listTables.show(false)"
      ],
      "outputs" : [
        {
          "name" : "stdout",
          "text" : [
            "+------------------+--------+-----------+---------+-----------+\n",
            "|name              |database|description|tableType|isTemporary|\n",
            "+------------------+--------+-----------+---------+-----------+\n",
            "|stg_aufenthaltsart|default |null       |EXTERNAL |false      |\n",
            "|stg_deckung       |default |null       |EXTERNAL |false      |\n",
            "|stg_ecdetail      |default |null       |EXTERNAL |false      |\n",
            "|stg_eckopf        |default |null       |EXTERNAL |false      |\n",
            "|stg_ecprodukt     |default |null       |EXTERNAL |false      |\n",
            "|stg_familie       |default |null       |EXTERNAL |false      |\n",
            "|stg_gemeinde      |default |null       |EXTERNAL |false      |\n",
            "|stg_leipkopf      |default |null       |EXTERNAL |false      |\n",
            "|stg_leippos       |default |null       |EXTERNAL |false      |\n",
            "|stg_schadenart    |default |null       |EXTERNAL |false      |\n",
            "|stg_tariffaktor   |default |null       |EXTERNAL |false      |\n",
            "|stg_versdeckung   |default |null       |EXTERNAL |false      |\n",
            "|stg_versicherter  |default |null       |EXTERNAL |false      |\n",
            "+------------------+--------+-----------+---------+-----------+\n",
            "\n"
          ],
          "output_type" : "stream"
        }
      ]
    },
    {
      "cell_type" : "code",
      "execution_count" : 2,
      "metadata" : {
        "cell.metadata.exec_info" : {
          "startTs" : 1654588572212,
          "endTs" : 1654588574830
        },
        "language" : "scala"
      },
      "language" : "scala",
      "source" : [
        "spark.table(\"default.btl_ra_data\").show()"
      ],
      "outputs" : [
        {
          "name" : "stdout",
          "text" : [
            "+------+------------+------+\n",
            "|lpp_id|lpp_pos_betr|AHV_Nr|\n",
            "+------+------------+------+\n",
            "+------+------------+------+\n",
            "\n"
          ],
          "output_type" : "stream"
        }
      ]
    },
    {
      "cell_type" : "code",
      "execution_count" : 3,
      "metadata" : {
        "cell.metadata.exec_info" : {
          "startTs" : 1654612238515,
          "endTs" : 1654612238861
        },
        "language" : "scala"
      },
      "language" : "scala",
      "source" : [
        "spark.table(\"default.stg_ECProdukt\").printSchema()"
      ],
      "outputs" : [
        {
          "name" : "stdout",
          "text" : [
            "root\n",
            " |-- ecp_id: integer (nullable = true)\n",
            " |-- ecp_ept_id: integer (nullable = true)\n",
            " |-- ecp_produkt_nr: string (nullable = true)\n",
            " |-- ecp_produkt_name: string (nullable = true)\n",
            " |-- ecp_iks_cd: string (nullable = true)\n",
            " |-- ecp_mut_uid: short (nullable = true)\n",
            " |-- ecp_mut_dat: timestamp (nullable = true)\n",
            "\n"
          ],
          "output_type" : "stream"
        }
      ]
    },
    {
      "cell_type" : "code",
      "execution_count" : 4,
      "metadata" : {
        "cell.metadata.exec_info" : {
          "startTs" : 1654673822746,
          "endTs" : 1654673835776
        },
        "language" : "scala"
      },
      "language" : "scala",
      "source" : [
        "val leiPPos = spark.table(\"default.stg_LeiPPos\").as(\"leippos\")\r\n",
        "val leiPKopf = spark.table(\"default.stg_LeiPKopf\").as(\"leipkopf\")\r\n",
        "val vers = spark.table(\"default.stg_Versicherter\")\r\n",
        "val familie = spark.table(\"default.stg_Familie\")\r\n",
        "val gemeinde = spark.table(\"default.stg_Gemeinde\")\r\n",
        "val ecKopf = spark.table(\"default.stg_ECKopf\")\r\n",
        "val ecDetail = spark.table(\"default.stg_ECDetail\")\r\n",
        "val ecProdukt = spark.table(\"default.stg_ECProdukt\")\r\n",
        "\r\n",
        "val join_type = \"inner\" // \"left_semi\" would only take rows whicht match\r\n",
        "\r\n",
        "val df = leiPPos\r\n",
        "      // Jahr\r\n",
        "      .withColumnRenamed(\"LPP_BEH_BEG_DAT\", \"Jahr\")\r\n",
        "      \r\n",
        "      // AHV-Nr: LeiPPos.LPP_LPK_ID → LeiPKopf.LPK_VER_NR → Versicherter.VER_NNSS_NR\r\n",
        "      .join(leiPKopf, $\"lpp_lpk_id\" === $\"lpk_id\", join_type)\r\n",
        "      .join(vers, $\"lpk_ver_nr\" === $\"ver_nr\", join_type)\r\n",
        "      .withColumnRenamed(\"ver_nnss_nr\", \"AHV_Nr\")\r\n",
        "\r\n",
        "      // Wohnkanton: LeiPPos.LPP_LPK_ID → LeiPKopf.LPK_VER_NR → Versicherter.VER_FAM_NR → Familie.FAM_RA_GDE_ID (Test auf Zeitraum) → Gemeinde.GDE_KT\r\n",
        "      .join(familie, $\"ver_fam_nr\" === $\"fam_nr\", join_type)\r\n",
        "      .join(gemeinde, $\"fam_ra_gde_id\" === $\"gde_id\", join_type)\r\n",
        "      .withColumnRenamed(\"gde_kt\", \"Wohnkanton\")\r\n",
        "\r\n",
        "      // Geburtsjahr: LeiPPos.LPP_LPK_ID → LeiPKopf.LPK_VER_NR → Versicherter.VER_GEB_DAT\r\n",
        "      .withColumnRenamed(\"ver_geb_dat\", \"Geburtsjahr\")\r\n",
        "\r\n",
        "      // Geschlecht: LeiPPos.LPP_LPK_ID → LeiPKopf.LPK_VER_NR → Versicherter.VER_SEX_CD\r\n",
        "      .withColumnRenamed(\"ver_sex_cd\", \"Geschlecht\")\r\n",
        "\r\n",
        "      // Spital Aufenthalt:\r\n",
        "      // Exakte Ein/Austritte Spital/Reha o.ä. ECP: LeiPPos.LPP_LPK_ID → LeiPKopf.LPK_RECH_NR → ECKopf.ECK_RECH_NR, ~.ECK_ID → ECKopfXtraCaseDetail.EXC_ECK_ID, ~.EXC_BEG_DAT, ~.EXC_END_DAT (korrekte Summierung)\r\n",
        "      // Exakte Ein/Austritte Spital/Reha o.ä. Sumex/Secon: LeiPPos.LPP_LPK_ID → LpkCaseDetail.LCD_BEG_DAT,~.LCD_END_DAT \r\n",
        "      // TODO\r\n",
        "\r\n",
        "      // GTIN: LeiPPos.LPP_LPK_ID → LeiPKopf.LPK_RECH_NR → ECKopf.ECK_RECH_NR, ~.ECK_ID → ECDetail.ECD_ECP_ID→ ECProdukt.ECP_PRODUKT_NR (PharmaCode)\r\n",
        "      .join(ecKopf, $\"LPK_RECH_NR\" === $\"ECK_RECH_NR\", join_type)\r\n",
        "      .join(ecDetail, $\"ECK_ID\" === $\"ECD_ECK_ID\", join_type)\r\n",
        "      .join(ecProdukt, $\"ECD_ECP_ID\" === $\"ECP_ID\", join_type)\r\n",
        "      .withColumnRenamed(\"ecp_produkt_nr\", \"GTIN\")\r\n",
        "      \r\n",
        "\r\n",
        "      \r\n",
        "      .select(\"Jahr\", \"AHV_Nr\", \"Wohnkanton\", \"Geburtsjahr\", \"Geschlecht\", \"GTIN\")\r\n",
        "\r\n",
        "df.printSchema()"
      ],
      "outputs" : [
        {
          "name" : "stdout",
          "text" : [
            "root\n",
            " |-- Jahr: timestamp (nullable = true)\n",
            " |-- AHV_Nr: string (nullable = true)\n",
            " |-- Wohnkanton: string (nullable = true)\n",
            " |-- Geburtsjahr: timestamp (nullable = true)\n",
            " |-- Geschlecht: string (nullable = true)\n",
            " |-- GTIN: string (nullable = true)\n",
            "\n"
          ],
          "output_type" : "stream"
        }
      ]
    },
    {
      "cell_type" : "code",
      "execution_count" : 5,
      "metadata" : {
        "language" : "scala"
      },
      "language" : "scala",
      "source" : [
      ],
      "outputs" : [
      ]
    },
    {
      "cell_type" : "code",
      "execution_count" : 6,
      "metadata" : {
        "language" : "scala"
      },
      "language" : "scala",
      "source" : [
      ],
      "outputs" : [
      ]
    },
    {
      "cell_type" : "code",
      "execution_count" : 7,
      "metadata" : {
        "language" : "scala"
      },
      "language" : "scala",
      "source" : [
      ],
      "outputs" : [
      ]
    },
    {
      "cell_type" : "code",
      "execution_count" : 8,
      "metadata" : {
        "language" : "scala"
      },
      "language" : "scala",
      "source" : [
      ],
      "outputs" : [
      ]
    },
    {
      "cell_type" : "code",
      "execution_count" : 9,
      "metadata" : {
        "language" : "scala"
      },
      "language" : "scala",
      "source" : [
      ],
      "outputs" : [
      ]
    },
    {
      "cell_type" : "code",
      "execution_count" : 10,
      "metadata" : {
        "language" : "scala"
      },
      "language" : "scala",
      "source" : [
      ],
      "outputs" : [
      ]
    }
  ]
}